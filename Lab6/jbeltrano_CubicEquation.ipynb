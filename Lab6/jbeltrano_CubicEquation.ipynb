{
  "nbformat": 4,
  "nbformat_minor": 0,
  "metadata": {
    "colab": {
      "provenance": []
    },
    "kernelspec": {
      "name": "python3",
      "display_name": "Python 3"
    },
    "language_info": {
      "name": "python"
    }
  },
  "cells": [
    {
      "cell_type": "code",
      "source": [
        "import cmath\n",
        "\n",
        "def solve_cubic(b, c, d):\n",
        "\n",
        "    a = 1\n",
        "\n",
        "    d_0 = b**2 -3*a*c\n",
        "    d_1 = 2*b**3 - 9*a*b*c + 27*a**2*d\n",
        "\n",
        "    d_3 = d_1**2 - 4*d_0**3\n",
        "    d_4 = d_1 + cmath.sqrt(d_3)\n",
        "\n",
        "    if(d_4 == 0):\n",
        "      d_4 = d_1 - cmath.sqrt(d_3)\n",
        "\n",
        "    comp = complex(d_4 /2)**(1/3)\n",
        "\n",
        "    xi = - complex(1)**(1/3) * (1j**(2/3))\n",
        "\n",
        "    if(comp == 0):\n",
        "      roots = [-b/(3*a), -b/(3*a), -b/(3*a)]\n",
        "    else:\n",
        "      roots = []\n",
        "      for k in range(3):\n",
        "        root = (-1/(3*a)) * (b + xi**k * comp + d_0 / (xi**k * comp))\n",
        "        roots.append(root)\n",
        "\n",
        "    return roots"
      ],
      "metadata": {
        "id": "aGK0dm8cpIWl"
      },
      "execution_count": 8,
      "outputs": []
    }
  ]
}