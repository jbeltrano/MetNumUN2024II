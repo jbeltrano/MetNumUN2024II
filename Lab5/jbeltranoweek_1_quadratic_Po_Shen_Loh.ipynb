{
  "cells": [
    {
      "cell_type": "markdown",
      "metadata": {
        "id": "view-in-github"
      },
      "source": [
        "<a href=\"https://colab.research.google.com/github/gjhernandezp/NM/blob/main/week_1/week_1_quadratic_Po_Shen_Loh.ipynb\" target=\"_parent\"><img src=\"https://colab.research.google.com/assets/colab-badge.svg\" alt=\"Open In Colab\"/></a>"
      ]
    },
    {
      "cell_type": "code",
      "execution_count": null,
      "metadata": {
        "colab": {
          "base_uri": "https://localhost:8080/",
          "height": 0
        },
        "id": "cC1VlR0iTyAM",
        "outputId": "73ea1b4c-4a8b-44cb-e039-eeae55bb9fa5"
      },
      "outputs": [
        {
          "name": "stdout",
          "output_type": "stream",
          "text": [
            "Roots: (-10000000000.0, -3e-10)\n"
          ]
        }
      ],
      "source": [
        "import math\n",
        "import cmath\n",
        "\n",
        "def solve_quad(b, c):\n",
        "\n",
        "\n",
        "    delta = b**2 - 4*c\n",
        "\n",
        "    if delta >= 0:\n",
        "        sqrt_delta = math.sqrt(delta)\n",
        "    else:\n",
        "        sqrt_delta = cmath.sqrt(delta)\n",
        "\n",
        "    if b > 0:\n",
        "        x1 = (-b - sqrt_delta) / 2\n",
        "    else:\n",
        "        x1 = (-b + sqrt_delta) / 2\n",
        "\n",
        "    x2 = c / x1 if x1 != 0 else (-b - sqrt_delta) / 2\n",
        "\n",
        "    return x1, x2\n"
      ]
    },
    {
      "cell_type": "code",
      "execution_count": null,
      "metadata": {
        "colab": {
          "base_uri": "https://localhost:8080/",
          "height": 0
        },
        "id": "GxQXT4W5ldqs",
        "outputId": "f5a53e0e-4798-47e2-8782-a97ebaa72ff6"
      },
      "outputs": [
        {
          "name": "stdout",
          "output_type": "stream",
          "text": [
            "Result: (0j, (-1-0j), (-1-0j))\n"
          ]
        }
      ],
      "source": [
        "import math\n",
        "import cmath\n",
        "\n",
        "def solve_quad_Po_Shen_Loh(b, c):\n",
        "\n",
        "\n",
        "    delta = (b**2) - 4*c\n",
        "    if delta == b**2:\n",
        "      u = -1\n",
        "      delta = b**2 - 4*c\n",
        "\n",
        "      if delta >= 0:\n",
        "        sqrt_delta = math.sqrt(delta)\n",
        "      else:\n",
        "        sqrt_delta = cmath.sqrt(delta)\n",
        "\n",
        "      if b > 0:\n",
        "        x1 = (-b - sqrt_delta) / 2\n",
        "      else:\n",
        "        x1 = (-b + sqrt_delta) / 2\n",
        "\n",
        "      x2 = c / x1 if x1 != 0 else (-b - sqrt_delta) / 2\n",
        "\n",
        "      return u, x1, x2\n",
        "    else:\n",
        "        u = cmath.sqrt((b/2)**2 - c)\n",
        "\n",
        "    sqrt_delta = cmath.sqrt(delta)\n",
        "\n",
        "    if b > 0:\n",
        "        x1 = (-b - sqrt_delta) / 2\n",
        "    else:\n",
        "        x1 = (-b + sqrt_delta) / 2\n",
        "\n",
        "    x2 = c / x1 if x1 != 0 else (-b - sqrt_delta) / 2\n",
        "\n",
        "    # Forzar -0j en la parte imaginaria cuando sea necesario\n",
        "    def normalize_imag_part(z):\n",
        "        if z.imag == 0:\n",
        "            return complex(z.real, -0.0)\n",
        "        return z\n",
        "\n",
        "    x1 = normalize_imag_part(x1)\n",
        "    x2 = normalize_imag_part(x2)\n",
        "\n",
        "\n",
        "    return u, x2, x1"
      ]
    }
  ],
  "metadata": {
    "colab": {
      "provenance": []
    },
    "kernelspec": {
      "display_name": "Python 3",
      "language": "python",
      "name": "python3"
    },
    "language_info": {
      "codemirror_mode": {
        "name": "ipython",
        "version": 3
      },
      "file_extension": ".py",
      "mimetype": "text/x-python",
      "name": "python",
      "nbconvert_exporter": "python",
      "pygments_lexer": "ipython3",
      "version": "3.5.2"
    }
  },
  "nbformat": 4,
  "nbformat_minor": 0
}
