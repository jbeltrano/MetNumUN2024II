{
  "nbformat": 4,
  "nbformat_minor": 0,
  "metadata": {
    "colab": {
      "provenance": []
    },
    "kernelspec": {
      "name": "python3",
      "display_name": "Python 3"
    },
    "language_info": {
      "name": "python"
    }
  },
  "cells": [
    {
      "cell_type": "markdown",
      "metadata": {
        "id": "view-in-github"
      },
      "source": [
        "<a href=\"https://colab.research.google.com/github/CarlosSandoval-03/MetNumUN2024II/blob/main/LabCramer/csandovalc_LABCramer.ipynb\" target=\"_parent\"><img src=\"https://colab.research.google.com/assets/colab-badge.svg\" alt=\"Open In Colab\"/></a>"
      ]
    },
    {
      "cell_type": "markdown",
      "source": [
        "### Cramer by hand\n",
        "\n",
        "$$A = \\left[\n",
        "  \\begin{array}{cc}\n",
        "1 & 2\\\\\n",
        "3 & 4\n",
        "\\end{array}\n",
        "\\right],  \n",
        "b= \\left[\n",
        "\\begin{array}{c}\n",
        "5\\\\\n",
        "6\n",
        "\\end{array}\n",
        "\\right]\n",
        "$$\n",
        "$$\n",
        "Ax =B\n",
        "$$\n",
        "$$  \n",
        "\\left[\n",
        "  \\begin{array}{cc}\n",
        "1 & 2\\\\\n",
        "3 & 4\n",
        "\\end{array}\n",
        "\\right]\n",
        "\\left[\n",
        "\\begin{array}{c}\n",
        "x_1\\\\\n",
        "x_2\n",
        "\\end{array}\n",
        "\\right]  \n",
        "=\n",
        "\\left[\n",
        "\\begin{array}{c}\n",
        "5\\\\\n",
        "6\n",
        "\\end{array}\n",
        "\\right]\n",
        "$$\n",
        "\n",
        "$$Det\\ A =  (1 * 4) - (3 * 2)  = 4 - 6 = -2$$\n",
        "\n",
        "$$A_1 = \\left[\n",
        "  \\begin{array}{cc}\n",
        "5 & 2\\\\\n",
        "6 & 4\n",
        "\\end{array}\n",
        "\\right]\n",
        "$$\n",
        "\n",
        "$$Det\\ A_1 = (5 * 4) - (6 * 2) = 20 - 12 =  8$$\n",
        "\n",
        "$$x_1 =  \\frac{Det\\ A_1}{Det\\ A}= \\frac{8}{-2} =  -4$$\n",
        "\n",
        "$$A_2 = \\left[\n",
        "  \\begin{array}{cc}\n",
        "1 & 5\\\\\n",
        "3 & 6\n",
        "\\end{array}\n",
        "\\right]\n",
        "$$\n",
        "\n",
        "$$Det\\ A_2 = (1*6) - (3*5)  = 6 -15 = -9$$\n",
        "\n",
        "$$x_2 = \\frac{Det\\ A_2}{Det\\ A}= \\frac{-9}{-2} =  \\frac{9}{2}$$"
      ],
      "metadata": {
        "id": "SUmNm2PmfHU7"
      }
    },
    {
      "cell_type": "markdown",
      "source": [
        "- ***Adding a single digit to any number requires about 7.30 bits of processing.*** - World Mental Calculation: News and Resources for Competitive and Advanced Mental Calculation https://worldmentalcalculation.com/2019/06/30/fastest-possible-processing-speed-of-the-human-brain/\n",
        "\n",
        "- ***The human brain can process 11 million bits of information every second. But our conscious minds can handle only 40 to 50 bits of information a second.*** - Understanding Unconscious Bias https://www.npr.org/2020/07/14/891140598/understanding-unconscious-bias\n",
        "\n",
        "- ***A new way to analyze human reaction times shows that the brain processes data no faster than 60 bits per second.***- New Measure of Human Brain Processing Speed https://www.technologyreview.com/2009/08/25/210267/new-measure-of-human-brain-processing-speed/\n",
        "\n",
        "\n"
      ],
      "metadata": {
        "id": "3rH8z64pk2XV"
      }
    },
    {
      "cell_type": "markdown",
      "source": [
        "# Number of operations to compute a determinant by cofactor expasion\n",
        "- Cofactor expansion https://people.math.carleton.ca/~kcheung/math/notes/MATH1107/07/07_cofactor_expansion.html\n",
        "## Definition of A(i∣j)\n",
        "Let $A$ be an $n\\times n$ matrix. Let $i,j \\in \\{1,…,n\\}$. We define $A(i∣j)$  to be the matrix obtained from $A$ by removing row $i$ and column $j$ from $A$.\n",
        "\n",
        "## Cofactor formula\n",
        "One way of computing the determinant of an $n\\times n$  matrix\n",
        "\n",
        "$$A = \\left[\n",
        "  \\begin{array}{cccc}\n",
        "a_{11} & a_{12} & \\cdots & a_{1n}\\\\\n",
        "a_{21} & a_{22} & \\cdots & a_{2n}\\\\\n",
        "\\vdots  & \\vdots & \\ddots & \\vdots\\\\\n",
        "a_{n1} & a_{n2} & \\cdots & a_{nn}\\\\\n",
        "\\end{array}\n",
        "\\right]\n",
        "$$\n",
        "is to use the following formula called the cofactor formula.\n",
        "\n",
        "Pick either any $i\\ \\in \\{1,…,n\\}$ (fixed row) or $i\\ \\in \\{1,…,n\\}$ (fixed column). Then\n",
        "\n",
        "$$\\det(A)  = \\sum_{j=1}^n (-1)^{i+j}a_{ij} \\det(A(i∣j)) $$\n",
        "\n",
        "\n",
        "$C_{i,j}= (-1)^{i+j}a_{ij} \\det(A(i∣j))$ is called a cofactor of $A$.\n",
        "\n",
        "$$\\det(A)  = \\sum_{j=1}^n C_{i,j} $$\n",
        "\n"
      ],
      "metadata": {
        "id": "CgrSIpDOnaGQ"
      }
    },
    {
      "cell_type": "code",
      "source": [
        "# Code from https://stackoverflow.com/questions/16510111/computing-determinant-of-a-matrix-nxn-recursively\n",
        "\n",
        "import numpy as np\n",
        "\n",
        "def smaller_matrix(original_matrix,row, column):\n",
        "    for ii in range(len(original_matrix)):\n",
        "        new_matrix=np.delete(original_matrix,ii,0)\n",
        "        new_matrix=np.delete(new_matrix,column,1)\n",
        "        return new_matrix\n",
        "\n",
        "\n",
        "def determinant(matrix):\n",
        "    \"\"\"Returns a determinant of a matrix by recursive method.\"\"\"\n",
        "    (r,c) = matrix.shape\n",
        "    if r != c:\n",
        "        print(\"Error!Not a square matrix!\")\n",
        "        return None\n",
        "    elif r==2:\n",
        "        simple_determinant = matrix[0][0]*matrix[1][1]-matrix[0][1]*matrix[1][0]\n",
        "        return simple_determinant\n",
        "    else:\n",
        "        answer=0\n",
        "        for j in range(r):\n",
        "            cofactor = (-1)**(0+j) * matrix[0][j] * determinant(smaller_matrix(matrix, 0, j))\n",
        "            answer+= cofactor\n",
        "        return answer"
      ],
      "metadata": {
        "id": "J-joKRBhC7eF"
      },
      "execution_count": null,
      "outputs": []
    },
    {
      "cell_type": "code",
      "source": [
        "#test the function\n",
        "#Only works for numpy.array input\n",
        "np.random.seed(1)"
      ],
      "metadata": {
        "id": "Il2pcRD4DptG"
      },
      "execution_count": null,
      "outputs": []
    },
    {
      "cell_type": "code",
      "source": [
        "n = 2\n",
        "matrix=np.random.randint(-5,5,size=(n,n))\n",
        "matrix"
      ],
      "metadata": {
        "colab": {
          "base_uri": "https://localhost:8080/"
        },
        "id": "AgKC1-aiFRW2",
        "outputId": "aa5e2613-f3c8-44cc-d00d-0d4306492fd6"
      },
      "execution_count": null,
      "outputs": [
        {
          "output_type": "execute_result",
          "data": {
            "text/plain": [
              "array([[0, 3],\n",
              "       [4, 0]])"
            ]
          },
          "metadata": {},
          "execution_count": 3
        }
      ]
    },
    {
      "cell_type": "code",
      "source": [
        "determinant(matrix)"
      ],
      "metadata": {
        "colab": {
          "base_uri": "https://localhost:8080/"
        },
        "outputId": "508e4c7b-0fde-497e-988c-7b5f411aaa64",
        "id": "oI0rUp-SDptH"
      },
      "execution_count": null,
      "outputs": [
        {
          "output_type": "execute_result",
          "data": {
            "text/plain": [
              "-12"
            ]
          },
          "metadata": {},
          "execution_count": 4
        }
      ]
    },
    {
      "cell_type": "code",
      "source": [
        "np.linalg.det(matrix)"
      ],
      "metadata": {
        "colab": {
          "base_uri": "https://localhost:8080/"
        },
        "id": "iqZv7iK-KKXH",
        "outputId": "57331b9c-b7a5-4202-bc3b-db2cabe76655"
      },
      "execution_count": null,
      "outputs": [
        {
          "output_type": "execute_result",
          "data": {
            "text/plain": [
              "-12.0"
            ]
          },
          "metadata": {},
          "execution_count": 5
        }
      ]
    },
    {
      "cell_type": "code",
      "source": [
        "round(np.linalg.det(matrix))"
      ],
      "metadata": {
        "colab": {
          "base_uri": "https://localhost:8080/"
        },
        "id": "sY21rHM-KdlO",
        "outputId": "735e4de8-b328-403f-bf85-9e5698e03679"
      },
      "execution_count": null,
      "outputs": [
        {
          "output_type": "execute_result",
          "data": {
            "text/plain": [
              "-12"
            ]
          },
          "metadata": {},
          "execution_count": 6
        }
      ]
    },
    {
      "cell_type": "code",
      "source": [
        "n = 5\n",
        "matrix=np.diag(np.random.randint(-10,10,size=(n)))\n",
        "matrix"
      ],
      "metadata": {
        "colab": {
          "base_uri": "https://localhost:8080/"
        },
        "id": "-QXGZWFIDs5k",
        "outputId": "be826962-e86b-4d3e-df9b-a1c89d518401"
      },
      "execution_count": null,
      "outputs": [
        {
          "output_type": "execute_result",
          "data": {
            "text/plain": [
              "array([[  5,   0,   0,   0,   0],\n",
              "       [  0, -10,   0,   0,   0],\n",
              "       [  0,   0,   6,   0,   0],\n",
              "       [  0,   0,   0,  -9,   0],\n",
              "       [  0,   0,   0,   0,   2]])"
            ]
          },
          "metadata": {},
          "execution_count": 7
        }
      ]
    },
    {
      "cell_type": "code",
      "source": [
        "determinant(matrix)"
      ],
      "metadata": {
        "colab": {
          "base_uri": "https://localhost:8080/"
        },
        "id": "VP6hRwhwD-3W",
        "outputId": "89512734-c02d-437f-be62-21b0c0da5a0a"
      },
      "execution_count": null,
      "outputs": [
        {
          "output_type": "execute_result",
          "data": {
            "text/plain": [
              "5400"
            ]
          },
          "metadata": {},
          "execution_count": 8
        }
      ]
    },
    {
      "cell_type": "code",
      "source": [
        "np.linalg.det(matrix)"
      ],
      "metadata": {
        "colab": {
          "base_uri": "https://localhost:8080/"
        },
        "id": "8NV7Zvp-KtRz",
        "outputId": "71d19d0a-3e18-4f20-b8e7-bd219aac7686"
      },
      "execution_count": null,
      "outputs": [
        {
          "output_type": "execute_result",
          "data": {
            "text/plain": [
              "5400.000000000003"
            ]
          },
          "metadata": {},
          "execution_count": 9
        }
      ]
    },
    {
      "cell_type": "code",
      "source": [
        "round(np.linalg.det(matrix))"
      ],
      "metadata": {
        "colab": {
          "base_uri": "https://localhost:8080/"
        },
        "id": "HXKK3weLKt5T",
        "outputId": "47e8ac4a-9b33-4213-abd5-13463a8a3370"
      },
      "execution_count": null,
      "outputs": [
        {
          "output_type": "execute_result",
          "data": {
            "text/plain": [
              "5400"
            ]
          },
          "metadata": {},
          "execution_count": 10
        }
      ]
    },
    {
      "cell_type": "code",
      "source": [
        "# Modified from the previous code\n",
        "import numpy as np\n",
        "\n",
        "# A a squared numpy matrix\n",
        "def det(A):\n",
        "    \"\"\"Returns a determinant of a matrix by recursive method.\"\"\"\n",
        "    (r,c) = A.shape\n",
        "    if r != c:\n",
        "        print(\"Error!Not a square matrix!\")\n",
        "        return None\n",
        "    elif r==1:\n",
        "          # the code with  r==2 is more efficient but we use this\n",
        "         # because the number of operations is easier to compute\n",
        "        return A[0][0]\n",
        "    else:\n",
        "        answer=0\n",
        "        for j in range(r):\n",
        "            s = 1 if (0+j)%2 == 0 else -1\n",
        "            Aij = np.delete(A,0,0)\n",
        "            Aij = np.delete(Aij,j,1)\n",
        "            cofactor = (s) * A[0][j] * det(Aij)\n",
        "            answer+= cofactor\n",
        "        return answer"
      ],
      "metadata": {
        "id": "B258g8lnBgnG"
      },
      "execution_count": null,
      "outputs": []
    },
    {
      "cell_type": "code",
      "source": [
        "#test the function\n",
        "#Only works for numpy.array input\n",
        "np.random.seed(1)"
      ],
      "metadata": {
        "id": "ZR2mjlqiGdM6"
      },
      "execution_count": null,
      "outputs": []
    },
    {
      "cell_type": "code",
      "source": [
        "n = 2\n",
        "A=np.random.randint(-5,5,size=(n,n))\n",
        "A"
      ],
      "metadata": {
        "colab": {
          "base_uri": "https://localhost:8080/"
        },
        "outputId": "2c5b645d-4bad-426b-cf30-1d950f6dffd8",
        "id": "jPpBCFaoGlak"
      },
      "execution_count": null,
      "outputs": [
        {
          "output_type": "execute_result",
          "data": {
            "text/plain": [
              "array([[0, 3],\n",
              "       [4, 0]])"
            ]
          },
          "metadata": {},
          "execution_count": 13
        }
      ]
    },
    {
      "cell_type": "code",
      "source": [
        "det(A)"
      ],
      "metadata": {
        "colab": {
          "base_uri": "https://localhost:8080/"
        },
        "outputId": "7fe56eac-04c1-4200-afb3-800c39c37e88",
        "id": "WKbuirZeGlak"
      },
      "execution_count": null,
      "outputs": [
        {
          "output_type": "execute_result",
          "data": {
            "text/plain": [
              "-12"
            ]
          },
          "metadata": {},
          "execution_count": 14
        }
      ]
    },
    {
      "cell_type": "code",
      "source": [
        "determinant(A)"
      ],
      "metadata": {
        "colab": {
          "base_uri": "https://localhost:8080/"
        },
        "id": "_B5xBFirTvQm",
        "outputId": "0529fd9a-ca29-4483-fb6b-30f9553f927d"
      },
      "execution_count": null,
      "outputs": [
        {
          "output_type": "execute_result",
          "data": {
            "text/plain": [
              "-12"
            ]
          },
          "metadata": {},
          "execution_count": 15
        }
      ]
    },
    {
      "cell_type": "code",
      "source": [
        "np.linalg.det(A)"
      ],
      "metadata": {
        "colab": {
          "base_uri": "https://localhost:8080/"
        },
        "outputId": "1aa28d46-90b2-443a-b0f1-61b7f7b4b623",
        "id": "bRyF2dsFLbXC"
      },
      "execution_count": null,
      "outputs": [
        {
          "output_type": "execute_result",
          "data": {
            "text/plain": [
              "-12.0"
            ]
          },
          "metadata": {},
          "execution_count": 16
        }
      ]
    },
    {
      "cell_type": "code",
      "source": [
        "round(np.linalg.det(A))"
      ],
      "metadata": {
        "colab": {
          "base_uri": "https://localhost:8080/"
        },
        "outputId": "107b0a3e-2bd3-49db-b2d0-9ce4f7e968cb",
        "id": "sOe1w9FPLbXD"
      },
      "execution_count": null,
      "outputs": [
        {
          "output_type": "execute_result",
          "data": {
            "text/plain": [
              "-12"
            ]
          },
          "metadata": {},
          "execution_count": 17
        }
      ]
    },
    {
      "cell_type": "code",
      "source": [
        "n = 10\n",
        "\n",
        "A=np.random.randint(-10,10,size=(n,n))\n",
        "\n",
        "A"
      ],
      "metadata": {
        "colab": {
          "base_uri": "https://localhost:8080/"
        },
        "outputId": "a708816a-2ad0-429a-936b-685a0560a1e1",
        "id": "jzFX1soHGlak"
      },
      "execution_count": null,
      "outputs": [
        {
          "output_type": "execute_result",
          "data": {
            "text/plain": [
              "array([[  5, -10,   6,  -9,   2,  -3,   3,  -4,   8,  -5],\n",
              "       [  8,   1,   0,   4,   8,  -6,  -1,   7, -10,   3],\n",
              "       [ -1,  -1,  -3,  -9, -10,   7,  -2,   3,   9,   5],\n",
              "       [  0,  -2,  -3,  -7,  -4,   7,  -7,  -6,   7,   1],\n",
              "       [  2,   6,   3,   9,  -1,   8,   5, -10,  -6,   5],\n",
              "       [ -8,  -3,  -2,  -1,  -7,  -3,  -6,  -5,   9,  -4],\n",
              "       [ -2, -10,  -8,   0,   5,   5,  -3,   9,   0,   4],\n",
              "       [-10,  -9,   7,   3,  -7, -10,   3,  -4,  -4,  -8],\n",
              "       [  2,   1,  -3,   3,  -2,   1,   2,   1,  -6,  -3],\n",
              "       [ -3,   3,  -6,   6,   8, -10,   3,   0,   7,  -3]])"
            ]
          },
          "metadata": {},
          "execution_count": 18
        }
      ]
    },
    {
      "cell_type": "code",
      "source": [
        "import time\n",
        "\n",
        "start_time = time.time()\n",
        "d = det(A)\n",
        "end_time = time.time()"
      ],
      "metadata": {
        "id": "I97qAqxGGlak"
      },
      "execution_count": null,
      "outputs": []
    },
    {
      "cell_type": "code",
      "source": [
        "print(\"det(A): \",d)\n",
        "print(\"time: \",end_time - start_time)"
      ],
      "metadata": {
        "colab": {
          "base_uri": "https://localhost:8080/"
        },
        "id": "s7Ud-gBiTD0n",
        "outputId": "7f089fd8-23ea-4936-c283-67b0a719a046"
      },
      "execution_count": null,
      "outputs": [
        {
          "output_type": "stream",
          "name": "stdout",
          "text": [
            "det(A):  29129065307\n",
            "time:  73.42712640762329\n"
          ]
        }
      ]
    },
    {
      "cell_type": "code",
      "source": [
        "import time\n",
        "\n",
        "start_time = time.time()\n",
        "d = determinant(A)\n",
        "end_time = time.time()"
      ],
      "metadata": {
        "id": "kjLXFQOeTRd2"
      },
      "execution_count": null,
      "outputs": []
    },
    {
      "cell_type": "code",
      "source": [
        "print(\"determinant(A): \",d)\n",
        "print(\"time: \",end_time - start_time)"
      ],
      "metadata": {
        "colab": {
          "base_uri": "https://localhost:8080/"
        },
        "id": "_TQFWy4ZSiDZ",
        "outputId": "dd851e50-f550-484f-a3a8-1f332adc1709"
      },
      "execution_count": null,
      "outputs": [
        {
          "output_type": "stream",
          "name": "stdout",
          "text": [
            "determinant(A):  29129065307\n",
            "time:  30.36863923072815\n"
          ]
        }
      ]
    },
    {
      "cell_type": "code",
      "source": [
        "import time\n",
        "\n",
        "start_time = time.time()\n",
        "d = np.linalg.det(A)\n",
        "end_time = time.time()"
      ],
      "metadata": {
        "id": "jL23i77VT55-"
      },
      "execution_count": null,
      "outputs": []
    },
    {
      "cell_type": "code",
      "source": [
        "print(\"np.linalg.det(A): \",d)\n",
        "print(\"time: \",end_time - start_time)"
      ],
      "metadata": {
        "colab": {
          "base_uri": "https://localhost:8080/"
        },
        "id": "n94nx14VT5wn",
        "outputId": "101ecfda-c471-4f67-eac4-274fa210bc9b"
      },
      "execution_count": null,
      "outputs": [
        {
          "output_type": "stream",
          "name": "stdout",
          "text": [
            "np.linalg.det(A):  29129065306.99992\n",
            "time:  0.0005490779876708984\n"
          ]
        }
      ]
    },
    {
      "cell_type": "markdown",
      "source": [
        "# Estimating the time by instruction in Python in a Colab machine"
      ],
      "metadata": {
        "id": "Ssedt2z56DNC"
      }
    },
    {
      "cell_type": "code",
      "source": [
        "import numpy as np\n",
        "\n",
        "n = 100\n",
        "\n",
        "A = np.ones((n,n))\n",
        "\n",
        "A"
      ],
      "metadata": {
        "colab": {
          "base_uri": "https://localhost:8080/"
        },
        "id": "1KhlyeNi4uwa",
        "outputId": "f29402d8-8d5d-43e5-ca85-1921e1f91288"
      },
      "execution_count": null,
      "outputs": [
        {
          "output_type": "execute_result",
          "data": {
            "text/plain": [
              "array([[1., 1., 1., ..., 1., 1., 1.],\n",
              "       [1., 1., 1., ..., 1., 1., 1.],\n",
              "       [1., 1., 1., ..., 1., 1., 1.],\n",
              "       ...,\n",
              "       [1., 1., 1., ..., 1., 1., 1.],\n",
              "       [1., 1., 1., ..., 1., 1., 1.],\n",
              "       [1., 1., 1., ..., 1., 1., 1.]])"
            ]
          },
          "metadata": {},
          "execution_count": 25
        }
      ]
    },
    {
      "cell_type": "code",
      "source": [
        "B = np.ones((n,n))\n",
        "\n",
        "B"
      ],
      "metadata": {
        "colab": {
          "base_uri": "https://localhost:8080/"
        },
        "id": "RKtHO3UY5M87",
        "outputId": "6118e38a-19c7-441b-991f-8ee54a0f5d4f"
      },
      "execution_count": null,
      "outputs": [
        {
          "output_type": "execute_result",
          "data": {
            "text/plain": [
              "array([[1., 1., 1., ..., 1., 1., 1.],\n",
              "       [1., 1., 1., ..., 1., 1., 1.],\n",
              "       [1., 1., 1., ..., 1., 1., 1.],\n",
              "       ...,\n",
              "       [1., 1., 1., ..., 1., 1., 1.],\n",
              "       [1., 1., 1., ..., 1., 1., 1.],\n",
              "       [1., 1., 1., ..., 1., 1., 1.]])"
            ]
          },
          "metadata": {},
          "execution_count": 26
        }
      ]
    },
    {
      "cell_type": "code",
      "source": [
        "import time\n",
        "\n",
        "C= np.zeros((n,n))\n",
        "\n",
        "start_time = time.time()\n",
        "for i in range(n):\n",
        "        for j in range(n):\n",
        "            C[i][j] = 0\n",
        "            for k in range(len(A[0])):\n",
        "                C[i][j] += A[i][k] * B[k][j]\n",
        "end_time = time.time()\n",
        "print(end_time - start_time)"
      ],
      "metadata": {
        "colab": {
          "base_uri": "https://localhost:8080/"
        },
        "id": "0UFSLi-F5P0a",
        "outputId": "fc6759ec-a9c4-4907-cbb8-42271f81dc6d"
      },
      "execution_count": null,
      "outputs": [
        {
          "output_type": "stream",
          "name": "stdout",
          "text": [
            "1.164597749710083\n"
          ]
        }
      ]
    },
    {
      "cell_type": "code",
      "source": [
        "C"
      ],
      "metadata": {
        "colab": {
          "base_uri": "https://localhost:8080/"
        },
        "id": "h9zr4Z9P61bs",
        "outputId": "8a9ac143-c50b-44fc-fae8-317ca82c8f66"
      },
      "execution_count": null,
      "outputs": [
        {
          "output_type": "execute_result",
          "data": {
            "text/plain": [
              "array([[100., 100., 100., ..., 100., 100., 100.],\n",
              "       [100., 100., 100., ..., 100., 100., 100.],\n",
              "       [100., 100., 100., ..., 100., 100., 100.],\n",
              "       ...,\n",
              "       [100., 100., 100., ..., 100., 100., 100.],\n",
              "       [100., 100., 100., ..., 100., 100., 100.],\n",
              "       [100., 100., 100., ..., 100., 100., 100.]])"
            ]
          },
          "metadata": {},
          "execution_count": 28
        }
      ]
    },
    {
      "cell_type": "code",
      "source": [
        "time_by_oper_python = (end_time - start_time)/(2*n**3 - n**2)\n",
        "\n",
        "time_by_oper_python"
      ],
      "metadata": {
        "colab": {
          "base_uri": "https://localhost:8080/"
        },
        "id": "iEhaMEK77Ko7",
        "outputId": "16276a38-2f9f-42ac-e402-0a01f0121858"
      },
      "execution_count": null,
      "outputs": [
        {
          "output_type": "execute_result",
          "data": {
            "text/plain": [
              "5.852249998543131e-07"
            ]
          },
          "metadata": {},
          "execution_count": 29
        }
      ]
    },
    {
      "cell_type": "code",
      "source": [
        "import time\n",
        "import numpy as np\n",
        "\n",
        "start_time = time.time()\n",
        "C = A@B\n",
        "end_time = time.time()\n",
        "print(end_time - start_time)"
      ],
      "metadata": {
        "colab": {
          "base_uri": "https://localhost:8080/"
        },
        "id": "TfGsw6UF9o-a",
        "outputId": "dd8e329e-aedc-4458-e61e-1574966c2155"
      },
      "execution_count": null,
      "outputs": [
        {
          "output_type": "stream",
          "name": "stdout",
          "text": [
            "0.0031545162200927734\n"
          ]
        }
      ]
    },
    {
      "cell_type": "code",
      "source": [
        "C"
      ],
      "metadata": {
        "colab": {
          "base_uri": "https://localhost:8080/"
        },
        "id": "Q5MtZtVT93oQ",
        "outputId": "ead52645-d049-40c3-83ba-7375503f94c6"
      },
      "execution_count": null,
      "outputs": [
        {
          "output_type": "execute_result",
          "data": {
            "text/plain": [
              "array([[100., 100., 100., ..., 100., 100., 100.],\n",
              "       [100., 100., 100., ..., 100., 100., 100.],\n",
              "       [100., 100., 100., ..., 100., 100., 100.],\n",
              "       ...,\n",
              "       [100., 100., 100., ..., 100., 100., 100.],\n",
              "       [100., 100., 100., ..., 100., 100., 100.],\n",
              "       [100., 100., 100., ..., 100., 100., 100.]])"
            ]
          },
          "metadata": {},
          "execution_count": 31
        }
      ]
    },
    {
      "cell_type": "code",
      "source": [
        "time_by_oper_numpy = (end_time - start_time)/(2*n**3 - n**2)\n",
        "\n",
        "time_by_oper_numpy"
      ],
      "metadata": {
        "colab": {
          "base_uri": "https://localhost:8080/"
        },
        "id": "DTVYQYxT-TsJ",
        "outputId": "4909d6b5-f819-4476-c3af-49f8e64b2c18"
      },
      "execution_count": null,
      "outputs": [
        {
          "output_type": "execute_result",
          "data": {
            "text/plain": [
              "1.5851840301973736e-09"
            ]
          },
          "metadata": {},
          "execution_count": 32
        }
      ]
    },
    {
      "cell_type": "markdown",
      "source": [
        "# Time estimation for the digital computer computation of a 3 x 3 matrix determinant by cofactor expansion\n",
        "\n",
        "The number of operations $(+,-,*)$ perfomed  *det(A)* algorithm that calculates\n",
        "\n",
        "$$\\det(A)  = \\sum_{j=1}^n (-1)^{i+j}a_{ij} \\det(A(i∣j)) $$\n",
        "\n",
        "is given by\n",
        "\n",
        "$$\\begin{array}{lll}\n",
        "T(n) & =&  nT(n-1) + 5n , T(1) = 1\\\\\n",
        "\\end{array}\n",
        "$$\n",
        "\n",
        "$$\\begin{array}{lll}\n",
        "T(n) & =&  nT(n-1) + 5n\\\\\n",
        "     & =&  n[(n-1) T(n-2) + 5 (n-1) +10] + 5n  \\\\\n",
        "     & =&  n(n-1) T(n-2) + 5 n  (n-1) + 5n \\\\\n",
        "     & =&  n(n-1) [(n-2) T(n-3) + 5 (n-2)] + 5 n(n-1) + 5n\\\\\n",
        "     & = & n(n-1)(n-2) T(n-3) + 5n(n-1)(n-2)+  5 n  (n-1) + 5n \\\\\n",
        "     & \\vdots\\\\\n",
        "     & = &  n(n-1)(n-2)\\cdots (n -(n-2))  T(1) + [5n(n-1)(n-2)(n-3)\\cdots (n -(n-3))] + \\cdots + [5 n (n-1)]+ 5n \\\\\n",
        "    & = & n! + [5n(n-1)(n-2)(n-3)\\cdots 2] + [5n(n-1)(n-2)(n-3)\\cdots 3]+ \\cdots +[5 n (n-1) (n-3)] + [5 n (n-1)]+ 5n  \n",
        "\\end{array}\n",
        "$$\n",
        "\n",
        "$$T(n) = n! + 5 \\sum_{i=0}^{n-1} n!/i! = n! + 5 n!\\sum_{i=0}^{n-1} \\frac{1}{i!} < n! + 5 e n! < 16 n!  $$\n",
        "\n",
        "1. Asumming that an arithmetic operation takes the *time_by_oper_python* estimated before,  what is the maximun square matrix size for which the deteminant can be computed with cofactor extesion in $\\le$ 3 minute. Report the time at [LABCramer](https://docs.google.com/spreadsheets/d/1JNUbuj3QHcyPmp8i6kNreUFucj2mOvKHkCFHHy7zfws/edit?usp=sharing).\n",
        "\n",
        "2. Run an experiment with a random matrix of that size and report the time at [LABCramer](https://docs.google.com/spreadsheets/d/1JNUbuj3QHcyPmp8i6kNreUFucj2mOvKHkCFHHy7zfws/edit?usp=sharing).\n",
        "\n",
        "If the determinant of a $n \\times n$ square matrix takes $16 n!$ operations how much takes the Crammer solution of $n \\times n$ systems of linear equations?\n",
        "\n",
        "\n",
        "\n",
        "\n"
      ],
      "metadata": {
        "id": "PhAai3wzo_Tc"
      }
    },
    {
      "cell_type": "markdown",
      "source": [
        "## Response 1\n",
        "\n",
        "$$T(n) < 16\\ n!$$\n",
        "\n",
        "$$t_{op} = 5.85225 \\cdot 10^{-7}\\ seconds$$\n",
        "\n",
        "$$16\\ n! \\cdot t_{op} < 180\\ seconds$$\n",
        "\n",
        "$$n! \\leq \\frac{180}{16 \\cdot 5.85225 \\cdot 10^{-7}} \\approx 1.9223 \\cdot 10^{7}$$\n",
        "\n",
        "Check values for n:\n",
        "\n",
        "$$10! = 3\\ 628\\ 800 ≈ 3.63 \\cdot 10^{6} < 1.9223 \\cdot 10^{7}$$\n",
        "\n",
        "$$11! = 39\\ 916\\ 800 ≈ 3.99 \\cdot 10^{7} > 1.9223 \\cdot 10^{7}$$\n",
        "\n",
        "Thus, the maximum size is $n = 10$.\n",
        "\n",
        "$$T(10) < 16 \\cdot 10! = 58\\ 060\\ 800 operations$$\n",
        "\n",
        "Multiplying by the per-operation time:\n",
        "\n",
        "$$Time = 58\\ 060\\ 800 \\cdot 5.85225 \\cdot 10^{-7} ≈ 33.97863$$"
      ],
      "metadata": {
        "id": "h3Rc4DCbM3pS"
      }
    },
    {
      "cell_type": "markdown",
      "source": [
        "## Response 2"
      ],
      "metadata": {
        "id": "JuRFvifDTIx_"
      }
    },
    {
      "cell_type": "code",
      "source": [
        "import time\n",
        "\n",
        "n = 11\n",
        "np.random.seed(1201)\n",
        "matrix = np.random.rand(n, n)\n",
        "\n",
        "start_time = time.time()\n",
        "det(matrix)\n",
        "end_time = time.time()\n",
        "print(end_time - start_time)"
      ],
      "metadata": {
        "colab": {
          "base_uri": "https://localhost:8080/"
        },
        "id": "g1947lE2QZ3t",
        "outputId": "2c6619af-1771-403c-e63c-0d3b374e50fa"
      },
      "execution_count": null,
      "outputs": [
        {
          "output_type": "stream",
          "name": "stdout",
          "text": [
            "730.9009001255035\n"
          ]
        }
      ]
    },
    {
      "cell_type": "markdown",
      "source": [
        "# Time estimation for the human computer computation of a 3 x 3 matrix determinant by cofactor expansion\n",
        "\n",
        " Write a 3 x 3 matrix with the first element as your list number Mod 10 and the rest row by row 1,2,3,...9 skipimg the first element, by example if youir list number is 12, your list number Mod 10 is 2 and the matrix is\n",
        "$$A = \\left[\n",
        "  \\begin{array}{ccc}\n",
        "2 & 1 & 3\\\\\n",
        "4 & 5 & 6\\\\\n",
        "7 & 8 & 9\\\\\n",
        "\\end{array}\n",
        "\\right]\n",
        "$$\n",
        "Use a chronometer like http://online-stopwatch.chronme.com/ to estimate the time to compute the determinant by using the procedure in the follo wing exmaple (https://people.math.carleton.ca/~kcheung/math/notes/MATH1107/07/07_cofactor_expansion.html):<br />  \n",
        "Let\n",
        "$$A = \\begin{bmatrix} 10 & 2 & 3\\\\ 4 & 5 & 6\\\\ 7 & 8 & 9 \\end{bmatrix}$$\n",
        "we compute $\\det(A)$ by expanding along row $2$ as <br /> <br />\n",
        "$$\\begin{eqnarray} \\det(A) & = & (-1)^{2+1}A_{2,1}\\det(A(2 \\mid 1)) + (-1)^{2+2}A_{2,2}\\det(A(2 \\mid 2)) + (-1)^{2+3}A_{2,3}\\det(A(2 \\mid 3)) \\\\ & = & -4\\left|\\begin{matrix} 2 & 3 \\\\ 8 & 9\\end{matrix}\\right| + 5\\left|\\begin{matrix} 10 & 3 \\\\ 7 & 9\\end{matrix}\\right| - 6\\left|\\begin{matrix} 10 & 2 \\\\ 7 & 8\\end{matrix}\\right| \\\\ & = & -4(2\\cdot 9 - 3\\cdot 8) + 5(10 \\cdot 9- 3\\cdot 7) - 6(10\\cdot 8 - 2 \\cdot 7) \\\\ & = & 24 + 345 - 396 \\\\ & = & -27\\end{eqnarray}$$\n",
        "\n",
        "3. Report the time at [LABCramer](https://docs.google.com/spreadsheets/d/1JNUbuj3QHcyPmp8i6kNreUFucj2mOvKHkCFHHy7zfws/edit?usp=sharing)\n",
        "4. Report the value of the determinant at [LABCramer](https://docs.google.com/spreadsheets/d/1JNUbuj3QHcyPmp8i6kNreUFucj2mOvKHkCFHHy7zfws/edit?usp=sharing)\n",
        "\n",
        "The one grading verifies with with [matrixcalc](https://matrixcalc.org)\n",
        "\n",
        "The number of operations that we as a human requird to caculate this 3x3 matrix determinat using cofactors is 17.\n",
        "- The number of operations to caculate each cofactor is 5:  1 addition (row + column)  + 1 sign verification (if row + column is even positive and negtive otherwise) + 2 multiplications  + 1 substraction.\n",
        "- The number operations to calculate the 3 cofactors is 3x5 = 15.\n",
        "- To add the 3 cofactores we need (2 additions).\n",
        "- So the total is 3x5 + 2  = 17.\n",
        "\n",
        "\n",
        "\n"
      ],
      "metadata": {
        "id": "__brdhGadAXY"
      }
    },
    {
      "cell_type": "markdown",
      "source": [
        "## Response 3\n",
        "\n",
        "$$7\\ mod\\ 10 \\cong 7$$\n",
        "\n",
        "Matrix:\n",
        "\n",
        "$$A = \\left[\n",
        "  \\begin{array}{ccc}\n",
        "7 & 1 & 2\\\\\n",
        "4 & 5 & 6\\\\\n",
        "7 & 8 & 9\\\\\n",
        "\\end{array}\n",
        "\\right]\n",
        "$$\n",
        "\n",
        "Expanding around col 1.\n",
        "\n",
        "$$ |A| = 7 \\cdot \\left[\n",
        "  \\begin{array}{cc}\n",
        "5 & 6\\\\\n",
        "4 & 5\\\\\n",
        "\\end{array}\n",
        "\\right] - 1 \\cdot \\left[\n",
        "  \\begin{array}{cc}\n",
        "4 & 6\\\\\n",
        "7 & 9\\\\\n",
        "\\end{array}\n",
        "\\right] + 2 \\cdot \\left[\n",
        "  \\begin{array}{cc}\n",
        "4 & 5\\\\\n",
        "7 & 8\\\\\n",
        "\\end{array}\n",
        "\\right]\n",
        "$$\n",
        "\n",
        "Resolving\n",
        "$$|A| = 7 \\cdot (45-48) - 1 \\cdot (36-42) + 2 \\cdot (32-45)$$\n",
        "$$|A| = 7 \\cdot (-3) - 1 \\cdot (-6) + 2 \\cdot (-3)$$\n",
        "$$|A| = -21 +6 - 6$$\n",
        "$$|A| = -21$$\n",
        "\n",
        "### Time\n",
        "![Imagen de WhatsApp 2025-02-24 a las 18.25.22_31a0f893.jpg](data:image/jpeg;base64,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)"
      ],
      "metadata": {
        "id": "z2-mi9ftTH53"
      }
    }
  ]
}