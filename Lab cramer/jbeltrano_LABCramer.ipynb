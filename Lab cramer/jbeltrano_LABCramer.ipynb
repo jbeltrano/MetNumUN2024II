{
  "nbformat": 4,
  "nbformat_minor": 0,
  "metadata": {
    "colab": {
      "provenance": []
    },
    "kernelspec": {
      "name": "python3",
      "display_name": "Python 3"
    },
    "language_info": {
      "name": "python"
    }
  },
  "cells": [
    {
      "cell_type": "markdown",
      "metadata": {
        "id": "view-in-github"
      },
      "source": [
        "<a href=\"https://colab.research.google.com/github/CarlosSandoval-03/MetNumUN2024II/blob/main/LabCramer/csandovalc_LABCramer.ipynb\" target=\"_parent\"><img src=\"https://colab.research.google.com/assets/colab-badge.svg\" alt=\"Open In Colab\"/></a>"
      ]
    },
    {
      "cell_type": "markdown",
      "source": [
        "### Cramer by hand\n",
        "\n",
        "$$A = \\left[\n",
        "  \\begin{array}{cc}\n",
        "1 & 2\\\\\n",
        "3 & 4\n",
        "\\end{array}\n",
        "\\right],  \n",
        "b= \\left[\n",
        "\\begin{array}{c}\n",
        "5\\\\\n",
        "6\n",
        "\\end{array}\n",
        "\\right]\n",
        "$$\n",
        "$$\n",
        "Ax =B\n",
        "$$\n",
        "$$  \n",
        "\\left[\n",
        "  \\begin{array}{cc}\n",
        "1 & 2\\\\\n",
        "3 & 4\n",
        "\\end{array}\n",
        "\\right]\n",
        "\\left[\n",
        "\\begin{array}{c}\n",
        "x_1\\\\\n",
        "x_2\n",
        "\\end{array}\n",
        "\\right]  \n",
        "=\n",
        "\\left[\n",
        "\\begin{array}{c}\n",
        "5\\\\\n",
        "6\n",
        "\\end{array}\n",
        "\\right]\n",
        "$$\n",
        "\n",
        "$$Det\\ A =  (1 * 4) - (3 * 2)  = 4 - 6 = -2$$\n",
        "\n",
        "$$A_1 = \\left[\n",
        "  \\begin{array}{cc}\n",
        "5 & 2\\\\\n",
        "6 & 4\n",
        "\\end{array}\n",
        "\\right]\n",
        "$$\n",
        "\n",
        "$$Det\\ A_1 = (5 * 4) - (6 * 2) = 20 - 12 =  8$$\n",
        "\n",
        "$$x_1 =  \\frac{Det\\ A_1}{Det\\ A}= \\frac{8}{-2} =  -4$$\n",
        "\n",
        "$$A_2 = \\left[\n",
        "  \\begin{array}{cc}\n",
        "1 & 5\\\\\n",
        "3 & 6\n",
        "\\end{array}\n",
        "\\right]\n",
        "$$\n",
        "\n",
        "$$Det\\ A_2 = (1*6) - (3*5)  = 6 -15 = -9$$\n",
        "\n",
        "$$x_2 = \\frac{Det\\ A_2}{Det\\ A}= \\frac{-9}{-2} =  \\frac{9}{2}$$"
      ],
      "metadata": {
        "id": "SUmNm2PmfHU7"
      }
    },
    {
      "cell_type": "markdown",
      "source": [
        "- ***Adding a single digit to any number requires about 7.30 bits of processing.*** - World Mental Calculation: News and Resources for Competitive and Advanced Mental Calculation https://worldmentalcalculation.com/2019/06/30/fastest-possible-processing-speed-of-the-human-brain/\n",
        "\n",
        "- ***The human brain can process 11 million bits of information every second. But our conscious minds can handle only 40 to 50 bits of information a second.*** - Understanding Unconscious Bias https://www.npr.org/2020/07/14/891140598/understanding-unconscious-bias\n",
        "\n",
        "- ***A new way to analyze human reaction times shows that the brain processes data no faster than 60 bits per second.***- New Measure of Human Brain Processing Speed https://www.technologyreview.com/2009/08/25/210267/new-measure-of-human-brain-processing-speed/\n",
        "\n",
        "\n"
      ],
      "metadata": {
        "id": "3rH8z64pk2XV"
      }
    },
    {
      "cell_type": "markdown",
      "source": [
        "# Number of operations to compute a determinant by cofactor expasion\n",
        "- Cofactor expansion https://people.math.carleton.ca/~kcheung/math/notes/MATH1107/07/07_cofactor_expansion.html\n",
        "## Definition of A(i∣j)\n",
        "Let $A$ be an $n\\times n$ matrix. Let $i,j \\in \\{1,…,n\\}$. We define $A(i∣j)$  to be the matrix obtained from $A$ by removing row $i$ and column $j$ from $A$.\n",
        "\n",
        "## Cofactor formula\n",
        "One way of computing the determinant of an $n\\times n$  matrix\n",
        "\n",
        "$$A = \\left[\n",
        "  \\begin{array}{cccc}\n",
        "a_{11} & a_{12} & \\cdots & a_{1n}\\\\\n",
        "a_{21} & a_{22} & \\cdots & a_{2n}\\\\\n",
        "\\vdots  & \\vdots & \\ddots & \\vdots\\\\\n",
        "a_{n1} & a_{n2} & \\cdots & a_{nn}\\\\\n",
        "\\end{array}\n",
        "\\right]\n",
        "$$\n",
        "is to use the following formula called the cofactor formula.\n",
        "\n",
        "Pick either any $i\\ \\in \\{1,…,n\\}$ (fixed row) or $i\\ \\in \\{1,…,n\\}$ (fixed column). Then\n",
        "\n",
        "$$\\det(A)  = \\sum_{j=1}^n (-1)^{i+j}a_{ij} \\det(A(i∣j)) $$\n",
        "\n",
        "\n",
        "$C_{i,j}= (-1)^{i+j}a_{ij} \\det(A(i∣j))$ is called a cofactor of $A$.\n",
        "\n",
        "$$\\det(A)  = \\sum_{j=1}^n C_{i,j} $$\n",
        "\n"
      ],
      "metadata": {
        "id": "CgrSIpDOnaGQ"
      }
    },
    {
      "cell_type": "code",
      "source": [
        "# Code from https://stackoverflow.com/questions/16510111/computing-determinant-of-a-matrix-nxn-recursively\n",
        "\n",
        "import numpy as np\n",
        "\n",
        "def smaller_matrix(original_matrix,row, column):\n",
        "    for ii in range(len(original_matrix)):\n",
        "        new_matrix=np.delete(original_matrix,ii,0)\n",
        "        new_matrix=np.delete(new_matrix,column,1)\n",
        "        return new_matrix\n",
        "\n",
        "\n",
        "def determinant(matrix):\n",
        "    \"\"\"Returns a determinant of a matrix by recursive method.\"\"\"\n",
        "    (r,c) = matrix.shape\n",
        "    if r != c:\n",
        "        print(\"Error!Not a square matrix!\")\n",
        "        return None\n",
        "    elif r==2:\n",
        "        simple_determinant = matrix[0][0]*matrix[1][1]-matrix[0][1]*matrix[1][0]\n",
        "        return simple_determinant\n",
        "    else:\n",
        "        answer=0\n",
        "        for j in range(r):\n",
        "            cofactor = (-1)**(0+j) * matrix[0][j] * determinant(smaller_matrix(matrix, 0, j))\n",
        "            answer+= cofactor\n",
        "        return answer"
      ],
      "metadata": {
        "id": "J-joKRBhC7eF"
      },
      "execution_count": null,
      "outputs": []
    },
    {
      "cell_type": "code",
      "source": [
        "#test the function\n",
        "#Only works for numpy.array input\n",
        "np.random.seed(1)"
      ],
      "metadata": {
        "id": "Il2pcRD4DptG"
      },
      "execution_count": null,
      "outputs": []
    },
    {
      "cell_type": "code",
      "source": [
        "n = 2\n",
        "matrix=np.random.randint(-5,5,size=(n,n))\n",
        "matrix"
      ],
      "metadata": {
        "colab": {
          "base_uri": "https://localhost:8080/"
        },
        "id": "AgKC1-aiFRW2",
        "outputId": "6f136bf3-3a50-4849-9710-7c9168e1902e"
      },
      "execution_count": null,
      "outputs": [
        {
          "output_type": "execute_result",
          "data": {
            "text/plain": [
              "array([[0, 3],\n",
              "       [4, 0]])"
            ]
          },
          "metadata": {},
          "execution_count": 3
        }
      ]
    },
    {
      "cell_type": "code",
      "source": [
        "determinant(matrix)"
      ],
      "metadata": {
        "colab": {
          "base_uri": "https://localhost:8080/"
        },
        "outputId": "06bd8ece-3af2-4d51-a5d1-be251d112fa7",
        "id": "oI0rUp-SDptH"
      },
      "execution_count": null,
      "outputs": [
        {
          "output_type": "execute_result",
          "data": {
            "text/plain": [
              "-12"
            ]
          },
          "metadata": {},
          "execution_count": 4
        }
      ]
    },
    {
      "cell_type": "code",
      "source": [
        "np.linalg.det(matrix)"
      ],
      "metadata": {
        "colab": {
          "base_uri": "https://localhost:8080/"
        },
        "id": "iqZv7iK-KKXH",
        "outputId": "89fd9e0d-1663-4452-a8aa-0d602b3935ac"
      },
      "execution_count": null,
      "outputs": [
        {
          "output_type": "execute_result",
          "data": {
            "text/plain": [
              "-12.0"
            ]
          },
          "metadata": {},
          "execution_count": 5
        }
      ]
    },
    {
      "cell_type": "code",
      "source": [
        "round(np.linalg.det(matrix))"
      ],
      "metadata": {
        "colab": {
          "base_uri": "https://localhost:8080/"
        },
        "id": "sY21rHM-KdlO",
        "outputId": "942749e4-f2e2-45ba-c7b0-5032f4dad587"
      },
      "execution_count": null,
      "outputs": [
        {
          "output_type": "execute_result",
          "data": {
            "text/plain": [
              "-12"
            ]
          },
          "metadata": {},
          "execution_count": 6
        }
      ]
    },
    {
      "cell_type": "code",
      "source": [
        "n = 5\n",
        "matrix=np.diag(np.random.randint(-10,10,size=(n)))\n",
        "matrix"
      ],
      "metadata": {
        "colab": {
          "base_uri": "https://localhost:8080/"
        },
        "id": "-QXGZWFIDs5k",
        "outputId": "2aee6145-797d-4cdc-eed2-6e6ac622fd5a"
      },
      "execution_count": null,
      "outputs": [
        {
          "output_type": "execute_result",
          "data": {
            "text/plain": [
              "array([[  5,   0,   0,   0,   0],\n",
              "       [  0, -10,   0,   0,   0],\n",
              "       [  0,   0,   6,   0,   0],\n",
              "       [  0,   0,   0,  -9,   0],\n",
              "       [  0,   0,   0,   0,   2]])"
            ]
          },
          "metadata": {},
          "execution_count": 7
        }
      ]
    },
    {
      "cell_type": "code",
      "source": [
        "determinant(matrix)"
      ],
      "metadata": {
        "colab": {
          "base_uri": "https://localhost:8080/"
        },
        "id": "VP6hRwhwD-3W",
        "outputId": "a12b7a2d-ee23-4ffe-8ecf-d0474448ac87"
      },
      "execution_count": null,
      "outputs": [
        {
          "output_type": "execute_result",
          "data": {
            "text/plain": [
              "5400"
            ]
          },
          "metadata": {},
          "execution_count": 8
        }
      ]
    },
    {
      "cell_type": "code",
      "source": [
        "np.linalg.det(matrix)"
      ],
      "metadata": {
        "colab": {
          "base_uri": "https://localhost:8080/"
        },
        "id": "8NV7Zvp-KtRz",
        "outputId": "f0a82dca-9954-4f3e-ff69-8f3aec8207c7"
      },
      "execution_count": null,
      "outputs": [
        {
          "output_type": "execute_result",
          "data": {
            "text/plain": [
              "5400.000000000003"
            ]
          },
          "metadata": {},
          "execution_count": 9
        }
      ]
    },
    {
      "cell_type": "code",
      "source": [
        "round(np.linalg.det(matrix))"
      ],
      "metadata": {
        "colab": {
          "base_uri": "https://localhost:8080/"
        },
        "id": "HXKK3weLKt5T",
        "outputId": "53b9faba-3db8-49d4-fecc-eb16a815de78"
      },
      "execution_count": null,
      "outputs": [
        {
          "output_type": "execute_result",
          "data": {
            "text/plain": [
              "5400"
            ]
          },
          "metadata": {},
          "execution_count": 10
        }
      ]
    },
    {
      "cell_type": "code",
      "source": [
        "# Modified from the previous code\n",
        "import numpy as np\n",
        "\n",
        "# A a squared numpy matrix\n",
        "def det(A):\n",
        "    \"\"\"Returns a determinant of a matrix by recursive method.\"\"\"\n",
        "    (r,c) = A.shape\n",
        "    if r != c:\n",
        "        print(\"Error!Not a square matrix!\")\n",
        "        return None\n",
        "    elif r==1:\n",
        "          # the code with  r==2 is more efficient but we use this\n",
        "         # because the number of operations is easier to compute\n",
        "        return A[0][0]\n",
        "    else:\n",
        "        answer=0\n",
        "        for j in range(r):\n",
        "            s = 1 if (0+j)%2 == 0 else -1\n",
        "            Aij = np.delete(A,0,0)\n",
        "            Aij = np.delete(Aij,j,1)\n",
        "            cofactor = (s) * A[0][j] * det(Aij)\n",
        "            answer+= cofactor\n",
        "        return answer"
      ],
      "metadata": {
        "id": "B258g8lnBgnG"
      },
      "execution_count": null,
      "outputs": []
    },
    {
      "cell_type": "code",
      "source": [
        "#test the function\n",
        "#Only works for numpy.array input\n",
        "np.random.seed(1)"
      ],
      "metadata": {
        "id": "ZR2mjlqiGdM6"
      },
      "execution_count": null,
      "outputs": []
    },
    {
      "cell_type": "code",
      "source": [
        "n = 2\n",
        "A=np.random.randint(-5,5,size=(n,n))\n",
        "A"
      ],
      "metadata": {
        "colab": {
          "base_uri": "https://localhost:8080/"
        },
        "outputId": "445b20c4-37e6-4f05-d0ca-cc45fa13c01b",
        "id": "jPpBCFaoGlak"
      },
      "execution_count": null,
      "outputs": [
        {
          "output_type": "execute_result",
          "data": {
            "text/plain": [
              "array([[0, 3],\n",
              "       [4, 0]])"
            ]
          },
          "metadata": {},
          "execution_count": 13
        }
      ]
    },
    {
      "cell_type": "code",
      "source": [
        "det(A)"
      ],
      "metadata": {
        "colab": {
          "base_uri": "https://localhost:8080/"
        },
        "outputId": "fe0d665e-d296-4744-b4a6-855d6b1446d3",
        "id": "WKbuirZeGlak"
      },
      "execution_count": null,
      "outputs": [
        {
          "output_type": "execute_result",
          "data": {
            "text/plain": [
              "-12"
            ]
          },
          "metadata": {},
          "execution_count": 14
        }
      ]
    },
    {
      "cell_type": "code",
      "source": [
        "determinant(A)"
      ],
      "metadata": {
        "colab": {
          "base_uri": "https://localhost:8080/"
        },
        "id": "_B5xBFirTvQm",
        "outputId": "f48f48de-d005-4145-ed90-f1a7691e3359"
      },
      "execution_count": null,
      "outputs": [
        {
          "output_type": "execute_result",
          "data": {
            "text/plain": [
              "-12"
            ]
          },
          "metadata": {},
          "execution_count": 15
        }
      ]
    },
    {
      "cell_type": "code",
      "source": [
        "np.linalg.det(A)"
      ],
      "metadata": {
        "colab": {
          "base_uri": "https://localhost:8080/"
        },
        "outputId": "537ddc61-6188-4deb-945a-08fbceac9dd1",
        "id": "bRyF2dsFLbXC"
      },
      "execution_count": null,
      "outputs": [
        {
          "output_type": "execute_result",
          "data": {
            "text/plain": [
              "-12.0"
            ]
          },
          "metadata": {},
          "execution_count": 16
        }
      ]
    },
    {
      "cell_type": "code",
      "source": [
        "round(np.linalg.det(A))"
      ],
      "metadata": {
        "colab": {
          "base_uri": "https://localhost:8080/"
        },
        "outputId": "ccbd1300-2e27-4f2c-b46e-065ed6e9f5ec",
        "id": "sOe1w9FPLbXD"
      },
      "execution_count": null,
      "outputs": [
        {
          "output_type": "execute_result",
          "data": {
            "text/plain": [
              "-12"
            ]
          },
          "metadata": {},
          "execution_count": 17
        }
      ]
    },
    {
      "cell_type": "code",
      "source": [
        "n = 10\n",
        "\n",
        "A=np.random.randint(-10,10,size=(n,n))\n",
        "\n",
        "A"
      ],
      "metadata": {
        "colab": {
          "base_uri": "https://localhost:8080/"
        },
        "outputId": "ba897b84-69f2-4c81-aa56-f8730c56a18b",
        "id": "jzFX1soHGlak"
      },
      "execution_count": null,
      "outputs": [
        {
          "output_type": "execute_result",
          "data": {
            "text/plain": [
              "array([[  5, -10,   6,  -9,   2,  -3,   3,  -4,   8,  -5],\n",
              "       [  8,   1,   0,   4,   8,  -6,  -1,   7, -10,   3],\n",
              "       [ -1,  -1,  -3,  -9, -10,   7,  -2,   3,   9,   5],\n",
              "       [  0,  -2,  -3,  -7,  -4,   7,  -7,  -6,   7,   1],\n",
              "       [  2,   6,   3,   9,  -1,   8,   5, -10,  -6,   5],\n",
              "       [ -8,  -3,  -2,  -1,  -7,  -3,  -6,  -5,   9,  -4],\n",
              "       [ -2, -10,  -8,   0,   5,   5,  -3,   9,   0,   4],\n",
              "       [-10,  -9,   7,   3,  -7, -10,   3,  -4,  -4,  -8],\n",
              "       [  2,   1,  -3,   3,  -2,   1,   2,   1,  -6,  -3],\n",
              "       [ -3,   3,  -6,   6,   8, -10,   3,   0,   7,  -3]])"
            ]
          },
          "metadata": {},
          "execution_count": 18
        }
      ]
    },
    {
      "cell_type": "code",
      "source": [
        "import time\n",
        "\n",
        "start_time = time.time()\n",
        "d = det(A)\n",
        "end_time = time.time()"
      ],
      "metadata": {
        "id": "I97qAqxGGlak"
      },
      "execution_count": null,
      "outputs": []
    },
    {
      "cell_type": "code",
      "source": [
        "print(\"det(A): \",d)\n",
        "print(\"time: \",end_time - start_time)"
      ],
      "metadata": {
        "id": "s7Ud-gBiTD0n"
      },
      "execution_count": null,
      "outputs": []
    },
    {
      "cell_type": "code",
      "source": [
        "import time\n",
        "\n",
        "start_time = time.time()\n",
        "d = determinant(A)\n",
        "end_time = time.time()"
      ],
      "metadata": {
        "id": "kjLXFQOeTRd2",
        "colab": {
          "base_uri": "https://localhost:8080/",
          "height": 339
        },
        "outputId": "3434f062-3e5c-40a2-af85-0d6a30b9fc4a"
      },
      "execution_count": null,
      "outputs": [
        {
          "output_type": "error",
          "ename": "KeyboardInterrupt",
          "evalue": "",
          "traceback": [
            "\u001b[0;31m---------------------------------------------------------------------------\u001b[0m",
            "\u001b[0;31mKeyboardInterrupt\u001b[0m                         Traceback (most recent call last)",
            "\u001b[0;32m<ipython-input-40-c781a02c7266>\u001b[0m in \u001b[0;36m<cell line: 0>\u001b[0;34m()\u001b[0m\n\u001b[1;32m      2\u001b[0m \u001b[0;34m\u001b[0m\u001b[0m\n\u001b[1;32m      3\u001b[0m \u001b[0mstart_time\u001b[0m \u001b[0;34m=\u001b[0m \u001b[0mtime\u001b[0m\u001b[0;34m.\u001b[0m\u001b[0mtime\u001b[0m\u001b[0;34m(\u001b[0m\u001b[0;34m)\u001b[0m\u001b[0;34m\u001b[0m\u001b[0;34m\u001b[0m\u001b[0m\n\u001b[0;32m----> 4\u001b[0;31m \u001b[0md\u001b[0m \u001b[0;34m=\u001b[0m \u001b[0mdeterminant\u001b[0m\u001b[0;34m(\u001b[0m\u001b[0mA\u001b[0m\u001b[0;34m)\u001b[0m\u001b[0;34m\u001b[0m\u001b[0;34m\u001b[0m\u001b[0m\n\u001b[0m\u001b[1;32m      5\u001b[0m \u001b[0mend_time\u001b[0m \u001b[0;34m=\u001b[0m \u001b[0mtime\u001b[0m\u001b[0;34m.\u001b[0m\u001b[0mtime\u001b[0m\u001b[0;34m(\u001b[0m\u001b[0;34m)\u001b[0m\u001b[0;34m\u001b[0m\u001b[0;34m\u001b[0m\u001b[0m\n",
            "\u001b[0;32m<ipython-input-14-d9faf92d0bb6>\u001b[0m in \u001b[0;36mdeterminant\u001b[0;34m(matrix)\u001b[0m\n\u001b[1;32m     22\u001b[0m         \u001b[0manswer\u001b[0m\u001b[0;34m=\u001b[0m\u001b[0;36m0\u001b[0m\u001b[0;34m\u001b[0m\u001b[0;34m\u001b[0m\u001b[0m\n\u001b[1;32m     23\u001b[0m         \u001b[0;32mfor\u001b[0m \u001b[0mj\u001b[0m \u001b[0;32min\u001b[0m \u001b[0mrange\u001b[0m\u001b[0;34m(\u001b[0m\u001b[0mr\u001b[0m\u001b[0;34m)\u001b[0m\u001b[0;34m:\u001b[0m\u001b[0;34m\u001b[0m\u001b[0;34m\u001b[0m\u001b[0m\n\u001b[0;32m---> 24\u001b[0;31m             \u001b[0mcofactor\u001b[0m \u001b[0;34m=\u001b[0m \u001b[0;34m(\u001b[0m\u001b[0;34m-\u001b[0m\u001b[0;36m1\u001b[0m\u001b[0;34m)\u001b[0m\u001b[0;34m**\u001b[0m\u001b[0;34m(\u001b[0m\u001b[0;36m0\u001b[0m\u001b[0;34m+\u001b[0m\u001b[0mj\u001b[0m\u001b[0;34m)\u001b[0m \u001b[0;34m*\u001b[0m \u001b[0mmatrix\u001b[0m\u001b[0;34m[\u001b[0m\u001b[0;36m0\u001b[0m\u001b[0;34m]\u001b[0m\u001b[0;34m[\u001b[0m\u001b[0mj\u001b[0m\u001b[0;34m]\u001b[0m \u001b[0;34m*\u001b[0m \u001b[0mdeterminant\u001b[0m\u001b[0;34m(\u001b[0m\u001b[0msmaller_matrix\u001b[0m\u001b[0;34m(\u001b[0m\u001b[0mmatrix\u001b[0m\u001b[0;34m,\u001b[0m \u001b[0;36m0\u001b[0m\u001b[0;34m,\u001b[0m \u001b[0mj\u001b[0m\u001b[0;34m)\u001b[0m\u001b[0;34m)\u001b[0m\u001b[0;34m\u001b[0m\u001b[0;34m\u001b[0m\u001b[0m\n\u001b[0m\u001b[1;32m     25\u001b[0m             \u001b[0manswer\u001b[0m\u001b[0;34m+=\u001b[0m \u001b[0mcofactor\u001b[0m\u001b[0;34m\u001b[0m\u001b[0;34m\u001b[0m\u001b[0m\n\u001b[1;32m     26\u001b[0m         \u001b[0;32mreturn\u001b[0m \u001b[0manswer\u001b[0m\u001b[0;34m\u001b[0m\u001b[0;34m\u001b[0m\u001b[0m\n",
            "\u001b[0;32m<ipython-input-14-d9faf92d0bb6>\u001b[0m in \u001b[0;36mdeterminant\u001b[0;34m(matrix)\u001b[0m\n\u001b[1;32m     22\u001b[0m         \u001b[0manswer\u001b[0m\u001b[0;34m=\u001b[0m\u001b[0;36m0\u001b[0m\u001b[0;34m\u001b[0m\u001b[0;34m\u001b[0m\u001b[0m\n\u001b[1;32m     23\u001b[0m         \u001b[0;32mfor\u001b[0m \u001b[0mj\u001b[0m \u001b[0;32min\u001b[0m \u001b[0mrange\u001b[0m\u001b[0;34m(\u001b[0m\u001b[0mr\u001b[0m\u001b[0;34m)\u001b[0m\u001b[0;34m:\u001b[0m\u001b[0;34m\u001b[0m\u001b[0;34m\u001b[0m\u001b[0m\n\u001b[0;32m---> 24\u001b[0;31m             \u001b[0mcofactor\u001b[0m \u001b[0;34m=\u001b[0m \u001b[0;34m(\u001b[0m\u001b[0;34m-\u001b[0m\u001b[0;36m1\u001b[0m\u001b[0;34m)\u001b[0m\u001b[0;34m**\u001b[0m\u001b[0;34m(\u001b[0m\u001b[0;36m0\u001b[0m\u001b[0;34m+\u001b[0m\u001b[0mj\u001b[0m\u001b[0;34m)\u001b[0m \u001b[0;34m*\u001b[0m \u001b[0mmatrix\u001b[0m\u001b[0;34m[\u001b[0m\u001b[0;36m0\u001b[0m\u001b[0;34m]\u001b[0m\u001b[0;34m[\u001b[0m\u001b[0mj\u001b[0m\u001b[0;34m]\u001b[0m \u001b[0;34m*\u001b[0m \u001b[0mdeterminant\u001b[0m\u001b[0;34m(\u001b[0m\u001b[0msmaller_matrix\u001b[0m\u001b[0;34m(\u001b[0m\u001b[0mmatrix\u001b[0m\u001b[0;34m,\u001b[0m \u001b[0;36m0\u001b[0m\u001b[0;34m,\u001b[0m \u001b[0mj\u001b[0m\u001b[0;34m)\u001b[0m\u001b[0;34m)\u001b[0m\u001b[0;34m\u001b[0m\u001b[0;34m\u001b[0m\u001b[0m\n\u001b[0m\u001b[1;32m     25\u001b[0m             \u001b[0manswer\u001b[0m\u001b[0;34m+=\u001b[0m \u001b[0mcofactor\u001b[0m\u001b[0;34m\u001b[0m\u001b[0;34m\u001b[0m\u001b[0m\n\u001b[1;32m     26\u001b[0m         \u001b[0;32mreturn\u001b[0m \u001b[0manswer\u001b[0m\u001b[0;34m\u001b[0m\u001b[0;34m\u001b[0m\u001b[0m\n",
            "\u001b[0;32m<ipython-input-14-d9faf92d0bb6>\u001b[0m in \u001b[0;36mdeterminant\u001b[0;34m(matrix)\u001b[0m\n\u001b[1;32m     22\u001b[0m         \u001b[0manswer\u001b[0m\u001b[0;34m=\u001b[0m\u001b[0;36m0\u001b[0m\u001b[0;34m\u001b[0m\u001b[0;34m\u001b[0m\u001b[0m\n\u001b[1;32m     23\u001b[0m         \u001b[0;32mfor\u001b[0m \u001b[0mj\u001b[0m \u001b[0;32min\u001b[0m \u001b[0mrange\u001b[0m\u001b[0;34m(\u001b[0m\u001b[0mr\u001b[0m\u001b[0;34m)\u001b[0m\u001b[0;34m:\u001b[0m\u001b[0;34m\u001b[0m\u001b[0;34m\u001b[0m\u001b[0m\n\u001b[0;32m---> 24\u001b[0;31m             \u001b[0mcofactor\u001b[0m \u001b[0;34m=\u001b[0m \u001b[0;34m(\u001b[0m\u001b[0;34m-\u001b[0m\u001b[0;36m1\u001b[0m\u001b[0;34m)\u001b[0m\u001b[0;34m**\u001b[0m\u001b[0;34m(\u001b[0m\u001b[0;36m0\u001b[0m\u001b[0;34m+\u001b[0m\u001b[0mj\u001b[0m\u001b[0;34m)\u001b[0m \u001b[0;34m*\u001b[0m \u001b[0mmatrix\u001b[0m\u001b[0;34m[\u001b[0m\u001b[0;36m0\u001b[0m\u001b[0;34m]\u001b[0m\u001b[0;34m[\u001b[0m\u001b[0mj\u001b[0m\u001b[0;34m]\u001b[0m \u001b[0;34m*\u001b[0m \u001b[0mdeterminant\u001b[0m\u001b[0;34m(\u001b[0m\u001b[0msmaller_matrix\u001b[0m\u001b[0;34m(\u001b[0m\u001b[0mmatrix\u001b[0m\u001b[0;34m,\u001b[0m \u001b[0;36m0\u001b[0m\u001b[0;34m,\u001b[0m \u001b[0mj\u001b[0m\u001b[0;34m)\u001b[0m\u001b[0;34m)\u001b[0m\u001b[0;34m\u001b[0m\u001b[0;34m\u001b[0m\u001b[0m\n\u001b[0m\u001b[1;32m     25\u001b[0m             \u001b[0manswer\u001b[0m\u001b[0;34m+=\u001b[0m \u001b[0mcofactor\u001b[0m\u001b[0;34m\u001b[0m\u001b[0;34m\u001b[0m\u001b[0m\n\u001b[1;32m     26\u001b[0m         \u001b[0;32mreturn\u001b[0m \u001b[0manswer\u001b[0m\u001b[0;34m\u001b[0m\u001b[0;34m\u001b[0m\u001b[0m\n",
            "\u001b[0;32m<ipython-input-14-d9faf92d0bb6>\u001b[0m in \u001b[0;36mdeterminant\u001b[0;34m(matrix)\u001b[0m\n\u001b[1;32m     22\u001b[0m         \u001b[0manswer\u001b[0m\u001b[0;34m=\u001b[0m\u001b[0;36m0\u001b[0m\u001b[0;34m\u001b[0m\u001b[0;34m\u001b[0m\u001b[0m\n\u001b[1;32m     23\u001b[0m         \u001b[0;32mfor\u001b[0m \u001b[0mj\u001b[0m \u001b[0;32min\u001b[0m \u001b[0mrange\u001b[0m\u001b[0;34m(\u001b[0m\u001b[0mr\u001b[0m\u001b[0;34m)\u001b[0m\u001b[0;34m:\u001b[0m\u001b[0;34m\u001b[0m\u001b[0;34m\u001b[0m\u001b[0m\n\u001b[0;32m---> 24\u001b[0;31m             \u001b[0mcofactor\u001b[0m \u001b[0;34m=\u001b[0m \u001b[0;34m(\u001b[0m\u001b[0;34m-\u001b[0m\u001b[0;36m1\u001b[0m\u001b[0;34m)\u001b[0m\u001b[0;34m**\u001b[0m\u001b[0;34m(\u001b[0m\u001b[0;36m0\u001b[0m\u001b[0;34m+\u001b[0m\u001b[0mj\u001b[0m\u001b[0;34m)\u001b[0m \u001b[0;34m*\u001b[0m \u001b[0mmatrix\u001b[0m\u001b[0;34m[\u001b[0m\u001b[0;36m0\u001b[0m\u001b[0;34m]\u001b[0m\u001b[0;34m[\u001b[0m\u001b[0mj\u001b[0m\u001b[0;34m]\u001b[0m \u001b[0;34m*\u001b[0m \u001b[0mdeterminant\u001b[0m\u001b[0;34m(\u001b[0m\u001b[0msmaller_matrix\u001b[0m\u001b[0;34m(\u001b[0m\u001b[0mmatrix\u001b[0m\u001b[0;34m,\u001b[0m \u001b[0;36m0\u001b[0m\u001b[0;34m,\u001b[0m \u001b[0mj\u001b[0m\u001b[0;34m)\u001b[0m\u001b[0;34m)\u001b[0m\u001b[0;34m\u001b[0m\u001b[0;34m\u001b[0m\u001b[0m\n\u001b[0m\u001b[1;32m     25\u001b[0m             \u001b[0manswer\u001b[0m\u001b[0;34m+=\u001b[0m \u001b[0mcofactor\u001b[0m\u001b[0;34m\u001b[0m\u001b[0;34m\u001b[0m\u001b[0m\n\u001b[1;32m     26\u001b[0m         \u001b[0;32mreturn\u001b[0m \u001b[0manswer\u001b[0m\u001b[0;34m\u001b[0m\u001b[0;34m\u001b[0m\u001b[0m\n",
            "\u001b[0;32m<ipython-input-14-d9faf92d0bb6>\u001b[0m in \u001b[0;36mdeterminant\u001b[0;34m(matrix)\u001b[0m\n\u001b[1;32m     22\u001b[0m         \u001b[0manswer\u001b[0m\u001b[0;34m=\u001b[0m\u001b[0;36m0\u001b[0m\u001b[0;34m\u001b[0m\u001b[0;34m\u001b[0m\u001b[0m\n\u001b[1;32m     23\u001b[0m         \u001b[0;32mfor\u001b[0m \u001b[0mj\u001b[0m \u001b[0;32min\u001b[0m \u001b[0mrange\u001b[0m\u001b[0;34m(\u001b[0m\u001b[0mr\u001b[0m\u001b[0;34m)\u001b[0m\u001b[0;34m:\u001b[0m\u001b[0;34m\u001b[0m\u001b[0;34m\u001b[0m\u001b[0m\n\u001b[0;32m---> 24\u001b[0;31m             \u001b[0mcofactor\u001b[0m \u001b[0;34m=\u001b[0m \u001b[0;34m(\u001b[0m\u001b[0;34m-\u001b[0m\u001b[0;36m1\u001b[0m\u001b[0;34m)\u001b[0m\u001b[0;34m**\u001b[0m\u001b[0;34m(\u001b[0m\u001b[0;36m0\u001b[0m\u001b[0;34m+\u001b[0m\u001b[0mj\u001b[0m\u001b[0;34m)\u001b[0m \u001b[0;34m*\u001b[0m \u001b[0mmatrix\u001b[0m\u001b[0;34m[\u001b[0m\u001b[0;36m0\u001b[0m\u001b[0;34m]\u001b[0m\u001b[0;34m[\u001b[0m\u001b[0mj\u001b[0m\u001b[0;34m]\u001b[0m \u001b[0;34m*\u001b[0m \u001b[0mdeterminant\u001b[0m\u001b[0;34m(\u001b[0m\u001b[0msmaller_matrix\u001b[0m\u001b[0;34m(\u001b[0m\u001b[0mmatrix\u001b[0m\u001b[0;34m,\u001b[0m \u001b[0;36m0\u001b[0m\u001b[0;34m,\u001b[0m \u001b[0mj\u001b[0m\u001b[0;34m)\u001b[0m\u001b[0;34m)\u001b[0m\u001b[0;34m\u001b[0m\u001b[0;34m\u001b[0m\u001b[0m\n\u001b[0m\u001b[1;32m     25\u001b[0m             \u001b[0manswer\u001b[0m\u001b[0;34m+=\u001b[0m \u001b[0mcofactor\u001b[0m\u001b[0;34m\u001b[0m\u001b[0;34m\u001b[0m\u001b[0m\n\u001b[1;32m     26\u001b[0m         \u001b[0;32mreturn\u001b[0m \u001b[0manswer\u001b[0m\u001b[0;34m\u001b[0m\u001b[0;34m\u001b[0m\u001b[0m\n",
            "\u001b[0;32m<ipython-input-14-d9faf92d0bb6>\u001b[0m in \u001b[0;36mdeterminant\u001b[0;34m(matrix)\u001b[0m\n\u001b[1;32m     22\u001b[0m         \u001b[0manswer\u001b[0m\u001b[0;34m=\u001b[0m\u001b[0;36m0\u001b[0m\u001b[0;34m\u001b[0m\u001b[0;34m\u001b[0m\u001b[0m\n\u001b[1;32m     23\u001b[0m         \u001b[0;32mfor\u001b[0m \u001b[0mj\u001b[0m \u001b[0;32min\u001b[0m \u001b[0mrange\u001b[0m\u001b[0;34m(\u001b[0m\u001b[0mr\u001b[0m\u001b[0;34m)\u001b[0m\u001b[0;34m:\u001b[0m\u001b[0;34m\u001b[0m\u001b[0;34m\u001b[0m\u001b[0m\n\u001b[0;32m---> 24\u001b[0;31m             \u001b[0mcofactor\u001b[0m \u001b[0;34m=\u001b[0m \u001b[0;34m(\u001b[0m\u001b[0;34m-\u001b[0m\u001b[0;36m1\u001b[0m\u001b[0;34m)\u001b[0m\u001b[0;34m**\u001b[0m\u001b[0;34m(\u001b[0m\u001b[0;36m0\u001b[0m\u001b[0;34m+\u001b[0m\u001b[0mj\u001b[0m\u001b[0;34m)\u001b[0m \u001b[0;34m*\u001b[0m \u001b[0mmatrix\u001b[0m\u001b[0;34m[\u001b[0m\u001b[0;36m0\u001b[0m\u001b[0;34m]\u001b[0m\u001b[0;34m[\u001b[0m\u001b[0mj\u001b[0m\u001b[0;34m]\u001b[0m \u001b[0;34m*\u001b[0m \u001b[0mdeterminant\u001b[0m\u001b[0;34m(\u001b[0m\u001b[0msmaller_matrix\u001b[0m\u001b[0;34m(\u001b[0m\u001b[0mmatrix\u001b[0m\u001b[0;34m,\u001b[0m \u001b[0;36m0\u001b[0m\u001b[0;34m,\u001b[0m \u001b[0mj\u001b[0m\u001b[0;34m)\u001b[0m\u001b[0;34m)\u001b[0m\u001b[0;34m\u001b[0m\u001b[0;34m\u001b[0m\u001b[0m\n\u001b[0m\u001b[1;32m     25\u001b[0m             \u001b[0manswer\u001b[0m\u001b[0;34m+=\u001b[0m \u001b[0mcofactor\u001b[0m\u001b[0;34m\u001b[0m\u001b[0;34m\u001b[0m\u001b[0m\n\u001b[1;32m     26\u001b[0m         \u001b[0;32mreturn\u001b[0m \u001b[0manswer\u001b[0m\u001b[0;34m\u001b[0m\u001b[0;34m\u001b[0m\u001b[0m\n",
            "\u001b[0;32m<ipython-input-14-d9faf92d0bb6>\u001b[0m in \u001b[0;36mdeterminant\u001b[0;34m(matrix)\u001b[0m\n\u001b[1;32m     22\u001b[0m         \u001b[0manswer\u001b[0m\u001b[0;34m=\u001b[0m\u001b[0;36m0\u001b[0m\u001b[0;34m\u001b[0m\u001b[0;34m\u001b[0m\u001b[0m\n\u001b[1;32m     23\u001b[0m         \u001b[0;32mfor\u001b[0m \u001b[0mj\u001b[0m \u001b[0;32min\u001b[0m \u001b[0mrange\u001b[0m\u001b[0;34m(\u001b[0m\u001b[0mr\u001b[0m\u001b[0;34m)\u001b[0m\u001b[0;34m:\u001b[0m\u001b[0;34m\u001b[0m\u001b[0;34m\u001b[0m\u001b[0m\n\u001b[0;32m---> 24\u001b[0;31m             \u001b[0mcofactor\u001b[0m \u001b[0;34m=\u001b[0m \u001b[0;34m(\u001b[0m\u001b[0;34m-\u001b[0m\u001b[0;36m1\u001b[0m\u001b[0;34m)\u001b[0m\u001b[0;34m**\u001b[0m\u001b[0;34m(\u001b[0m\u001b[0;36m0\u001b[0m\u001b[0;34m+\u001b[0m\u001b[0mj\u001b[0m\u001b[0;34m)\u001b[0m \u001b[0;34m*\u001b[0m \u001b[0mmatrix\u001b[0m\u001b[0;34m[\u001b[0m\u001b[0;36m0\u001b[0m\u001b[0;34m]\u001b[0m\u001b[0;34m[\u001b[0m\u001b[0mj\u001b[0m\u001b[0;34m]\u001b[0m \u001b[0;34m*\u001b[0m \u001b[0mdeterminant\u001b[0m\u001b[0;34m(\u001b[0m\u001b[0msmaller_matrix\u001b[0m\u001b[0;34m(\u001b[0m\u001b[0mmatrix\u001b[0m\u001b[0;34m,\u001b[0m \u001b[0;36m0\u001b[0m\u001b[0;34m,\u001b[0m \u001b[0mj\u001b[0m\u001b[0;34m)\u001b[0m\u001b[0;34m)\u001b[0m\u001b[0;34m\u001b[0m\u001b[0;34m\u001b[0m\u001b[0m\n\u001b[0m\u001b[1;32m     25\u001b[0m             \u001b[0manswer\u001b[0m\u001b[0;34m+=\u001b[0m \u001b[0mcofactor\u001b[0m\u001b[0;34m\u001b[0m\u001b[0;34m\u001b[0m\u001b[0m\n\u001b[1;32m     26\u001b[0m         \u001b[0;32mreturn\u001b[0m \u001b[0manswer\u001b[0m\u001b[0;34m\u001b[0m\u001b[0;34m\u001b[0m\u001b[0m\n",
            "\u001b[0;32m<ipython-input-14-d9faf92d0bb6>\u001b[0m in \u001b[0;36mdeterminant\u001b[0;34m(matrix)\u001b[0m\n\u001b[1;32m     22\u001b[0m         \u001b[0manswer\u001b[0m\u001b[0;34m=\u001b[0m\u001b[0;36m0\u001b[0m\u001b[0;34m\u001b[0m\u001b[0;34m\u001b[0m\u001b[0m\n\u001b[1;32m     23\u001b[0m         \u001b[0;32mfor\u001b[0m \u001b[0mj\u001b[0m \u001b[0;32min\u001b[0m \u001b[0mrange\u001b[0m\u001b[0;34m(\u001b[0m\u001b[0mr\u001b[0m\u001b[0;34m)\u001b[0m\u001b[0;34m:\u001b[0m\u001b[0;34m\u001b[0m\u001b[0;34m\u001b[0m\u001b[0m\n\u001b[0;32m---> 24\u001b[0;31m             \u001b[0mcofactor\u001b[0m \u001b[0;34m=\u001b[0m \u001b[0;34m(\u001b[0m\u001b[0;34m-\u001b[0m\u001b[0;36m1\u001b[0m\u001b[0;34m)\u001b[0m\u001b[0;34m**\u001b[0m\u001b[0;34m(\u001b[0m\u001b[0;36m0\u001b[0m\u001b[0;34m+\u001b[0m\u001b[0mj\u001b[0m\u001b[0;34m)\u001b[0m \u001b[0;34m*\u001b[0m \u001b[0mmatrix\u001b[0m\u001b[0;34m[\u001b[0m\u001b[0;36m0\u001b[0m\u001b[0;34m]\u001b[0m\u001b[0;34m[\u001b[0m\u001b[0mj\u001b[0m\u001b[0;34m]\u001b[0m \u001b[0;34m*\u001b[0m \u001b[0mdeterminant\u001b[0m\u001b[0;34m(\u001b[0m\u001b[0msmaller_matrix\u001b[0m\u001b[0;34m(\u001b[0m\u001b[0mmatrix\u001b[0m\u001b[0;34m,\u001b[0m \u001b[0;36m0\u001b[0m\u001b[0;34m,\u001b[0m \u001b[0mj\u001b[0m\u001b[0;34m)\u001b[0m\u001b[0;34m)\u001b[0m\u001b[0;34m\u001b[0m\u001b[0;34m\u001b[0m\u001b[0m\n\u001b[0m\u001b[1;32m     25\u001b[0m             \u001b[0manswer\u001b[0m\u001b[0;34m+=\u001b[0m \u001b[0mcofactor\u001b[0m\u001b[0;34m\u001b[0m\u001b[0;34m\u001b[0m\u001b[0m\n\u001b[1;32m     26\u001b[0m         \u001b[0;32mreturn\u001b[0m \u001b[0manswer\u001b[0m\u001b[0;34m\u001b[0m\u001b[0;34m\u001b[0m\u001b[0m\n",
            "\u001b[0;32m<ipython-input-14-d9faf92d0bb6>\u001b[0m in \u001b[0;36msmaller_matrix\u001b[0;34m(original_matrix, row, column)\u001b[0m\n\u001b[1;32m      5\u001b[0m \u001b[0;32mdef\u001b[0m \u001b[0msmaller_matrix\u001b[0m\u001b[0;34m(\u001b[0m\u001b[0moriginal_matrix\u001b[0m\u001b[0;34m,\u001b[0m\u001b[0mrow\u001b[0m\u001b[0;34m,\u001b[0m \u001b[0mcolumn\u001b[0m\u001b[0;34m)\u001b[0m\u001b[0;34m:\u001b[0m\u001b[0;34m\u001b[0m\u001b[0;34m\u001b[0m\u001b[0m\n\u001b[1;32m      6\u001b[0m     \u001b[0;32mfor\u001b[0m \u001b[0mii\u001b[0m \u001b[0;32min\u001b[0m \u001b[0mrange\u001b[0m\u001b[0;34m(\u001b[0m\u001b[0mlen\u001b[0m\u001b[0;34m(\u001b[0m\u001b[0moriginal_matrix\u001b[0m\u001b[0;34m)\u001b[0m\u001b[0;34m)\u001b[0m\u001b[0;34m:\u001b[0m\u001b[0;34m\u001b[0m\u001b[0;34m\u001b[0m\u001b[0m\n\u001b[0;32m----> 7\u001b[0;31m         \u001b[0mnew_matrix\u001b[0m\u001b[0;34m=\u001b[0m\u001b[0mnp\u001b[0m\u001b[0;34m.\u001b[0m\u001b[0mdelete\u001b[0m\u001b[0;34m(\u001b[0m\u001b[0moriginal_matrix\u001b[0m\u001b[0;34m,\u001b[0m\u001b[0mii\u001b[0m\u001b[0;34m,\u001b[0m\u001b[0;36m0\u001b[0m\u001b[0;34m)\u001b[0m\u001b[0;34m\u001b[0m\u001b[0;34m\u001b[0m\u001b[0m\n\u001b[0m\u001b[1;32m      8\u001b[0m         \u001b[0mnew_matrix\u001b[0m\u001b[0;34m=\u001b[0m\u001b[0mnp\u001b[0m\u001b[0;34m.\u001b[0m\u001b[0mdelete\u001b[0m\u001b[0;34m(\u001b[0m\u001b[0mnew_matrix\u001b[0m\u001b[0;34m,\u001b[0m\u001b[0mcolumn\u001b[0m\u001b[0;34m,\u001b[0m\u001b[0;36m1\u001b[0m\u001b[0;34m)\u001b[0m\u001b[0;34m\u001b[0m\u001b[0;34m\u001b[0m\u001b[0m\n\u001b[1;32m      9\u001b[0m         \u001b[0;32mreturn\u001b[0m \u001b[0mnew_matrix\u001b[0m\u001b[0;34m\u001b[0m\u001b[0;34m\u001b[0m\u001b[0m\n",
            "\u001b[0;32m/usr/local/lib/python3.11/dist-packages/numpy/lib/function_base.py\u001b[0m in \u001b[0;36mdelete\u001b[0;34m(arr, obj, axis)\u001b[0m\n\u001b[1;32m   5334\u001b[0m             \u001b[0mobj\u001b[0m \u001b[0;34m+=\u001b[0m \u001b[0mN\u001b[0m\u001b[0;34m\u001b[0m\u001b[0;34m\u001b[0m\u001b[0m\n\u001b[1;32m   5335\u001b[0m         \u001b[0mnewshape\u001b[0m\u001b[0;34m[\u001b[0m\u001b[0maxis\u001b[0m\u001b[0;34m]\u001b[0m \u001b[0;34m-=\u001b[0m \u001b[0;36m1\u001b[0m\u001b[0;34m\u001b[0m\u001b[0;34m\u001b[0m\u001b[0m\n\u001b[0;32m-> 5336\u001b[0;31m         \u001b[0mnew\u001b[0m \u001b[0;34m=\u001b[0m \u001b[0mempty\u001b[0m\u001b[0;34m(\u001b[0m\u001b[0mnewshape\u001b[0m\u001b[0;34m,\u001b[0m \u001b[0marr\u001b[0m\u001b[0;34m.\u001b[0m\u001b[0mdtype\u001b[0m\u001b[0;34m,\u001b[0m \u001b[0marrorder\u001b[0m\u001b[0;34m)\u001b[0m\u001b[0;34m\u001b[0m\u001b[0;34m\u001b[0m\u001b[0m\n\u001b[0m\u001b[1;32m   5337\u001b[0m         \u001b[0mslobj\u001b[0m\u001b[0;34m[\u001b[0m\u001b[0maxis\u001b[0m\u001b[0;34m]\u001b[0m \u001b[0;34m=\u001b[0m \u001b[0mslice\u001b[0m\u001b[0;34m(\u001b[0m\u001b[0;32mNone\u001b[0m\u001b[0;34m,\u001b[0m \u001b[0mobj\u001b[0m\u001b[0;34m)\u001b[0m\u001b[0;34m\u001b[0m\u001b[0;34m\u001b[0m\u001b[0m\n\u001b[1;32m   5338\u001b[0m         \u001b[0mnew\u001b[0m\u001b[0;34m[\u001b[0m\u001b[0mtuple\u001b[0m\u001b[0;34m(\u001b[0m\u001b[0mslobj\u001b[0m\u001b[0;34m)\u001b[0m\u001b[0;34m]\u001b[0m \u001b[0;34m=\u001b[0m \u001b[0marr\u001b[0m\u001b[0;34m[\u001b[0m\u001b[0mtuple\u001b[0m\u001b[0;34m(\u001b[0m\u001b[0mslobj\u001b[0m\u001b[0;34m)\u001b[0m\u001b[0;34m]\u001b[0m\u001b[0;34m\u001b[0m\u001b[0;34m\u001b[0m\u001b[0m\n",
            "\u001b[0;31mKeyboardInterrupt\u001b[0m: "
          ]
        }
      ]
    },
    {
      "cell_type": "code",
      "source": [
        "print(\"determinant(A): \",d)\n",
        "print(\"time: \",end_time - start_time)"
      ],
      "metadata": {
        "id": "_TQFWy4ZSiDZ",
        "colab": {
          "base_uri": "https://localhost:8080/"
        },
        "outputId": "b38e8dcd-f6d3-4050-92d4-fabf6d04e2b4"
      },
      "execution_count": null,
      "outputs": [
        {
          "output_type": "stream",
          "name": "stdout",
          "text": [
            "determinant(A):  29129065307\n",
            "time:  66.55471014976501\n"
          ]
        }
      ]
    },
    {
      "cell_type": "code",
      "source": [
        "import time\n",
        "\n",
        "start_time = time.time()\n",
        "d = np.linalg.det(A)\n",
        "end_time = time.time()"
      ],
      "metadata": {
        "id": "jL23i77VT55-"
      },
      "execution_count": null,
      "outputs": []
    },
    {
      "cell_type": "code",
      "source": [
        "print(\"np.linalg.det(A): \",d)\n",
        "print(\"time: \",end_time - start_time)"
      ],
      "metadata": {
        "id": "n94nx14VT5wn",
        "colab": {
          "base_uri": "https://localhost:8080/"
        },
        "outputId": "91f27c3b-44e8-4417-f51c-7354cf2e171f"
      },
      "execution_count": null,
      "outputs": [
        {
          "output_type": "stream",
          "name": "stdout",
          "text": [
            "np.linalg.det(A):  29129065306.99992\n",
            "time:  0.00032973289489746094\n"
          ]
        }
      ]
    },
    {
      "cell_type": "markdown",
      "source": [
        "# Estimating the time by instruction in Python in a Colab machine"
      ],
      "metadata": {
        "id": "Ssedt2z56DNC"
      }
    },
    {
      "cell_type": "code",
      "source": [
        "import numpy as np\n",
        "\n",
        "n = 100\n",
        "\n",
        "A = np.ones((n,n))\n",
        "\n",
        "A"
      ],
      "metadata": {
        "id": "1KhlyeNi4uwa",
        "colab": {
          "base_uri": "https://localhost:8080/"
        },
        "outputId": "999000ac-332f-4f49-f874-e58fb7052950"
      },
      "execution_count": null,
      "outputs": [
        {
          "output_type": "execute_result",
          "data": {
            "text/plain": [
              "array([[1., 1., 1., ..., 1., 1., 1.],\n",
              "       [1., 1., 1., ..., 1., 1., 1.],\n",
              "       [1., 1., 1., ..., 1., 1., 1.],\n",
              "       ...,\n",
              "       [1., 1., 1., ..., 1., 1., 1.],\n",
              "       [1., 1., 1., ..., 1., 1., 1.],\n",
              "       [1., 1., 1., ..., 1., 1., 1.]])"
            ]
          },
          "metadata": {},
          "execution_count": 23
        }
      ]
    },
    {
      "cell_type": "code",
      "source": [
        "B = np.ones((n,n))\n",
        "\n",
        "B"
      ],
      "metadata": {
        "colab": {
          "base_uri": "https://localhost:8080/"
        },
        "id": "RKtHO3UY5M87",
        "outputId": "d4982a42-e320-4cfb-ceda-018c000578e8"
      },
      "execution_count": null,
      "outputs": [
        {
          "output_type": "execute_result",
          "data": {
            "text/plain": [
              "array([[1., 1., 1., ..., 1., 1., 1.],\n",
              "       [1., 1., 1., ..., 1., 1., 1.],\n",
              "       [1., 1., 1., ..., 1., 1., 1.],\n",
              "       ...,\n",
              "       [1., 1., 1., ..., 1., 1., 1.],\n",
              "       [1., 1., 1., ..., 1., 1., 1.],\n",
              "       [1., 1., 1., ..., 1., 1., 1.]])"
            ]
          },
          "metadata": {},
          "execution_count": 24
        }
      ]
    },
    {
      "cell_type": "code",
      "source": [
        "import time\n",
        "\n",
        "C= np.zeros((n,n))\n",
        "\n",
        "start_time = time.time()\n",
        "for i in range(n):\n",
        "        for j in range(n):\n",
        "            C[i][j] = 0\n",
        "            for k in range(len(A[0])):\n",
        "                C[i][j] += A[i][k] * B[k][j]\n",
        "end_time = time.time()\n",
        "print(end_time - start_time)"
      ],
      "metadata": {
        "colab": {
          "base_uri": "https://localhost:8080/"
        },
        "id": "0UFSLi-F5P0a",
        "outputId": "b0d3797a-1f98-4e8e-ad9f-c57d93fcd9c4"
      },
      "execution_count": null,
      "outputs": [
        {
          "output_type": "stream",
          "name": "stdout",
          "text": [
            "2.2673070430755615\n"
          ]
        }
      ]
    },
    {
      "cell_type": "code",
      "source": [
        "C"
      ],
      "metadata": {
        "colab": {
          "base_uri": "https://localhost:8080/"
        },
        "id": "h9zr4Z9P61bs",
        "outputId": "e389a31a-96c0-4d02-d782-d3e4d27274cc"
      },
      "execution_count": null,
      "outputs": [
        {
          "output_type": "execute_result",
          "data": {
            "text/plain": [
              "array([[100., 100., 100., ..., 100., 100., 100.],\n",
              "       [100., 100., 100., ..., 100., 100., 100.],\n",
              "       [100., 100., 100., ..., 100., 100., 100.],\n",
              "       ...,\n",
              "       [100., 100., 100., ..., 100., 100., 100.],\n",
              "       [100., 100., 100., ..., 100., 100., 100.],\n",
              "       [100., 100., 100., ..., 100., 100., 100.]])"
            ]
          },
          "metadata": {},
          "execution_count": 26
        }
      ]
    },
    {
      "cell_type": "code",
      "source": [
        "time_by_oper_python = (end_time - start_time)/(2*n**3 - n**2)\n",
        "\n",
        "time_by_oper_python"
      ],
      "metadata": {
        "colab": {
          "base_uri": "https://localhost:8080/"
        },
        "id": "iEhaMEK77Ko7",
        "outputId": "243e5991-74a3-40ba-d556-a7e82893a70d"
      },
      "execution_count": null,
      "outputs": [
        {
          "output_type": "execute_result",
          "data": {
            "text/plain": [
              "1.1393502729022922e-06"
            ]
          },
          "metadata": {},
          "execution_count": 27
        }
      ]
    },
    {
      "cell_type": "code",
      "source": [
        "import time\n",
        "import numpy as np\n",
        "\n",
        "start_time = time.time()\n",
        "C = A@B\n",
        "end_time = time.time()\n",
        "print(end_time - start_time)"
      ],
      "metadata": {
        "colab": {
          "base_uri": "https://localhost:8080/"
        },
        "id": "TfGsw6UF9o-a",
        "outputId": "d281b4c7-96ef-4da5-f0f7-28af4732338d"
      },
      "execution_count": null,
      "outputs": [
        {
          "output_type": "stream",
          "name": "stdout",
          "text": [
            "0.004902362823486328\n"
          ]
        }
      ]
    },
    {
      "cell_type": "code",
      "source": [
        "C"
      ],
      "metadata": {
        "colab": {
          "base_uri": "https://localhost:8080/"
        },
        "id": "Q5MtZtVT93oQ",
        "outputId": "dc985038-e507-40ec-af81-7cdbac453296"
      },
      "execution_count": null,
      "outputs": [
        {
          "output_type": "execute_result",
          "data": {
            "text/plain": [
              "array([[100., 100., 100., ..., 100., 100., 100.],\n",
              "       [100., 100., 100., ..., 100., 100., 100.],\n",
              "       [100., 100., 100., ..., 100., 100., 100.],\n",
              "       ...,\n",
              "       [100., 100., 100., ..., 100., 100., 100.],\n",
              "       [100., 100., 100., ..., 100., 100., 100.],\n",
              "       [100., 100., 100., ..., 100., 100., 100.]])"
            ]
          },
          "metadata": {},
          "execution_count": 29
        }
      ]
    },
    {
      "cell_type": "code",
      "source": [
        "time_by_oper_numpy = (end_time - start_time)/(2*n**3 - n**2)\n",
        "\n",
        "time_by_oper_numpy"
      ],
      "metadata": {
        "colab": {
          "base_uri": "https://localhost:8080/"
        },
        "id": "DTVYQYxT-TsJ",
        "outputId": "9b1f0dd9-13b7-4c87-8318-8d44e6385dc2"
      },
      "execution_count": null,
      "outputs": [
        {
          "output_type": "execute_result",
          "data": {
            "text/plain": [
              "2.463498906274537e-09"
            ]
          },
          "metadata": {},
          "execution_count": 30
        }
      ]
    },
    {
      "cell_type": "markdown",
      "source": [
        "# Time estimation for the digital computer computation of a 3 x 3 matrix determinant by cofactor expansion\n",
        "\n",
        "The number of operations $(+,-,*)$ perfomed  *det(A)* algorithm that calculates\n",
        "\n",
        "$$\\det(A)  = \\sum_{j=1}^n (-1)^{i+j}a_{ij} \\det(A(i∣j)) $$\n",
        "\n",
        "is given by\n",
        "\n",
        "$$\\begin{array}{lll}\n",
        "T(n) & =&  nT(n-1) + 5n , T(1) = 1\\\\\n",
        "\\end{array}\n",
        "$$\n",
        "\n",
        "$$\\begin{array}{lll}\n",
        "T(n) & =&  nT(n-1) + 5n\\\\\n",
        "     & =&  n[(n-1) T(n-2) + 5 (n-1) +10] + 5n  \\\\\n",
        "     & =&  n(n-1) T(n-2) + 5 n  (n-1) + 5n \\\\\n",
        "     & =&  n(n-1) [(n-2) T(n-3) + 5 (n-2)] + 5 n(n-1) + 5n\\\\\n",
        "     & = & n(n-1)(n-2) T(n-3) + 5n(n-1)(n-2)+  5 n  (n-1) + 5n \\\\\n",
        "     & \\vdots\\\\\n",
        "     & = &  n(n-1)(n-2)\\cdots (n -(n-2))  T(1) + [5n(n-1)(n-2)(n-3)\\cdots (n -(n-3))] + \\cdots + [5 n (n-1)]+ 5n \\\\\n",
        "    & = & n! + [5n(n-1)(n-2)(n-3)\\cdots 2] + [5n(n-1)(n-2)(n-3)\\cdots 3]+ \\cdots +[5 n (n-1) (n-3)] + [5 n (n-1)]+ 5n  \n",
        "\\end{array}\n",
        "$$\n",
        "\n",
        "$$T(n) = n! + 5 \\sum_{i=0}^{n-1} n!/i! = n! + 5 n!\\sum_{i=0}^{n-1} \\frac{1}{i!} < n! + 5 e n! < 16 n!  $$\n",
        "\n",
        "1. Asumming that an arithmetic operation takes the *time_by_oper_python* estimated before,  what is the maximun square matrix size for which the deteminant can be computed with cofactor extesion in $\\le$ 3 minute. Report the time at [LABCramer](https://docs.google.com/spreadsheets/d/1JNUbuj3QHcyPmp8i6kNreUFucj2mOvKHkCFHHy7zfws/edit?usp=sharing).\n",
        "\n",
        "2. Run an experiment with a random matrix of that size and report the time at [LABCramer](https://docs.google.com/spreadsheets/d/1JNUbuj3QHcyPmp8i6kNreUFucj2mOvKHkCFHHy7zfws/edit?usp=sharing).\n",
        "\n",
        "If the determinant of a $n \\times n$ square matrix takes $16 n!$ operations how much takes the Crammer solution of $n \\times n$ systems of linear equations?\n",
        "\n",
        "\n",
        "\n",
        "\n"
      ],
      "metadata": {
        "id": "PhAai3wzo_Tc"
      }
    },
    {
      "cell_type": "markdown",
      "source": [
        "## Response 1\n",
        "\n",
        "$$T(n) < 16\\ n!$$\n",
        "\n",
        "$$t_{op} = 5.85225 \\cdot 10^{-7}\\ seconds$$\n",
        "\n",
        "$$16\\ n! \\cdot t_{op} < 180\\ seconds$$\n",
        "\n",
        "$$n! \\leq \\frac{180}{16 \\cdot 5.85225 \\cdot 10^{-7}} \\approx 1.9223 \\cdot 10^{7}$$\n",
        "\n",
        "Check values for n:\n",
        "\n",
        "$$10! = 3\\ 628\\ 800 ≈ 3.63 \\cdot 10^{6} < 1.9223 \\cdot 10^{7}$$\n",
        "\n",
        "$$11! = 39\\ 916\\ 800 ≈ 3.99 \\cdot 10^{7} > 1.9223 \\cdot 10^{7}$$\n",
        "\n",
        "Thus, the maximum size is $n = 10$.\n",
        "\n",
        "$$T(10) < 16 \\cdot 10! = 58\\ 060\\ 800 operations$$\n",
        "\n",
        "Multiplying by the per-operation time:\n",
        "\n",
        "$$Time = 58\\ 060\\ 800 \\cdot 5.85225 \\cdot 10^{-7} ≈ 33.97863$$"
      ],
      "metadata": {
        "id": "h3Rc4DCbM3pS"
      }
    },
    {
      "cell_type": "markdown",
      "source": [
        "## Respuesta 1"
      ],
      "metadata": {
        "id": "JuRFvifDTIx_"
      }
    },
    {
      "cell_type": "code",
      "source": [
        "import math\n",
        "import time\n",
        "\n",
        "n = 10\n",
        "matrix=np.random.randint(-5,5,size=(n,n))\n",
        "\n",
        "def tiempo_cof(n):\n",
        "    return math.factorial(n) + 5 * sum(math.factorial(n) // math.factorial(i) for i in range(n))\n",
        "\n",
        "time_by_oper_python= 2.463498906274537e-09\n",
        "\n",
        "\n",
        "\n",
        "start_time = time.time()\n",
        "d = determinant(matrix)\n",
        "end_time = time.time()\n",
        "\n",
        "print(\"El tamaño máximo de matriz cuadrada es:\", n)\n",
        "print(\"El tiemop que se demororo en realizar el determinante: \", end_time - start_time)\n",
        "print(\"El tiempo total en segundos es:\", (end_time - start_time) * time_by_oper_python)"
      ],
      "metadata": {
        "colab": {
          "base_uri": "https://localhost:8080/"
        },
        "id": "g1947lE2QZ3t",
        "outputId": "503fa6c4-80d5-40e0-c745-b70a3b076aee"
      },
      "execution_count": null,
      "outputs": [
        {
          "output_type": "stream",
          "name": "stdout",
          "text": [
            "El tamaño máximo de matriz cuadrada es: 10\n",
            "El tiemop que se demororo en realizar el determinante:  29.55061388015747\n",
            "El tiempo total en segundos es: 7.279790497350907e-08\n"
          ]
        }
      ]
    },
    {
      "cell_type": "markdown",
      "source": [
        "# Time estimation for the human computer computation of a 3 x 3 matrix determinant by cofactor expansion\n",
        "\n",
        " Write a 3 x 3 matrix with the first element as your list number Mod 10 and the rest row by row 1,2,3,...9 skipimg the first element, by example if youir list number is 12, your list number Mod 10 is 2 and the matrix is\n",
        "$$A = \\left[\n",
        "  \\begin{array}{ccc}\n",
        "2 & 1 & 3\\\\\n",
        "4 & 5 & 6\\\\\n",
        "7 & 8 & 9\\\\\n",
        "\\end{array}\n",
        "\\right]\n",
        "$$\n",
        "Use a chronometer like http://online-stopwatch.chronme.com/ to estimate the time to compute the determinant by using the procedure in the follo wing exmaple (https://people.math.carleton.ca/~kcheung/math/notes/MATH1107/07/07_cofactor_expansion.html):<br />  \n",
        "Let\n",
        "$$A = \\begin{bmatrix} 10 & 2 & 3\\\\ 4 & 5 & 6\\\\ 7 & 8 & 9 \\end{bmatrix}$$\n",
        "we compute $\\det(A)$ by expanding along row $2$ as <br /> <br />\n",
        "$$\\begin{eqnarray} \\det(A) & = & (-1)^{2+1}A_{2,1}\\det(A(2 \\mid 1)) + (-1)^{2+2}A_{2,2}\\det(A(2 \\mid 2)) + (-1)^{2+3}A_{2,3}\\det(A(2 \\mid 3)) \\\\ & = & -4\\left|\\begin{matrix} 2 & 3 \\\\ 8 & 9\\end{matrix}\\right| + 5\\left|\\begin{matrix} 10 & 3 \\\\ 7 & 9\\end{matrix}\\right| - 6\\left|\\begin{matrix} 10 & 2 \\\\ 7 & 8\\end{matrix}\\right| \\\\ & = & -4(2\\cdot 9 - 3\\cdot 8) + 5(10 \\cdot 9- 3\\cdot 7) - 6(10\\cdot 8 - 2 \\cdot 7) \\\\ & = & 24 + 345 - 396 \\\\ & = & -27\\end{eqnarray}$$\n",
        "\n",
        "3. Report the time at [LABCramer](https://docs.google.com/spreadsheets/d/1JNUbuj3QHcyPmp8i6kNreUFucj2mOvKHkCFHHy7zfws/edit?usp=sharing)\n",
        "4. Report the value of the determinant at [LABCramer](https://docs.google.com/spreadsheets/d/1JNUbuj3QHcyPmp8i6kNreUFucj2mOvKHkCFHHy7zfws/edit?usp=sharing)\n",
        "\n",
        "The one grading verifies with with [matrixcalc](https://matrixcalc.org)\n",
        "\n",
        "The number of operations that we as a human requird to caculate this 3x3 matrix determinat using cofactors is 17.\n",
        "- The number of operations to caculate each cofactor is 5:  1 addition (row + column)  + 1 sign verification (if row + column is even positive and negtive otherwise) + 2 multiplications  + 1 substraction.\n",
        "- The number operations to calculate the 3 cofactors is 3x5 = 15.\n",
        "- To add the 3 cofactores we need (2 additions).\n",
        "- So the total is 3x5 + 2  = 17.\n",
        "\n",
        "\n",
        "\n"
      ],
      "metadata": {
        "id": "__brdhGadAXY"
      }
    },
    {
      "cell_type": "markdown",
      "source": [
        "## Response 3\n",
        "\n",
        "$$7\\ mod\\ 10 \\cong 7$$\n",
        "\n",
        "Matrix:\n",
        "\n",
        "$$A = \\left[\n",
        "  \\begin{array}{ccc}\n",
        "7 & 1 & 2\\\\\n",
        "3 & 4 & 5\\\\\n",
        "6 & 8 & 9\\\\\n",
        "\\end{array}\n",
        "\\right]\n",
        "$$\n",
        "\n",
        "Expanding around col 1.\n",
        "\n",
        "$$ |A| = 7 \\cdot \\left[\n",
        "  \\begin{array}{cc}\n",
        "4 & 5\\\\\n",
        "8 & 9\\\\\n",
        "\\end{array}\n",
        "\\right] - 1 \\cdot \\left[\n",
        "  \\begin{array}{cc}\n",
        "3 & 5\\\\\n",
        "6 & 9\\\\\n",
        "\\end{array}\n",
        "\\right] + 2 \\cdot \\left[\n",
        "  \\begin{array}{cc}\n",
        "3 & 4\\\\\n",
        "6 & 8\\\\\n",
        "\\end{array}\n",
        "\\right]\n",
        "$$\n",
        "\n",
        "Resolving\n",
        "$$|A| = 7 \\cdot (4*9-8*5) - 1 \\cdot (3*9-6*5) + 2 \\cdot (3*8-6*4)$$\n",
        "$$|A| = 7 \\cdot (-4) - 1 \\cdot (-3) + 2 \\cdot (0)$$\n",
        "$$|A| = -28 +3 + 0$$\n",
        "$$|A| = -25$$\n",
        "\n",
        "### Time\n",
        "![Imagen de WhatsApp 2025-02-26 a las 18.37.08_4d704757.jpg](data:image/jpeg;base64,/9j/4AAQSkZJRgABAQAAAQABAAD/2wCEAAgICAgJCAkKCgkNDgwODRMREBARExwUFhQWFBwrGx8bGx8bKyYuJSMlLiZENS8vNUROQj5CTl9VVV93cXecnNEBCAgICAkICQoKCQ0ODA4NExEQEBETHBQWFBYUHCsbHxsbHxsrJi4lIyUuJkQ1Ly81RE5CPkJOX1VVX3dxd5yc0f/CABEIClwEsAMBIgACEQEDEQH/xAAxAAEAAwEBAQAAAAAAAAAAAAAAAQIDBAUGAQEBAQEBAQAAAAAAAAAAAAAAAQMCBAX/2gAMAwEAAhADEAAAAvnwAAAAAAAAAAAAAAAAAAAAAAAAAAAAAAAAAAAAAAAAAAAAAAAAAAAAAAAAAAAAAAAAAAAAAAAAAAAAAAAAAAAAAAAAAAAAAAAAAAAAAAAAAAAAAAAAAAAAAAAAAAAAAAAAAAAAAAAAAAAAAAAAAAAAAAAAAAAAAAAAAAAAAAAAAAAAAAAAAAAAAAAAAAAAAAAAAAAAAAAAAAAAAAAAAAAAAAAAAAAAAAAAAAACSEwC5RrkC5QBp6R5L0/NIJITALFQAAAAAAAAAAAAAAAAAAAAAAAAAADUyeiPOd+BzgN/XPBe/wCGUA9Lj908Du6JPM6+PvPJAX9Y8Z7lDxl6B2jiXoAAAAGuQdXaeQ9ceQ9ceQ9fzTIBaoOg5wCxUsVAAAAAA9vyfpD5rX0vGNvU8TU97536f5c6/Z5x4Ux2nd5m3ceN6vkeqeT6/keuaeX6wpfo4TyO7h9gz87t7jHz8fWPHAAAAAAAAAAAAAAAAAAAAAAAA9LzfSPpM+rxj1fnvo/njxva8X2xw93Cb7Y7nP5nqeWdPpeIO3q8ga9fngD2sOL0DbmtJp4u2J3d3kXPe+c9LjOZrkACxXo9fyhy9XKexNPQ8+vz2XTzbZh1Hu+F9EeVyex4p9V816fmHrY6aFPF9zwz2NvK7Bx+p5JgAAAAADt38v0zv8hyHV2+R2nbzx5x9B1fK9Ry3psduPdkb5R5xj7Hj2PZx8/I9qfHkz9Dzx7lPGHtefygAAAAAAAAAAAAAAAAAAAAAAABtjqfax8zse98prgcvt+Jc9jhz9c499vCPQ8u9B7Hj+8cfL6WJxZ92p5IHbxD0IvwFstsT1PN7B2a+bucnN08wBt7nBB6Hj9HEa8uuR6/Z5u2ffn4eu748h66vI9/DiOjzA9jzL4lfa8XqMcwe54fSenfxeg4gAAAAAAAAAAAAAAAAAAAAAAAAAAAAAAAAAAAAAAAAAAAAAAAAAAPW8kejlxjq384AAAAAAAAAAAAAAAAAAAAAAAAAAAAAAAAAAAAAAAAAAAAAAAAAAAAAAAAAAAAAAAAAAAAAAAAAAAAAAAAAAAAAAAAAAAAAAAAAAAAAAAAAAAAAAAAAAAAAAAAAAAAAAAAAAAAAAAAAAAAAAAAAAAAAAAAAAAAAAAAAAAAAAAAAAAAAAAAAAAAAAAAAAAAAAAAAAAAAAAAAAAAAAAAAAAAAAAAAAAAAAAAAAAAAAAAAAAAAAAAAAAAAAAAAAAAAAAAAAAAAAAAAAAAAAAAAAAAAAAAAAAAAAAAAAAAAAAAAAAAAAAAAAAAAAAAAAAAAAAAAAAAAAAAAAAAAAAAAAAAAAAAAAAAAAAAAAAAAAAAAAAAAAAAAAAAAAAAAAAAAAAAAAAAAAAAAAAAAAAAAAAANtvoTyK2ueTT6X5oAAAAAAHQen4npeaAAAAAAD6I+ddfIAAAAAAAAAAAAAAAAAAAAAAAAAAAAAAAAAAAAAAAAAAAAAAAAAAAAAAAAfUeH9L8cAL00PZ09P5M6OrLsN+PxPdPC9S+5j3c/hHq+R9Z8wa+30/Mnu+Ln9OfKe3431x50+H3nN7O3yx7vge/wnB7s+eer5PD9QeN7/yvum3hxxnvPV+ZOjXLsN+PxPdPCj1/IAAAAAAAAAAAAAAAAAAAAAAAAAAAAAAAAAAAAAAAAAAAAAAAAAAAAPrfl/S7j5ppYx0+i8A+j+V+p+WPf4NO4+d7eT3S9OfoPO4e3iPpvF9rwT6P5T635w5fqPn/AKY+c975v6Q+W7eLtPT+f9/wD2K2qethlxHpX+Y9I5vY+d+hPJ5O/hPrfkfrfkj3+DTuPne3k90v876/kAAAAAAAAAAAAAAAAAAAAAAAAAAAAAAAAAAAAAAAAAAAAAAAAAAAAD1vJH1FfmR38VR7fiA9nxh9Px+IHq+UOnmD2fLyHT7fzY+k8bkFvZ8QOnmHq+UHoV4Rf3PAH03neUHZxj6bxuIe94IPZ8YfT8fiAAAAAAAAAAAAAAAAAAAAAAAAAAAAAAAAAAAAAAAAAAAAAAAAAAAAAAAAAAAAAAAAAAAAAAAAAAAAAAAAAAAAAAAAAAAAAAAAAAAAAAAAAAAAAAAAAAAAAAAAAAAAAAAAAAAAAAAAAAAAAAAAAAAAAAAAAAAAAAAAAAAAAAAAAAAAAAAAAAAAAAAAAAAAAAAAAAAAAAAAAAAAAAAAAAAAAAAAAAAAAAAAAAAAAAAAAAAAAAAAAAAAAAAAAAAAAAAAAAAAAAAAAAAAAAAAAAAAAAAAAAAAAAAAAAAAAAAAAAAAAAAAAAAAAAAAAAAAAAAAAAAAAAAAAAAAAAAAAAAAAAAAAAAAAAAAAAAAAAAAAAAAAAAAAAAAAAAAAAAAAAAAAAAAAAAAAAAAAAAAAAAAAAAAAAAAAAAAAAAAAAAAAAAAAAAAAAAAAAAAAAAAAAAAAAAAAAAAAAAAAAAAAAAAAAAAAAAAAAAAAAAAAAAAAAAAAAAAAAAAAAAAAAAAAAAAAAAAAAAAAAAAAAAAAAAAAAAAAAAAAAAAAAAAAAAAAAAAAAAAAAAAAAAAAAAAAAAAAAAAAAAAAAAAAAAAAAAAAAAAAAAAAAAAkQkQkQkQkQkQkQkQkQAAAAAAAAAAAAAAAAAAAAAAAAAAAAAAAAAAAAAAAAAAAAAAAAAAAAAAAAAAAAAAkQkAAAAEiEiEiEiEiAAAAQkQkQAAAAAAAAAAAAAAAAAAAAAAAAAAAAAAAAAAAAAAAAAAAAAAAAAAAAAAAAkAE2KNpMZ1grMQXnIbRlJozGjMaMxqyg1jMXiJIrrJi2gxaUISITAAiRCYAAAAAAAAAAAAAAAAAAAAAAAAAAAAAAAAAAAAAAAAAAAAAAAAAAACQLlJ2FL0qa1rJEXkpNhC0BpmGuQa5ll5ME6GRqZGhnEyUi4zm8C1INK0sVjYYr0ISITAiRCYAAAAAAAAAAAAAAAAAAAAAAAAAAAAAAAAAAAAAAAAAAAAAAABIToZ6XzNKUsVm4iQNci1d8DbHfA2x3wN8NsjXHWhal6mkxJjpSxntloZb4bGO2O5htjuYWruYGplEikaCL51L0toYNKERIgCJEAAAAAAAAAAAAAAAAAAAAAAAAAAAAAAAAAAAAAAAAAAAAASuU0vUtStyl5BapMb4G+G+BvhtkbYaVNMpg0pUXiotECUDacQQJmom1Ba+QnXIRvlYz3x1MdsdzCY3MCxSmgretC+d9DBehCRAITAAAAAAAAAAAAAAAAAAAAAAAAAAAAAAAAAAAAAAAAAAAtbQhQRaZDr5C9N8DfC8lsmhWc5E1AAAAAAAAAAAAAFogaRWCdYyG+Ypem5gdZxV0glQRG+ZSJEJgRIgAAAAAAAAAAAAAAAAAAAAAAAAAAAAAAAAAAAAAAAsRrahbObCQtXSDo56dxxa46GeuQAAAAAAAAehy+geSbHZvTyjXH3PDAAAAAAANcg2yvmX6bcItMmcSM9IqXyvcxTBCYESIAAAAAAAAAAAAAAAAAAAAAAAAAAAAAAAAAAAAALkbMiZmQnUpbLYx3xEdGVDfDTMAAAAAAAAFj3cr+Ed2fp+abed6PnHt+J7fiAAAAAAAADfDQ051zTCRpW+IbZFIvBfKNTFapCYESIAAAAAAAAAAAAAAAAAAAAAAAAAAAAAAAAAAANBoyF0jTPQz1ZF6b4GuQAF+s4XdxlWvScLu4QAAAABMD3vHdh2eLOR7fmT0nR4tqgAAAAAAB2ycLXIAa5Bem5XJqRnpmRTSC1K6mK9CEwIkQAAAAAAAAAAAAAAAAAAAAAAAAAAAAAAAAAXGrIXSL2yNsdJFaSQAADt2jY4ebv889PLqzOXl7uEAAAAAAAAAAAAAAAATGp7Hmepynn52qAAAXtnA2iCKNTGmkFqV1MVqkJgRMAAAAAAAAAAAAAAAAAAAAAAAAAAAAAAAAknZmRdIXuUvjcpozAAAAOiOniO5h0nNl2+cerya0OIAAAAAAAAAAAAAAAC9OktnpzHseL7nhgAAAGmbQtRQNqGdNIL4zoYghMEJgAAAAAAAAAAAAAAAAAAAAAAAAAAAAAAb0uVRcXpcpfTA3wtBAAAAANPV8Yev5MDb0/GHq+UAAAAAAAAAAAAAAAAAHrX8YbYgAAAAA3xkmjcpnehVahfLWDOJEAgAAAAAAAAAAAAAAAAAAAAAAAAAAAAC1egZLkzA2xtqZaYgAAAAAAAAAAAAAAAAAAAAAAAAAAAAAAAAAADbOskbWxIgM9a0EbYiJgRIgAAAAAAAAAAAAAAAAAAAAAAAAAAAk0m2RayxOmEkOjEtmAAAAAAAAAAAAAAAAAAAAAAAAAAAAAAAAAAAC9AW2IzrArpUhTUxTBAITAAAAAAAAAAAAAAAAAAAAAAAAAAA3y2M7V1K36OQ3xjYxTAAAAAAAAAAAAAAAAAAAAAAAAAAAAAAAAAAAAAAJG0Yl6Os4665F8tsysSIiRAAAAAAAAAAAAAAAAAAAAAAAAABY1z0oWlqR18A3w33OEAAAAAAAAAAAAAAAAAAAAAAAAAAAAAAAAAAAAAADffA6OTOSI2yM9c7mS1SAQmAAAAAAAAAAAAAAAAAAAAAAAABvlsZ2rcTpQ0YyQmAD1rW8U9PzFj1bPGPR873PDAAAAAAAAAAAAAAAAAAAAAAAAAAAAAAJ9nzOw5cOq52OHiOnm9vxASasoJi1zGt6GmO2RETAiYAAAAAAAAAAAAAAAAAAAAAAAANq64l5aGesZm+VQAB7uflZnteT6nnHoeR6/kHt+J7fiAAAAAAAAAAAABIhMF69mBimAtUAAAAAAAAAAAAAd3D3FdM9DHl6+Q9vxPb8QAtrgNcmhnG2RS+exgCAQAAAAAAAAAAAAAAAAAAAAAABpnuRFdAvcppjBpmAAHucvm7HseCHvcnm6np+MAAAAAAAAAACY6DnvToMb5dBlNNDow3wGO+B0c/Rzl6b4Ex0c4AAAAAAAAAAA7uGTrwyHu4+Vc6/PABeg3yrJDahlM5lqbYkJghMAAAAAAAAAAAAAAAAAAAAAAE75XKaVsJ2zLsQAAAAAAAAAAAAAAAmLlNZyGzEnWMRtiFqjsxzqWqG2dRoz2KxToM83Qc6YAAAAAAAAAAAAAAANZxExfQwz0qXx0gpEwImAAAAAAAAAAAAAAAAAAAAAADauuJoamWjM3xgAAAAAAAAAAAAAAF4L5W2IyroRQAAGuXWZY+hzjLbY4AALVGsMyb6c4XqQAAAAAAAAAAAAACdsBpnOhk1yKXz2MAQCAAAAAAAAAAAAAAAAAAAAAJjQ0ztBZOpnpnU0zAAAAAAAAAAAAAAWK9FMi8a4EwAAAC9ek6uaZOX2PK+mK/MfY/HmYAFqidKXLYNzAAAAAAAAAAAAAADTMbZ1sVbZGelJKRehAIAAAAAAAAAAAAAAAAAAAAA2x3KWpoJsLWwEwAAAAAAAAAAAAC1R28XR2HnaW5gAAAAB0c46eYPQ+i8L3Dl+X9nxiQAAAdGNew5ezXhMgAAAAAAAAAAAAAbVzkReTKt8y+e2JAIAAAAAAAAAAAAAAAAAAAAA6efcy0pcXVNYyAAAAAAAAAAAAACYF6a3NbcMDrwgvTsoMM4AAAETJ9F2xQ+d5JAAF+lyGmQelzc1iummZmAAAAAAAAAAAAADWcRek2KZ6UNcNsSEwQmAAAAAAAAAAAAAAAAAAAAC2uWhW9bF7ZwbUoAAAAAAAAAAAAALa4C9NZMQN8+85mWppGHUcAAAHbxe4er5vo+AebMSAAdOmeZvx9/AANL0NMIAAAAAAAAAAAAAFtMRrWkkUvUtnepRMCJgAAAAAAAAAAAAAAAAAAAAvesk2rJrOI3xgAAFhU6DndGJUAAAAAAAF9MBrlaoBbXAbYh0YQABKQkR9V859QPlPofmVSAADo5xMABOuQ2xgAAAAAAAAADQzNjF0ZmYJ2wG0ZCazArIpEwImAAAAAAAAAAAAAAAAAAAADSUFr0k2YjbEAB2nped28Rz+t53YYcfRxgAAAAAACYHQ5xvgAAAAADo55656+a3X6M59XkWZ+R18uGkDPoFAAAAnfnHRGAAAAAAAAAA9unl+oeP7/ge8cPPtxEAbYjZiLUmCEWM4BEwAAAAAAAAAAAAAAAAAAAAaxIns45O1xDtjjAE+15/pHnW9DI83ozwO2/m+weKAAAAAAADW2A1ytUAAAAATBLdnFtvx9G8ptnhx9mPNwiY8uwQCgAANsZNqZgAAAAAAAAC3reT6x5HpcG49Hw/dPCB2TxDtcQ6+OYK2rYyAiYAAAAAAAAAAAAAAAAAAAANJiSb0k2YjbEAAOieYX9fxR7Xl4gAAAAAABMDojCxfLXIAAAAAATBLTSepO2CuzldO2fJHTz46QmOKACgTrncsyqAAAAAAAAAT3+eHr+QPa4uIANsRsxFqTBAMwImAAAAAAAAAAAAAAAAAAAAC989St6WN2A3xgAAAAAAAAAAAAAWvlcrHRUxBbs46nVl1QRhj3HCAAAAElA324524tO9rM8+hjo58e6OEKtqK5zUAAAAAAAAAAAAAnbAbsBNZqTW9CgETAAAAAAAAAAAAAAAAAAAABO/P0mV6XNpwG1KAAAAAAAAAAAAAC1s5InYYFivXj6B5/TnJyd0VOQAAAAAAJOuM9T0FK7ccnbVn1xzaM+qzvBXIUAAAAAAAAAAAAC2mI3jEKXoaZa4kAgAAAAAAAAAAAAAAAAAAAADo59zPTPQvfKDeuQAAAAAAAAAAAAAEkX7Lk4c1SAAAAAAAAAAAiYGvTxTtx6eWW3U4I9Tmw04xAKAAAAAAAAAAABrbAb50DPTM1w2xAIAAAAAAAAAAAAAAAAAAAAA1yuWlBbSkmrATAAAAAAAAAAAAAJgbYrGjOCHTzAAAADp5rm12hny9PIAAAAJnZE8+nU6J499uOeOzmz6omM+gAUAAAAAAAAADdgNc0EVmRlegIAAAAAAAAAAAAAAAAAAAAAEwOjPTI0mLlrYwaZgAAAAAAAAAAAAABPRzwTpFjKJ1MQAAJgdmGtzl6bc5iAABe+JeNsTfnEiYGnTxted8N9e+eOL1w0gQCgAAAAAAAL0G8YyTW9CmmWpjAImAAAAAAAAAAAAAAAAAAAAAADWI0Imti2lczfGAAAAAAAAAAAAAAABejQ157QXy2zKtsiAAGtCoBJB0HPpn0GWmGxjZUAABJtSa66c+2+eLs5uOs0xl0ACgAAAAAN8BvnS5SJqRaaFAIAAAAAAAAAAAAAAAAAAAAAAB082xTSlidKyaRiAAABJDt4g6u08htiAAAAAAAAANMw6Ofcx2w3MN8NzC8XOjDfArnvgdGG/ObU0wNc9sC9AAAAABEwLdXHOnPTza76c8ca549wOaaekvku/gDo7zyHRzgAk0tgNcrCud6muGuIBAAAAAAAAAAAAAAAAAAAAAAAF6Det8jQuXnGC9JEAAep5/pm/he15B7Pier5B7vhe34gAAAAAAAAAAAmBe2QuoO3DbAnEN8AmAAAAAAAAABJmquty6bZ0jswl7vOqx79jy/X8U9zwva8Rfe8H2/EAFoG0YyI0zK2z1M6AiYAAAAAAAAAAAAAAAAAAAAAAAANWe5Wc9Cds6G2LQzTAB7Xj+sL+R9D88en5Hu+Ge14nu+EAAAAAAAAAAAAAAAAAAAAAAAAAAAAiYFujlnTnq6s7ac8/Jvjj37Xie74fN9rxPe8FRJG1czfKtykTmWm2JAIAAAAAAAAAAAAAAAAAAAAAAAAA2xkva2RpelzSmckW6oOQAHXyB19vjjbEAAAAAAAAAAAAAAAAAAAAAAAAAAAAAATu28tXa477Z79vJjLfllj3NeyTl0xhb0vQisakYzAiYAAAAAAAAAAAAAAAAAAAAAAAAAANq03KznsdGnNkWrO5zpgAAAAAAAAAAAAAAAAAAAAAAAAAAAAAAAAAAATBJ3557nZyurXjit0c+GnZny6y5RfEm84kAgAAAAAAAAAAAAAAAAAAAAAAAAAADXIar5GmmUm2K5S2uJAAAAAAAAAAAAAAAAAAAAAAAAAAAAAAAAAAAAAS0NjDauZrkhYV1K5AiYAAAAAAAAAAAAAAAAAAAAAAAAAAAAL6YbFb1GtsgteSuYAAAAAAAAAAAAAAAAAAAAAAAAAAAAAAAAAAANKQXpqIZhSYL0viCAAAAAAAAAAAAAAAAAAAAAAAAAAAAABMDoyjYrbLQvRqRaMg0oQAAAAAWKr0BYqtUAAAAAAAAAAAAAAAAGpkAsKgAAAAGojPQzvfEms5jVkRCAAAAAAAAAAAAAAAAAAAAAAAAAAAAAAABrkNq3qWmlhrWScmpnGmYAAAB0ep41T2vP0kz9HjodHmWyAAAAAAAAAAAAAAAEwPe5fNqez43ueOe/xW84tzAAAAmLlNLYm2N5KQqRaLFc0AAAAAAAAAAAAAAAAAAAAAAAAAAAAAAAAADo55LzfI0RJrEUGyhQuUAAA6rc57nk8/sHFtz8h7XBn3HlAAAAAAAAAAAAAAAAevjUxzy2PRz4cj1vJ9zwwAAvQ2xtoUvjYqQREajCYEAAAAAAAAAAAAAAAAAAAAAAAAAAAAAAAAAABO/PYm9sjS+VjTNqWxtQmOjnAANvW8Me35vMOn0vEHueRkAAAAAAD17HjPS80PaHiu3iAAAAAEwPouXxx6vm0HuR4g7OMAEx0GG2Fit74mmaBRqMUCAAAAAAAAAAAAAAAAAAAAAAAAAAAAAAAAAAAAAnfnkvN8y9srjbHQrEbjBYq0zDo5wAAAAAAAADr5HvEeV38R0+Z6HnnueH7fiAAAAAAAAA6DnLlNqUJb85vheohQmGgxVAAAAAAAAAAAAAAAAAAAAAAAAAAAAAAAAAAAAAAAG+A2peSJzuaKB0VzK9fN1nNm2MQAAAAAAAJgb4e/xHX5npeKd/ne9ym/ier5QAAAAAAAAvfE7OPt5DXCdTO2YQoLzBbBAAAAAAAAAAAAAAAAAAAAAAAAAAAAAAAAAAAAAAAAAAvQdGdNzO8UNESd3FtgWvbAbVqVlqYlygAAAAAJ1xAE6ZAAAAAAAtUmNaGmNrkRTcx7eHcwIJpFyujEtmAAAAAAAAAAAAAAAAAAAAAAAAAAAAAAAAAAAAAAAAAAAAGmnPJdeSs5yaQG+EwbZbYGkaYE3tkRN6lVhVIgAABcUAAAJITYonQrFdjO+W5hvhuYb4SRMBFYJaQTSlQAAAAAAAAAAAAAAAAAAAAAAAAAAAAAAAAAAAAAAAAAAAAAABao6IwuJ0giaC6JNcg3wvQ3w3wNsd8DWmuBdfItF6BIvMSY2roZ3pqZaZbGWuO5htjuYb4bmG+FymuQEExUI0kicqF6AAAAAAAAAAAAAAAAAAAAAAAAAAAAAAAAAAAAAAAAAAAAAAAAAAAvQbzzyaVtcztNC7OS6tjTMNsQ3wtU2x0zNKzU1mJMdMtDPfDQz3wsV2xDTMCpZSC9VzO16F4xgvQAAAAAAAAAAAAAAAAAAAAAAAAAAAAAAAAAAAAAAAAAAAAAAAAAAAAAAALXyHQ55NarFGootAmsF2Y0ZjVkNGY0ZjSKyEyZtRnZU0YQa0qAAAAAAAAAAAAAAAAAAAAAAAAAAAAAAAAAAAAAAAAAAAAAAAAAAAAAAAAAAAAAALTQaziN2A6HOOhzjoc43YDaMheKgAAAAAAAAAAAAAAAAAAAAAAAAAAAAAAAAAAAAAAAAAAAAAAAAAAAAAAAAAAAAAAAAAAAAAAAAAAAAAAAAAAAAAAAAAAAAAAAAAAAAAAAAAAAAAAAAAAAAAAAAAAAAAAAAAAAAAAAAAAAAAAAAAAAAAAAAAAAAAAAAAAAAAAAAAAAAAAAAAAAAAAAAAAAAAAAAAAAAAAAAAAAAAAAAAAAAAAAAAAAAAAAAAAAAAAAAAAAAAAAAAAAAAAAAAAAAAAAAAAAAAAAAAAAAAAAAAAAAAAAAAAAAAAAAAAAAAAAAAAAAAAAAAAAAAAAAAAAAAAAAAAAAAAAAAAAAAAAAAAAAAAAAAAAAAAAAAAAAAAAAAAAAAAAAAAAAAAAAAAAAAAAAAAAAAAAAAAAAAAAAAAAAAAAAAAAAAAAAAAAAAAAAAAAAAAAAAAAAAAAAAAAAAAAAAAAAAAAAAAAAAAAAAAAAAAAAAAAAAAAAAAAAAAAAAAAAAAAAAAAAAAAAAAAAAAAADo+h4+E9ryPO+qPlO3i9Y9j5H6r5UH1B8v6HJ2nrz8v2Fc/Wg7Hi8J6Pm/V/KADs4/pifmPqvlT2e/T5M+p+d6O48IAAAAAAAAAAAAAAAAAAAAAAAAAAAAAAAAAAAAAAAAAAAAAAAAAAAAAAAAAAAH0Hlep5ZyfVfK/VHyoPqflvqflhavScwH0nNmcnqfP++eXydfIfVfK/VfKguenX1vmj6X5X6v5U+q8Xj9I6+T1vlSgAAAAAAAAAAAAAAAAAAAAAAAAAAAAAAAAAAAAAAAAAAAAAAAAAAAAAAAAAAAPYeR7Z5vvc/jGAPqflvX8gfQfPjTv8z1D0fB9ceL6mXmnr8PpaHR81pU7OXv8k+gfPj7H5jt8gen5nsDx5gAAAAAAAAAAAAAAAAAAAAAAAAAAAAAAAAAAAAAAAAAAAAAAAAAAAAAAAAAAAAAAAAAAAAAAAAAAAAAAAAAAAAAAAAAAAAAAAAAAAAAAAAAAAAAAAAAAAAAAAAAAAAAAAAAAAAAAAAAAAAAAAAAAAAAAAAAAAAAAAAAAAAAAAAAAAAAAAAAAAAAAAAAAAAAAAAAAAAAAAAAAAAAAAAAAAAAAAAAAAAAAAAAAAAAAAAAAAAAAAAAAAAAAAAAAAAAAAAAAAAAAAAAAAAAAAAAAAAAAAAAAAAAAAAAAAAAAAAAAAAAAAAAAAAAAAAAAAAAAAAAAAAAAAAAAAAAAAAAAAAAAAAAAAAAAAAAAAAAAAAAAAAAAAAAAAAAAAAAAAAAAAAAAAAAAAAAAAAAAAAAAAAAAAAAAAAAAAAAAAAAAAAAAAAAAAAAAAAAAAAAAAAAAAAAAAAAAAAAAAAAAAAAAAAAAAAAAAAAAAAAAAAAAAAAAAAAAAAAAAAAAAAAAAAAAAAAAAAAAAAAAAAAAAAAAAAAAAAAAAAAAAAAAAAAAAAAAAAAAAAAAAAAAAAAAAAAAAAAAAAAAAAAAAAAAAAAAAAAAAAAAAAAAAAAAAAAAAAAAAAAAAAAAAAAAAAAAAAAAAAAAAAAAAAAAAAAAAAAAAAAAAAAAAAAAAAAAAAAAAAAAAAAAAAAAAAAAAAAAAAAAAAAAAAAAAAAAAAAAAAAAAAAAAAAAAAAAAAAAAAAAAAAAAAAAAAAAAAAAAAAAAAAAAAAAAAAAAAAAAAAAAAAAAAAAAAAAAAAAAAAAAAAAAAAAAAAAAAAAAAAAAAAAAAAAAAAAAAAAAAAAAAAAAAAAAAAAAAAAAAAAAAAAAAAAAAAAAAAAAAAAAAAAAAAAAAAAAAAAAAAAAAAAAAAAAAAAAAAAAAAAAAAAAAAAAAAAAAAAAAAAAAAAAAAAAAAAAAAAAAAAAAAAAAAAAAAAAAAAAAAAAAAAAAAAAAAAAAAAAAAAAAAAAAAAAAAAAAAAAAAAAAAAAAAAAAAAAAAAAAAAAAAAAAAAAAAAAAAAAAAAAAAAAAAAAAAAAAAAAAAAAAAAAAAAAAAAAAAAAAAAAAAAAAAAAAAAAAAAAAAAAAAAAAAAAAAAAAAAAAAAAAAAAAAAAAAAAAAAAAAAAAAAAAAAAAAAAAAAAAAAAAAAAAAAAAAAAAAAAAAAAAAAAAAAAAAAAAAAAAAAAAAAAAAAAAAAAAAAAAAAAAAAAAAAAAAAAAAAAAAAAAAAAAAAAAAAAAAAAAAAAAAAAAAAAAAAAAAAAAAAAAAAAAAAAAAAAAAAAAAAAAAAAAAAAAAAAAAAAAAAAAAAAAAAAAAAAAAAAAAAAAAAAAAAAAAAAAAAAAAAAAAAAAAAAAAAAAAAAAAAAAAAAAAAAAAAAAAAAAAAAAAAAAAAAAAAAAAAAAAAAAAAAAAAAAAAAAAAAAAAAAAAAAAAAAAAAAAAAAAAAAAAAAAAAAAAAAAAAAAAAAAAAAAAAAAAAAAAAAAAAAAAAAAAAAAAAAAAAAAAAAAAAAAAAAAAAAAAAAAAAAAAAAAAAAAAAAAAAAAAAAAAAAAAAAAAAAAAAAAAAAAAAAAAAAAAAAAAAAAAAAAAAAAAAAAAAAAAAAAAAAAAAAAAAAAAAAAAAAAAAAAAAAAAAAAAAAAAAAAAAAAAAAAAAAAAAAAAAAAAAAAAAAAAAAAAAAAAAAAAAAAAAAAAAAAAAAAAAAAAAAAAAAAAAAAAAAAAAAAAAAAAAAAAAAAAAAAAAAAAAAAAAAAAAAAAAAAAAAAAAAAAAAAAAAAAAAAAAAAAAAAAAAAAAAAAAAAAAAAAAAAAAAAAAAAAAAAAAAAAAAAAAAAAAAAAAAAAAAAAAAAAAAAAAAAAAAAAAAAAAAAAAAAAAAAAAAAAAAAAAAAAAAAAAAAAAAAAAAAAAAAAAAAAAAAAAAAAAAAAAAAAAAAAAAAAAAAAAAAAAAAAAAAAAAAAAAAAAAAAAAAAAAAAAAAAAAAAAAAAAAAAAAAAAAAAAAAAAAAAAAAAAAAAAAAAAAAAAAAAAAAAAAAAAAAAAAAAAAAAAAAAAAAAAAAAAAAAAAAAAAAAAAAAAAAAAAAAAAAAAAAAAAAAAAAAAAAAAAAAAAAAAAAAAAAAAAAAAAAAAAAAAAAAAAAAAAAAAAAAAAAAAAAAAAAAAAAAAAAAAAAAAAAAAAAAAAAAAAAAAAAAAAAAAAAAAAAAAAAAAAAAAAAAAAAAAAAAAAAAAAAAAAAAAAAAAAAAAAAAAAAAAAAAAAAAAAAAAAAAAAAAAAAAAAAAAAAAAAAAAAAAAAAAAAAAAAAAAAAAAAAAAAAAAAAAAAAAAAAAAAAAAAAAAAAAAAAAAAAAAAAAAAAAAAAAAAAAAAAAAAAAAAAAAAAAAAAAAAAAAAAAAAAAAAAAAAAAAAAAAAAAAAAAAAAAAAAAAAAAAAAAAAAAAAAAAAAAAAAAAAAAAAAAAAAAAAAAAAAAAAAAAAAAAAAAAAAAAAAAAAAAAAAAAAAAAAAAAAAAAAAAAAAAAAAAAAAAAAAAAAAAAAAAAAAAAAAAAAAAAAAAAAAAAAAAAAAAAAAAAAAAAAAAAAAAAAAAAAAAAAAAAAAAAAAAAAAAAAAAAAAAAAAAAAAAAAAAAAAAAAAAAAAAAAAAAAAAAAAAAAAAAAAAAAAAAAAAAAAAAAAAAAAAAAAAAAAAAAAAAAAAAAAAAAAAAAAAAAAAAAAAAAAAAAAAAAAAAAAAAAAAAAAAAAAAAAAAAAAAAAAAAAAAAAAAAAAAAAAAAAAAAAAAAAAAAAAAAAAAAAAAAAAAAAAAAAAAAAAAAAAAAAAAAAAAAAAAAAAAAAAAAAAAAAAAAAAAAAAAAAAAAAAAAAAAAAAAAAAAAAAAAAAAAAAAAAAAAAAAAAAAAAAAAAAAAAAAAAAAAAAAAAAAAAAAAAAAAAAAAAAAAAAAAAAAAAAAAAAAAAAAAAAAAAAAAAAAAAAAAAAAAAAAAAAAAAAAAAAAAAAAAAAAAAAAAAAAAAAAAAAAAAAAAAAAAAAAAAAAAAAAAAAAAAAAAAAAAAAAAAAAAAAAAAAAAAAAAAAAAAAAAAAAAAAAAAAAAAAAAAAAAAAAAAAAAAAAAAAAAAAAAAAAAAAAAAAAAAAAAAAAAAAAAAAAAAAAAAAAAAAAAAAAAAAAAAAAAAAAAAAAAAAAAAAAAAAAAAAAAAAAAAAAAAAAAAAAAAAAAAAAAAAAAAAAAAAAAAAAAAAAAAAAAAAAAAAAAAAAAAAAAAAAAAAAAAAAAAAAAAAAAAAAAAAAAAAAAAAAAAAAAAAAAAAAAAAAAAAAAAAAAAAAAAAAAAAAAAAAAAAAAAAAAAAAAAAAAAAAAAAAAAAAAAAAAAAAAAAAAAAAAAAAAAAAAAAAAAAAAAAAAAAAAAAAAAAAAAAAAAAAAAAAAAAAAAAAAAAAAAAAAAAAAAAAAAAAAAAAAAAAAAAAAAAAAAAAAAAAAAAAAAAAAAAAAAAAAAAAAAAAAAAAAAAAAAAAAAAAAAAAAAAAAAAAAAAAAAAAAAAAAAAAAAAAAAAAAAAAAAAAAAAAAAAAAAAAAAAAAAAAAAAAAAAAAAAAAAAAAAAAAAAAAAAAAAAAAAAAAAAAAAAAAAAAAAAAAAAAAAAAAAAAAAAAAAAAAAAAAAAAAAAAAAAAAAAAAAAAAAAAAAAAAAAAAAAAAAAAAAAAAAAAAAAAAAAAAAAAAAAAAAAAAAAAAAAAAAAAAAAAAAAAAAAAAAAAAAAAAAAAAAAAAAAAAAAAAAAAAAAAAAAAAAAAAAAAAAAAAAAAAAAAAAAAAAAAAAAAAAAAAAAAAAAAAAAAAAAAAAAAAAAAAAAAAAAAAAAAAAAAAAAAAAAAAAAAAAAAAAAAAAAAAAAAAAAAAAAAAAAAAAAAAAAAAAAAAAAAAAAAAAAAAAAAAAAAAAAAAAAAABAAUAAAAAAAAAAAAAAAAAAAAAAAAAAAAAAAAAAAAAAAAAAAAAAAAAAAAAAAAAAAAAAAAAAAAAEG9YPR2148l7LqeM9bHm+c6MMu4TEAoAAAAAAAAAAAAAAAAAAAAAAAAAAAAAAAAAAAAAAAAAAAAAAAAAAAAAAAAAAAAAAAAAAI229HfPHc9WQWAAMN0vkY+55/m144l59IACgAAAAAAAAAAAAAAAAAAAAAAAAAAAAAAAAAAAAAAAAAAAAAAAAAAAAAAAAAAAAAAAOvH2N85HrwAAAAAA87k9vyfLtjEx59AUAAAAAAAAAAAAAAAAAAAAAAAAAAAAAAAAAAAAAAAAAAAAfQHl+hn5h7XN5fWctPpPHOMAAAAAAAAAAAAAAA0T0ek+j5gsAPYxx781em3AAADn6Evhxtl4PRVMc0FAAAAAAAAAAAAAAvtS5HP0YlVqgAAAAAAAAAAAAAAAAAAAAAAAAAsezw+p88AAPo/nOgzz9rxQAAAAAAAAAAAAAB3cPqa8dQ9vnATEnuD5/prwei7nhPX87044jTkADg4vT83x71iYx7BQAAAAAAAAAAAAJ6o5i9I6TDbCDs4+jIoAAAAAAAAAAAAAAAAAAAAAAAAB1cvSel4v2HyJQAAH0Pz30PzwAAAAAAAAAAAAAA9byfW3z6B68AExJ7g+f6QETSvP5dsfb5w6gGHl+p5fl2rEx59AUAAAAAAAAAAABMXNefbEdfL1HPTp5h083UcoAAAAAAAAAAAAAAAAAAAAAAAAAOzjXKAAd3N75weVMAAAAAAAAAAAAAAD0vN7NOPSHu84CYk9wfP9KMfO056+Gr1Yh1AAOXzuzj8e9YmMewUAAAAAAAAAAABMDp5unEpegmAne3OVAAAAAAAAAAAAAAAAAAAAAAAAAA9Hzh9H5/ndhbq5+U9rwsgAAAAAAAAAAAAAAAvQnuzx9n0PMHUA9HHkZ9BpyAAAieWXizmvg9ERMc0FAAAAAAAAAAAAAdPMOjOtydMczTMAAAAAAAAAAAAAAAAAAAAAAAAAAAAAAAAAAAAAAAAAAAAAAL+x4m+ufrq29uAAAAAAgr5d8fJtEIx0QQCgAAAAAAAAAAAAAAAAAAAAAAAAAAAAAAAAAAAAAAAAAAAAAAAAAAAAAAAAAAAAAAJgm/p+Nbbj23F1+rGw6gABXl5vT52dfNqhGWkRMcgUAAAAAAAAAAAAAAAAAAAAAAAAAAAAAAAAAAAAAAAAAAAAAAAAAAAAAAAAAAAAAAAAETAtNVdW3BOnPovOdTuy5nK0RHHUwiURAAKAAAAAAAAAAAAAAAAAAAAAAAAAAAAAAAAAAAAAAAAAAAAAAAAAAAAAAAAAAAAAAAAACJgSgWQqUAhEwAKAAAAAAAAAAAAAAAAAAAAAAAAAAAAAAAAAAAAAAAAAAAAAAAAAAAAAAAAAAAAAAAAAAAAAACAAoAAAAAAAAAAAAAAAAAAAAAAAAAAAAAAAAAAAAAAAAAAAAAAAAAAAAAAAAAAAAAAAAAAAAAAAAAAAAAAAAAAAAAAAAAAAAAAAAAAAAAAAAAAAAAAAAAAAAAAAAAAAAAAAAAAAAAAAAAAAAAAAAAAAAAAAAAAAAAAAAAAAAAAAAAAAAAAAAAAAAAAAAAAAAAAAAAAAAAAAAAAAAAAAAAAAAAAAAAAAAAAAAAAAAAAAAAAAAAAAAAAAAAAAAAAAAAAAAAAAAAAAAAADSfUPOw97nPOr23PN6PV5jyXqeWAAAAAAAAAAAAAAD1jh668524ZQYV9nzjnAAAAAAAAAAAAAAAJNezDf0ZU4O/l46yaZ5dAoAAAAAAAAAAAAADTuuY35Km3J29p4rXIAAAAAAAAAAAAAA7PR8X0zk5A7uL1PMI9jxtD1fG9XygAAAAAAAAAAAAASelz9lDbsZEeLiHsdPkGFPS80AAAAAAAAAAAAAAv61Oj2YInztOfRVt1zh5HveR5tcB5tgAAAAAAAAAAAAAPTw4+gw7+H0zyrVHteN06HCAAAAAAAAAAAAADqvnqcIPV823qHjJg9fyPX8gAAAAAAAAAAAAAb4bHV6HB2nRhj4wO005NuU9XyPX8gAAAAAAAAAAAAAXptZ7A+j5Xlel5mGnobeb6WnLj7OY8oeD0gAAAAAAAAAAAALPTPKB6fRw9Z5VJgn1fL9M8oAAAAAAAAAAAAAE+v4/oHnvU8sa5Cd49Y4/OmAAAAAAAAAAAAAAD2fI69Dzj0zk96vMbeTX0Dl4JgAAAAAAAAAAAAAWqT3Z4u36HmY7LK2KcPb42OmY8e4AAAAAAAAAAAAD2PH6Tmer5QANjop2+OAAAAAAAAAAAAAAPS80dfb449d5A9TLgG2IAAAAAAAAAAAAAAO7hHscnH0k744Hp+VQAAAAAAAAAAAAAAAT6XmO+feeLt6MvUp5nPLvgebUJQAAAAAAAAAAAAAOrv8AGHo057Ha8ypMAAAAAAAAAAAAAAJISIAAAAAAAAAAAAAAAALFV6ABegATAAAAAAAAAAAANEzCgAAF6ICgAAAAAAAAACxVeCoAAAAABJAAAC9AAAAAAAAAADtvrJwpsRz+gOOe7jIp09Bw4d+BPN6NDgAAAAAAAAAAA9LzfSMdbc5hf0oOfg9Kphza9Rnj2bnmV9XnOXDu4QAAAAAAAADvy28/Tjopl6cvBrrz1nfrunHh3iOPTqOS3XWufDbo5vK9J3zlxdfDzdK99Kw59Orm8A46AAAAbYj1+Ho881emPK16ucyr2WOLXq4zn6OvI5o7xx683aYROpzurpPH6d+Q6+Ptk5Muyxzc/VygAAAAAADbEduXOPTr5w9GfNHoc2A6Ojzx2a+cO+fPAAAAAAAAAAAD0fOGnXwD0qcA9CnEPQz49jrtjxHbXkHreSAAAAAAAAAHbPC75678KOjfgHbPCrrciO+vErujiE9vCl9HHkWdmfOjupyDupyKDjoAAAAD0PPD08eIehyZDr188erTPhOvp8senTzw9Dzx7PFxj1beQO2/nj0beYPUy4BegAAAAAAAAAAAAAAAAAAAAAAAAAAAAAAAAAAAAAAAAAAAAAAAAAAAAAAAAAAAAAAAAAAAAAAAAAAAAAAAAAAAAAAAAAAAAAAAAAAAAAAAAAAAAAAAAAAAAAAAAAAAAAAAAAAAAAAAAAAAAAAAAAAAAAAAAf/EAAL/2gAMAwEAAgADAAAAIQAAAAAAAAAAAAAAAAAAAAAAAAAAAAAAAAAAAAAAAAAAAAAAAAAAAAAAAAAAAAAAAAAAAAAAAAAAAAAAAAAAAAAAAAAAAAAAAAAAAAAAAAAAAAAAAAAAAAAAAAAAAAAAAAAAAAAAAAAAAAAAAAAAAAAAAAAAAAAAAAAAAAAAAAAAAAAAAAAAAAAAAAAAAAAAAAAAAAAAAAAAAAAAAAAAAAAAAAAAAAAAAAAAAACAAAAACAAAAAAAAAAAAAAAAAAAAAAAAAAAAAAAACBBACMLKIACAACAAAACAAAAABAADBAAAAAAHACFHEOOECAELGAAAAAAAAAAAAAAAAAAAAAAAABLPFCOAIIIABBAFICAADAH6gICFNINFAAAAAAMCAGIFHMBMNAMAAAAAAAAAAAAAAAAAAAAAAAAABMCBBKCEMDAAGENBIAJHCAIQEIEFADEAAAAAAAAAAAAAAAAAAAAAAAAAAAAAAAAAAAAAAAAAAAAAAAAAAAAAEAAAAAAAAAAAAAAAAAAAAAAAAAAAAAAAAAAAAAAAAAAAAAAAAAAAAAAAAAAAAAAAAAAAAAAAAAAAAAAAAAAAAAAAAAAAAAAAAAAAAAAAAAAAAAAAAAAAAAAAAAAAAAAAAAAAAAAAAAAAAAAAAAAAAAAAAAAAAAAAAAAAAAAAAAAAAAAAAAAAAAAAAAAAAAAAAAAAAAAAAAAAAAAAAAAAAAAAAAAAAAAAAAAAAAAAAAAAAAAAAAAAAAAAAAAAAAAAAAAAAAAAAAAAAAAAAAAAAAAAAAAAAAAAAAAAAAAAAAAAAAAAAAAAAAAAAAAAAAAAAAAAAAAAAAAAAAAAAAAAAAAAAAAAAAAAAAAAAAAAAAAAAAAAAAAAAAAAAAAAAAAAAAAAAAAAAAAAAAAAAAAAABGKAAAAAAFKAAAAAAFAAAAAAAAAAAAAAAAAAAAAAAAAAAAAAAAAAAAAAAAAAAAAAAAAAAAAAAAAIAAHGBFGLBNGEKHNMJDDGBCAAAAAAAAAAAAAAAAAAAAAAAAAAAAAAAAAAAAAAAAAAAAAAAAAAAAFDBAKDHCFKHGFCAHGHBIKDCAAAAAAAAAAAAAAAAAAAAAAAAAAAAAAAAAAAAAAAAAAAAAAAAAAAAAMEIMAIAEIIMAAEAMAIAMAIAAAAAAAAAAAAAAAAAAAAAAAAAAAAAAAAAAAAAAAAAAAAAAAAAAAAAAAAAAAAAAAAAAAAAAAAAAAAAAAAAAAAAAAAAAAAAAAAAAAAAAAAAAAAAAAAAAAAAAAAAAAAAAAAAAAAAAAAAAAAAAAAAAAAAAAAAAAAAAAAAAAAAAAAAAAAAAAAAAAAAAAAAAAAAAAAAAAAAAAAAAAAAAAAAAAAAAAAAAAAAAAAAAAAAAAAAAAAAAAAAAAAAAAAAAAAAAAAAAAAAAAAAAAAAAAAAAAAAAAAAAAAAAAAAAAAAAAAAAAAAAAAAAAAAAAAAAAAAAAAAAAAAAAAAAAAAAAAAAAAAAAAAAAAAAAAAAAAAAAAAAAAAAAAAAAAAAAAAAAAAAAAAAAAAAAAAAAAAAAAAAAAAAAAAAAAAAAAAAAAAAAAAAAAAAAAAAAAAAAAAAAAAAAAAAAAAAAAAAAAAAAAAAAAAAAAAAAAAAAAAAAAAAAAAAAAAAAAAAAAAAAAAAAAAAAAAAAAAAAAAAAAAAAAAAAAAAAAAAAAAAAAAAAAAAAAAAAAAAAAAAAAAAAAAAAAAAAAAAAAAAAAAAAAAAAAAAAAAAAAAAADDPMMMMMMMMMPDDAAAAAAAAAAAAAAAAAAAAAAAAAAAAAAAAAAAAAAAAAAAAAAAAAAAAAAAAADHMMADDHNPOMMPLDDMMLDAAAAAAAAAAAAAAAAAAAAAAAAAAAAAAAAAAAAAAAAAAAAAAAAAAAADPMABNGEPGJDGBPMFCNMNDENDAAAAAAAAAAAAAAAAAAAAAAAAAAAAAAAAAAAAAAAAAAAAAAAADPMDFLJGAGACACBBABAJGLABMJGNDAAAAAAAAAAAAAAAAAAAAAAAAAAAAAAAAAAAAAAAAAAAABHOAAGIAAAAIAENKKKCEAEABEJICELELCAAAAAAAAAAAAAAAAAAAAAAAAAAAAAAAAAAAAAAAAABPIOKICKABBBAAEILMMMBDCCEFBEFGAMDNCAAAAAAAAAAAAAAAAAAAAAAAAAAAAAAAAAAAAAAAHPJOOCJKFAEAAAAAAAAAAAAAIALHGALNAEJELAAAAAAAAAAAAAAAAAAAAAAAAAAAAAAAAAAAAAHOFJCDPJAAAAAAAAACJKIAAAAAAAAGLDBGHAJGLAAAAAAAAAAAAAAAAAAAAAAAAAAAAAAAAAAAHPPAABHICAAAAAAAAAEHAAAAAAAAAABMLCAADCNGLAAAAAAAAAAAAAAAAAAAAAAAAAAAAAAAAAFOGHAAJIAAAAAAAAAAAHMIIAAAAAAACCAEGAADJANEKAAAAAAAAAAAAAAAAAAAAAAAAAAAAAAAAOOGAANAAAMGNAAAAAAAAAAAAAAAAAFCAAAAEAAJJAJFCAAAAAAAAAAAAAAAAAAAAAAAAAAAAAAGGMKJCAAAAGDOLAAAAAAAAAAAAAAAAEMIAAAABGFMFCJNCAAAAAAAAAAAAAAAAAAAAAAAAAAAABKEFACAAAAAAMMIAAAAAAAAAAAAAAAAEEAAAAAAAACIIECLAAAAAAAAAAAAAAAAAAAAAAAAAAAAKPEDGAAAAAAAAAAAAAAAAAAAAAAAAAAAAAAAAAAAIBIPLFECAAAAAAAAAAAAAAAAAAAAAAAAAABHAJMAAAAAAAAAAAAAAAAAAAAAAAAAAAAAAAAAAAAEMEADALNAAAAAAAAAAAAAAAAAAAAAAAAAACIDPGAAAAAAAAAAAAAAAAAAAAAAAAAAAAAAAAAAAAAJMLEIEGKAAAAAAAAAAAAAAAAAAAAAAAABOICKAAAAAAAAAAAAAAAAAAAAAAAAAAAAAAAAAAAAAAAFAGJCKNAAAAAAAAAAAAAAAAAAAAAAAAEEBMIAEBIIAAAAAAAAAAAAAAAAAAAAAAAAAAAAAABIJAEMDIBFFCAAAAAAAAAAAAAAAAAAAAAABFJCIAAKHCKAAAAAAAAAAAACBACAAAAAAAAAAAAAAFEKKAEBEKCKKAAAAAAAAAAAAAAAAAAAAAABOAAAAAHOBIAAAAAAAAAAAAELAOACAAAAAAAAAAAAEGKIAEFAJAJNAAAAAAAAAAAAAAAAAAAAAAGLAAAAAAAAAAAAAAAAABECAAAJAENBEKAAAAAAAAAAAAAAAIAHMFFCAAAAAAAAAAAAAAAAAAAAAJALIAAAAAAAAAAAAAAAAEAAABDBAAIFDCAAAAAAAAAAAAAAAAACACKAAAAAAAAAAAAAAAAAAAAEFCMAAAAAAAAAAAAAAAGHAAAAFMEBAAEDACAAAAAAAAAAAAAAJBKIKKAAAAAAAAAAAAAAAAAAAABOCCAAAAAAAAAAAAAEFMAAAAAAAIPAAAELCIAAAAAAAAAAAAEMCNIKPAAAAAAAAAAAAAAAAAAAABINIAAAAAAAAAAAAAAEAOHAAAAFHMAAKANAAAAAAAAAAAAAAAAHEDNNAAAAAAAAAAAAAAAAAAAAHKFIAAAAAAAAAAAAAFIAALEAAAEDKAACIAEAAAAAAAAAAAAAAMDHONFAAAAAAAAAAAAAAAAAAAAJAMEAADCAAAAAAAAAEIAAEAADwz7IAAIAAAMAAAAAAAAACBAAAMBHFFAAAAAAAAAAAAAAAAAAAAJKMMAAIMGAAAAAAAAAIAAAAAO0MuSQAAAAIEAAAAAAAAEABHAEMFGHFAAAAAAAAAAAAAAAAAAAAEKMIAEKNDAAAAAAAAJAAAAAAB3DbXDQAAAHGAAAAAAAAAKOIAEMNKPFAAAAAAAAAAAAAAAAAAAAJIMMAAMMIAAAAAAAABLAAAAAAN60lVpyQAAIAAAAAAAAAMEAAEMMGPFAAAAAAAAAAAAAAAAAAAACIAEAAAAAAAAAAAAAJIALHJAAAAMT1sxTQDOAAAAAAAAAAAAAAAIEOFAAAAAAAAAAAAAAAAAAAAKIIIAAAAAAAAAAAAAEKLCKBAAAAAEN2ynY4cAAAAAAAAAAAAAMEECKPAAAAAAAAAAAAAAAAAAAAEKEAAAAAAAAAAAAAAEMFAAAAAAAAAAMb4eYLQAAAAAAAAAAAAAFFPKKAAAAAAAAAAAAAAAAAAAAAHNAAAAAAAAAAAAAAEAKBAAAAACBAAAALwZupyQAAAAAAAAAEALPHJKAAAAAAAAAAAAAAAAAAAAALFOAAAAAAAAAAAAAAALAAAAABKOAAACEAbxCGrwAAAAAAAAEIAHPFAAAAAAAAAAAAAAAAAAAAAAMJNIAAAAAAAAAAAAAAABCCLAAAAAGKCEAANSpKtyQAAAAAAMFGMKHAAAAAAAAAAAAAAAAAAAAAABJCACAAAADAAAAAAAAAAEAFHNAAECMIAAAAEb6nkbxCBCAAIHGBAKAAAAAAAAAAAAAAAAAAAAAAADFGBAACAAAAAAAAAAAAAAACMDEOAAAAAAAAANTJyc+WAADIADGFIAAAAAAAAAAAAAAAAAAAAAAABCLMCAMCBAAAAAAAAAAAAAAAAAAAAAAAAAAAAEb2ZtzwAKFBDIOAAAAAAAAAAAAAAAAAAAAAAAABLAIDAAIIIAAAAAAAAAAAAAAAAAAAAAAAAAAAAAMfUTk4WIHGFIAAAAAAAAAAAAAAAAAAAAAAAAAPCGKCAAAAAAAAAAAAAAAAAAAAAAAAAAAAAAAAAAEJ+DvABLAOAAAAAAAAAAAAAAAAAAAAAAAAAAFPGJKAAAAAAAAAAAAAAAAAAAAAAAAAAAAAAAAAAAAMd6ZPCFIAAAAAAAAAAAAAAAAAAAAAAAAAAAFBIBJAAAAAAAAAAAAAAAAAAAAAAAAAAAAAAAAAAAADIDIBOAAAAAAAAAAAAAAAAAAAAAAAAAAAAAOOJEAAAAAABCCAAAAAAAAAAAAAAAAADAACAAAACMCNNBOAAAAAAAAAAAAAAAAAAAAAAAAAAAAAAAMECBAAAAAFJBCAAAAAAAAAAAAAAABDPDAAAAACCANJPIAAAAAAAAAAAAAAAAAAAAAAAAAAAAAAAIHAIAAAAACBFNAAAAAAAAAAAAAAAAEFMCAABLFALEHIAAAAAAAAAAAAAAAAAAAAAAAAAAAAAAAAAMLGBGEAAEIMIAAAAAABDACAAAAAAMAAIAAHGAHOHIAAAAAAAAAAAAAAAAAAAAAAAAAAAAAAAAAAANHCHBDBAAAAAAAAAAKNCCAAAAAAAAACHMCJLNPIAAAAAAAAAAAAAAAAAAAAAAAAAAAAAAAAAAAAAMFKMAFAAAAAAAAAFJALKAAAAAAAAGBPMFKFPIAAAAAAAAAAAAAAAAAAAAAAAAAAAAAAAAAAAAAAAEKLJGKHCAAAAAAAEIMAAAAAADBNFNGHEHPIAAAAAAAAAAAAAAAAAAAAAAAAAAAAAAAAAAAAAAAAAANILIIICIDDAAAADAAADDPHAIEEHAJPOAAAAAAAAAAAAAAAAAAAAAAAAAAAAAAAAAAAAAAAAAAAAAEBNIAIIAEAIEGKCIBAFAAAIEODHOIAAAAAAAAAAAAAAAAAAAAAAAAAAAAAAAAAAAAAAAAAAAAAAAAAFHPCKAICEKKHABEAFBPLPGIAAAAAAAAAAAAAAAAAAAAAAAAAAAAAAAAAAAAAAAAAAAAAAAAAAAAAAEIAPGIDDPDDEJPAGMIAAAAAAAAAAAAAAAAAAAAAAAAAAAAAAAAAAAAAAAAAAAAAAAAAAAAAAAAAAAAEEAEEMIIAIIAAAAAAAAAAAAAAAAAAAAAAAAAAAAAAAAAAAAAAAAAAAAAAAAAAAAAAAAAAAAAAAAAAAAAAAAAAAAAAAAAAAAAAAAAAAAAAAAAAAAAAAAAAAAAAAAAAAAAAAAAAAAAAAAAAAAAAAAAAAAAAAAAAAAAAAAAAAAAAAAAAAAAAAAAAAAAAAAAAAAAAAAAAAAAAAAAAAAAAAAAAAAAAAAAAAAAAAAAAAAAAAAAAAAAAAAAAAAAAAAAAAAAAAAAAAAAAAAAAAAAAAAAAAAAAAAAAAAAAAAAAAAAAAAAAAAAAAAAAAAAAAAAAAAAAAAAAAAAAAAAAAAAAAAAAAAAAAAAAAAAAAAAAAAAAAAAAAAAAAAAAAAAAAAAAAAAAAAAAAAAAAAAAAAAAAAAAAAAAAAAAAAAAAAAAAAAAAAAAAAAAAAAAAAAAAAAAAAAAAAAAAAAAAAAAAAAAAAAAAAAAAAAAAAAAAAAAAAAAAAAAAAAAAAAAAAAAAAAAAAAAAAAAAAAAAACEFCBBFJAIACDGFAAAAAAAAAAAAAAAAAAAAAAAAAAAAAAAAAAAAAAAAAAAAAAAAAAAAAAAAAAAACBAKBCGBACBFBPGAAAAAAAAAAAAAAAAAAAAAAAAAAAAAAAAAAAAAAAAAAAAAAAAAAAAAAAAAAAAKDAIEJIPBGMAIEKAAAAAAAAAAAAAAAAAAAAAAAAAAAAAAAAAAAAAAAAAAAAAAAAAAAAAAAAAAAAAAAAAAAAAAAAAAAAAAAAAAAAAAAAAAAAAAAAAAAAAAAAAAAAAAAAAAAAAAAAAAAAAAAAAAAAAAAAAAAAAAAAAAAAAAAAAAAAAAAAAAAAAAAAAAAAAAAAAAAAAAAAAAAAAAAAAAAAAAAAAAAAAAAAAAAAAAAAAAAAAAAAAAAAAAAAAAAAAAAAAAAAAAAAAAAAAAAAAAAAAAAAAAAAAAAAAAAAAAAAAAAAAAAAAAAAAAAAAAAAAAAAAAAAAAAAAAAAAAAAAAAAAAAAAAAAAAAAAAAAAAAAAAAAAAAAAAAAAAAAAAAAAAAAAAAAAAAAAAAAAAAAAAAAAAAAAAAAAAAAAAAAAAAAAAAAAAAAAAAAAAAAAAAAAAAAAAAAAAAAAAAAAAAAAAAAAAAAAAAAAAAAAAAAAAAAAAAAAAAAAAAAAAAAAAAAAAAAAAAAAAAAAAAAAAAAAAAAAAAAAAAAAAAAAAAAAAAAAAAAAAAAAAAAAAAAAAAAAAAAAAAAAAAAAAAAAAAAAAAAAAAAAAAAAAAAAAAAAAAAAAAAAAAAAAAAAAAAAAAAAAAAAAAAAAAAAAAAAAAAAAAAAAAAAAAAAAAAAAAAAAAAAAAAAAAAAAAAAAAAAAAAAAAAAAAAAAAAAAAAAAAAAAAAAAAAAAAAAAAAAAAAAAAAAAAAAAAAAAAAAAAAAAAAAAAAAAAAAAAAAAAAAAAAAAAAAAAAAAAAAAAAAAAAAAAAAAAAAAAAAAAAAAAAAAAAAAAAAAAAAAAAAAAAAAAAAAAAAAAAAAAAAAAAAAAAAAAAAAAAAAAAAAAAAAAAAAAAAAAAAAAAAAAAAAAAAAAAAAAAAAAAAAAAAAAAAAAAAAAAAAAAAAAAAAAAAAAAAAAAAAAAAAAAAAAAAAAAAAAAAAAAAAAAAAAAAAAAAAAAAAAAAAAAAAAAAAAAAAAAAAAAAAAAAAAAAAAAAAAAAAAAAAAAAAAAAAAAAAAAAAAAAAAAAAAAAAAAAAAAAAAAAAAAAAAAAAAAAAAAAAAAAAAAAAAAAAAAAAAAAAAAAAAAAAAAAAAAAAAAAAAAAAAAAAAAAAAAAAAAAAAAAAAAAAAAAAAAAAAAAAAAAAAAAAAAAAAAAAAAAAAAAAAAAAAAAAAAAAAAAAAAAAAAAAAAAAAAAAAAAAAAAAAAAAAAAAAAAAAAAAAAAAAAAAAAAAAAAAAAAAAAAAAAAAAAAAAAAAAAAAAAAAAAAAAAAAAAAAAAAAAAAAAAAAAAAAAAAAAAAAAAAAAAAAAAAAAAAAAAAAAAAAAAAAAAAAAAAAAAAAAAAAAAAAAAAAAAAAAAAAAAAAAAAAAAAAAAAAAAAAAAAAAAAAAAAAAAAAAAAAAAAAAAAAAAAAAAAAAAAAAAAAAAAAAAAAAAAAAAAAAAAAAAAAAAAAAAAAAAAAAAAAAAAAAAAAAAAAAAAAAAAAAAAAAAAAAAAAAAAAAAAAAAAAAAAAAAAAAAAAAAAAAAAAAAAAAAAAAAAAAAAAAAAAAAAAAAAAAAAAAAAAAAAAAAAAAAAAAAAAAAAAAAAAAAAAAAAAAAAAAAAAAAAAAAAAAAAAAAAAAAAAAAAAAAAAAAAAAAAAAAAAAAAAAAAAAAAAAAAAAAAAAAAAAAAAAAAAAAAAAAAAAAAAAAAAAAAAAAAAAAAAAAAAAAAAAAAAAAAAAAAAAAAAAAAAAAAAAAAAAAAAAAAAAAAAAAAAAAAAAAAAAAAAAAAAAAAAAAAAAAAAAAAAAAAAAAAAAAAAAAAAAAAAAAAAAAAAAAAAAAAAAAAAAAAAAAAAAAAAAAAAAAAAAAAAAAAAAAAAAAAAAAAAAAAAAAAAAAAAAAAAAAAAAAAAAAAAAAAAAAAAAAAAAAAAAAAAAAAAAAAAAAAAAAAAAAAAAAAAAAAAAAAAAAAAAAAAAAAAAAAAAAAAAAAAAAAAAAAAAAAAAAAAAAAAAAAAAAAAAAAAAAAAAAAAAAAAAAAAAAAAAAAAAAAAAAAAAAAAAAAAAAAAAAAAAAAAAAAAAAAAAAAAAAAAAAAAAAAAAAAAAAAAAAAAAAAAAAAAAAAAAAAAAAAAAAAAAAAAAAAAAAAAAAAAAAAAAAAAAAAAAAAAAAAAAAAAAAAAAAAAAAAAAAAAAAAAAAAAAAAAAAAAAAAAAAAAAAAAAAAAAAAAAAAAAAAAAAAAAAAAAAAAAAAAAAAAAAAAAAAAAAAAAAAAAAAAAAAAAAAAAAAAAAAAAAAAAAAAAAAAAAAAAAAAAAAAAAAAAAAAAAAAAAAAAAAAAAAAAAAAAAAAAAAAAAAAAAAAAAAAAAAAAAAAAAAAAAAAAAAAAAAAAAAAAAAAAAAAAAAAAAAAAAAAAAAAAAAAAAAAAAAAAAAAAAAAAAAAAAAAAAAAAAAAAAAAAAAAAAAAAAAAAAAAAAAAAAAAAAAAAAAAAAAAAAAAAAAAAAAAAAAAAAAAAAAAAAAAAAAAAAAAAAAAAAAAAAAAAAAAAAAAAAAAAAAAAAAAAAAAAAAAAAAAAAAAAAAAAAAAAAAAAAAAAAAAAAAAAAAAAAAAAAAAAAAAAAAAAAAAAAAAAAAAAAAAAAAAAAAAAAAAAAAAAAAAAAAAAAAAAAAAAAAAAAAAAAAAAAAAAAAAAAAAAAAAAAAAAAAAAAAAAAAAAAAAAAAAAAAAAAAAAAAAAAAAAAAAAAAAAAAAAAAAAAAAAAAAAAAAAAAAAAAAAAAAAAAAAAAAAAAAAAAAAAAAAAAAAAAAAAAAAAAAAAAAAAAAAAAAAAAAAAAAAAAAAAAAAAAAAAAAAAAAAAAAAAAAAAAAAAAAAAAAAAAAAAAAAAAAAAAAAAAAAAAAAAAAAAAAAAAAAAAAAAAAAAAAAAAAAAAAAAAAAAAAAAAAAAAAAAAAAAAAAAAAAAAAAAAAAAAAAAAAAAAAAAAAAAAAAAAAAAAAAAAAAAAAAAAAAAAAAAAAAAAAAAAAAAAAAAAAAAAAAAAAAAAAAAAAAAAAAAAAAAAAAAAAAAAAAAAAAAAAAAAAAAAAAAAAAAAAAAAAAAAAAAAAAAAAAAAAAAAAAAAAAAAAAAAAAAAAAAAAAAAAAAAAAAAAAAAAAAAAAAAAAAAAAAAAAAAAAAAAAAAAAAAAAAAAAAAAAAAAAAAAAAAAAAAAAAAAAAAAAAAAAAAAAAAAAAAAAAAAAAAAAAAAAAAAAAAAAAAAAAAAAAAAAAAAAAAAAAAAAAAAAAAAAAAAAAAAAAAAAAAAAAAAAAAAAAAAAAAAAAAAAAAAAAAAAAAAAAAAAAAAAAAAAAAAAAAAAAAAAAAAAAAAAAAAAAAAAAAAAAAAAAAAAAAAAAAAAAAAAAAAAAAAAAAAAAAAAAAAAAAAAAAAAAAAAAAAAAAAAAAAAAAAAAAAAAAAAAAAAAAAAAAAAAAAAAAAAAAAAAAAAAAAAAAAAAAAAAAAAAAAAAAAAAAAAAAAAAAAAAAAAAAAAAAAAAAAAAAAAAAAAAAAAAAAAAAAAAAAAAAAAAAAAAAAAAAAAAAAAAAAAAAAAAAAAAAAAAAAAAAAAAAAAAAAAAAAAAAAAAAAAAAAAAAAAAAAAAAAAAAAAAAAAAAAAAAAAAAAAAAAAAAAAAAAAAAAAAAAAAAAAAAAAAAAAAAAAAAAAAAAAAAAAAAAAAAAAAAAAAAAAAAAAAAAAAAAAAAAAAAAAAAAAAAAAAAAAAAAAAAAAAAAAAAAAAAAAAAAAAAAAAAAAAAAAAAAAAAAAAAAAAAAAAAAAAAAAAAAAAAAAAAAAAAAAAAAAAAAAAAAAAAAAAAAAAAAAAAAAAAAAAAAAAAAAAAAAAAAAAAAAAAAAAAAAAAAAAAAAAAAAAAAAAAAAAAAAAAAAAAAAAAAAAAAAAAAAAAAAAAAAAAAAAAAAAAAAAAAAAAAAAAAAAAAAAQQAAAAAAAAAAAAAAAAAAAAAAAAAAAAAAAAAAAAAAAAAAAAAAAAAAAAAAAAAAAAAAAAAAAAABXszStpQAAAAAAAAAAAAAAAAAAAAAAAAAAAAAAAAAAAAAAAAAAAAAAAAAAAAAAAAAAAAAAAAAABd/vvvvuWyQAAAAAAAAAAAAAAAAAAAAAAAAAAAAAAAAAAAAAAAAAAAAAAAAAAAAAAAAAAAAAAAAHHvvvvvviXwAAAAAAAAAAAAAAAAAAAAAAAAAAAAAAAAAAAAAAAAAAAACDIBAAAAAAAAAAAAAAAB/Pvt9fvvvoYQAAAAAAAAAAAAABNBCAAAAAAAAAAAAAAAAAAAAAAAAAAOAAJKAAAAAAAAAAAAAAAPvvQ0NfvvsnwAAAAAAAAAAAAAJIEBAAAAAAAAAAAAAAAAAAAAAAAAAEIAABKAAAAAAAAAAAAAAEPvvQw0HfvvPwAAAAAAAAAAAAEKHKMAAAAAAAAAAAAAAAAAAAAAAAAAEAAAFKAAAAAAAAAAAAAAEvvvQ3rfvvtvwAAAAAAAAAAAAAJAAMAAAAAAAAAAAAAAAAAAAAAAAAAAEFEIAAAAAAAAAAAAAAAB9/vn/AL777g/cAAAAAAAAAAAAADDBQAAAAAAAAAAAAAAAAAAAAAAAAAAAAAAAAAAAAAAAAAAAAABAv/77777uuokAAAAAAAAAAAAAAAAAAAAAAAAAAAAAAAAAAAAAAAAAAAAAAAAAAAAAAAAAAAAAAACdXX7778uDcAAAAAAAAAAAAAAAAAAAAAAAAAAAAAAAAAAAAAAAAAAAAAAAAAAAAAAAAAAAAAAAABH9YAT/AH2nhAAAAAAAAAAAAAAAAAAAAAAAAAAAAAAAAAAAAAAAAAAAAAAAAAAAAAAAAAAAAAAAAAARlfBB/ZAAAAAAAAAAAAAAAAAAAAAAAAAAAAAAAAAAAAAAAAAAAAAAAAAAAAAAAAAAAAAAAAAAAAAAABBAAAAAAAAAAAAAAAAAAAAAAAAAAAAAAAAAAAAAAAAAAAAAAAAAAAAAAAAAAAAAAAAAAAAAAAAAAAAAAAAAAAAAAAAAAAAAAAAAAAAAAAAAAAAAAAAAAAAAAAAAAAAAAAAAAAAAAAAAAAAAAAAAAAAAAAAAAAAAAAAAAAAAAAAAAAAAAAAAAAAAAAAAAAAAAAAAAAAAAAAAAAAAAAAAAAAAAAAAAAAAAAAAAAAAAAAAAAAAAAAAAAAAAAAAAAAAAAAAAAAAAAAAAAAYEgoIAAAAAAAAAAAAAAI0cEAAAAAAAAAAAAAAAApqLAAAAAAAAAAAAAAAQoYIAAAAAAAAAAAAAAEAcgAAAAAAAAAAAAAAAMEA0IAAAAAAAAAAAAAAE8thAAAAAAAAAAAAAAAksAMAAAAAAAAAAAAAAoA4IoAAAAAAAAAAAAAAIYg0oAAAAAAAAAAAAAC+vd4AAAAAAAAAAAAAAAAQIYAAAAAAAAAAAAAAQMAwgAAAAAAAAAAAAAQAgEEAAAAAAAAAAAAAAD/v/wAAAAAAAAAAAAAAAEIABIAAAAAAAAAAAAAAAIMEIAAAAAAAAAAAAAAAGPEAAAAAAAAAAAAAAAAM5IAAAAAAAAAAAAAAAAFOIAAAAAAAAAAAAACDAAAAAAAAAAAAAAAAAAACACAAAAAAAAAAAAyAAABwAAAAAAAAAAADAAAAAABAAACAAAAAAAAAAPFHLNJLAAAAAAAAAAAFLNKJBHIAAAAAAAAAE8qE+Y6HoU6KgAAAAENDMMBBHDJEABHAAAAAAAAAAIIEAAAAAAAAAAAAAAAAAANEEIAAAAAAAAAEI4wYwAQME04QAAAAAMIAAIIAAIAIIAIAAAAAAAAAAAAAAAAAAAAAAAAAAAAAAAAAAAAAAAAAAAAAAAAAAAAAAAAAAAAAAAAAAAAAAAAAAAAAAAAAAAAAAAAAAAAAAAAAAAAAAAAAAAAAAAAAAAAAAAAAAAAAAAAAAAAAAAAAAAAAAAAAAAAAAAAP/8QANxAAAgEDAQUGBgIDAQACAwEAAQIDAAQREgUQEyExFCAiMkBQFTAzNEFgI0IkNXBDkKAlRLDQ/9oACAEBAAEHAv8A55ACSB8KuKEMhl4R2XcYNQWzzsyjZVwfeACxwyspxuSN5DiSGaPeY3A1boopJW0/C9NPsuXSWIIJFAEnBBBxuZWXHvEMMkzhJtntGQvwu8xUdg5fRc20ls+msE1bwmeZI3tdlRHQtns2fKyIY3ZCCN1u+ieJmsw16JoJ1+KO1rYXaXge6ZWuZjD/AIti825EeRtMeyDp1di2ZUmyDjU6PGxWre2SaGcw2yNbTTcKTTq+S8ekA1bWklyTXwtK+GR18Mjr4ZHXwyOvhampoXhkKblRm39lucZ3sjruZHT52zkWCCS7lkaWRntbc3MvDubc28xj7bBa2qJYXLXiyxOul2Wxtu0TgbVKmyXcqliFlbsiraXNvLA+I5HibVNpvbUz1svwx3kokg2ioSS2mil4aQQ2KiWSZrrZk0lW1i8665NmeAskbyOE+FoOVzbSW76fcdnTFDIkMKQrhroLdR28kaSoV2jIQi29bH4mqSrdYV2rjaP3s1bI+7qFIH2nNW1eL2ndZyJHdRO9hO10ZtoSpLdOwdray1QRcaVI9ozB5hHuS7trS2Wktb298fwU09re2Xje7tru2bds6TRcrVyqQrbW2qftxSTHEf5EiKIxU/kXdESuyZjFYwmNTPHw5WTeCRW0I+NLZC9tOyuoQamUWbWqSNb3H15q2ZHGkMt18XudedqwppiuK2cAkFzPbzPewXK7MtwzGe7uDcTM/wAyCIzTJHdtYxrHFNZW00BmV2RgzMzEtAITKtRCIQSAg6iH/wACx03f+qt92zgDeQ1JMY9ovJtbVIsMultOrZHOWZK2d9ttCoLSGexhrtl3B/Db2Xj4sX+nud17q7DZVsvX2tKs9HxC6p9WtqutXwy19y2Tjtg3Xp4N/b3CsGAbbWOLFu2OZ8uIBANq1tH72atkfd1AIDtOatqmfj/KgaNJkaa8uryTh/CLvGYby6tJOHO0bzO1RRyPlv8AIunrRtPRpS0uHXVLBLDju6G06rtE+FwGX6YqfyLuT/USVF9KOrz7mTu3P3Gza219WHdsb7iSrj681bMuItElsNjDXW2JF/igq2upLZ8m9musW96dEcdjLa3EIz8zZzql5EdpwTdqZ9no1vaTyWXZ+OKvOB2hqu9nqsUcuyIZROX4sA2m0k8+y531T9j7FHuicxyI+1owl1m1vpLfwvtS34BjRex2Uj1swaob1LiOSHZcaR7VlWLGyneS5mYwyQbKnSra+4ScKLaVpFSX9jG+t9oWTtruruS5YH3G3mMMySK2pQzosilYYUgjCX0/HuGatj8fLi3EA2rW0fvZq2R93UAgO05q2qZ+0b3jsYYbdp7e3Nt2m0h49wiSqpndXjkTuW169ski52lo7RNdyXixpw/Nu2d9O7pHdDm8lkW2tDCM7Oiq6yHA39nm4PGuP9QlXf8Aqoal+mKn8i7k/wBRJUMiGFKumDTyHuXjhJdnttS4inkj3bG+4kq4+vNu2dEsMT3csjSyM+6yRbS2e72ezMt5LYvPLHcj5sW1bqNdNxez3HLdb39xbjTNtS5lUrue7leBYat9HHjM20LIya//AMTLzE+zrbnPPJO+ukd0OXnmcYpJJIzl5pZOXu8EgilR5NqXBm1/GpsV8UuuKHu51uJi9LLIgYWk/AuEklXZU7mSI7MtSZJZOJK8kkskhzunktkt7KpSlzZE2n8FpcXGzpo4mlF0Lzs/d+Jydl4CuVoS417rO5jg4tSy2JjYXFyssNukV1bdlSG4NudPcN+Ow9nkvlexW3mvlks44Hk1KA8moAVZ3aRo8OnY9adj1p2PWnY9adj0PhCnN5ddpl1bre5kt2LMxZmapbyaWJYt9xdzXAURTSQvrn2hczro/Zzd2UkUKS3kQgaGe4V4IIbaWFNYkurdbd4f/tWxQTTGl2RNT7JnFSRyRnT87rTbNgjh1/8AAbO1NxJiSSC0ip9rzZqPa75q5ntJLbV861eKOZXvr4XAVfnbJ+2ar77ub9y2dFw7VKvpjNcN3IxqdBdbOiWKodlwqtbQhiimVLfZXLV8Os6n2UMZIIJGz7SGdHI2XqnevhtnV3s3Qpera0kuWpNl2qim2ZasKurOS2NRjU6C42ZEI6i2XAoqXZduwqGwmkmaNdmWiip9lREUylSVjjeVwkOyogK+HWRq7sGg8ez7aK4MlQQRwJpk2fbyOXv4EgmCy7PgFuz2+yk052jbwQ8IW+yuWr4dZ1PsoYyQQSP2mLlBH3Yfqx07BFLXFzJO5Oyodcpk2ldtFiPJznZt2z5i2tCA6S7I+lJW0rxo8RB2DarOUzW6NMmmeRIkS2t8XFzLOxMFxLA2SEureowROgkcRxs89xLO2dlzuJeFdz9nhZ3keRtWy53kV02qgFznZUIWIy3928kjIjsh1Ws3arapVMMsibKJNu1XrN2qaiSaTyLV5ePO5rZUOuUvtK7aLEeTnOzbtnzFtaEB0l/abN9drEZ4+FNIm+H6sdbQOLOXdsj6UlbT+7bds77yKtrfbpWyPpSVtH7yXdsv7QVJ9+1X32k2/Z32cdP981bR+zl3bO+8ira/0Y92x/qS1tf68dWX2kNGbZuTXG2ZS3dilXro9zI2yftmq++7m3SHFo5rZH0pK2n9227Z33kVbW+3T9q2XchGMN9ZcfxvDLGcR208pxDYwxQEDR2kVtH7OXdsqYJKY9o2jTYk0PnGzbNo8y7WmDOsWyPpSVtH7yXdsv7QVdfdTVE6XNvm4tJYGNQWs07AMUtbeoyTOh2j9nLu2d95FW1/ox7tj/Ulra/1462VODEYr+ykSRpArE4XZc5hL1sg/wADjaETi6clStTfZybtlTBJTHtG0abEmh842bZtHmXa0wZ1i/arbajoNK7RtDT7TtVq6v5J/DGdLobu/gmt3Tdb7VwNPxO0qfa3LBJJzYXkNuji7lWa4d6sr6CGAJO4eaR7a6kt2ym1bYin2pbAVdXclyajOl0N3fwTW7pVpKsNwj395DcIgqwuY7d3N/cR3EisjtGwaHa0ZFHadpVztR5AVqzuzbOa+J2mKv5455gz7Rt2t3Tdb7VwNPxO0qfa3LBJJz//ADNMGsGsGsH/AIVitJrRWitArArlWRWoVqFahWoVqFahWRXKsCtIrRWitJ/fsGtBrQKwKyK1itdamrxVhq01prTWmtNaa01prTWmsNXirU1a61isisCtArQax+7YNaK0isgVrrU1YNaa0isfIRdbhZE0OV7+K0itNYNamrXWQa0itFYP7iENBRWoCtdeI1prA7uk4zQTKE1EAdW6Hz0epq3+slXP1modam826UAadxTCA1pOM9zArTXiFa61A1pFFP2zFBK5Ci9ZY1prHcZSuNxA4QNDnEd0XlcVD1NHrUXnpvMat/rJVz9ZqXzCpvPQqbqN0vlQUeUI3KBw2NKpbPcxWmssKD1yNFKx+z4zQSuQovWCax3ZFAANHxRA0nONhUP9hUPmo9ah89N5jUXnFP5mq3+slXP1mpPMtS+c0vmFTeeh1qbqN0vRRTcolFL4YiajUHJ7mKwRQesg0UrH7IErkKL1g1jeyld0nNVah4ojui5hlqHqQetReem8xqM4YU3mNIdLZY5JKnByTk5t/rJVx9ZqBwcscnKnBBc6myvUVIctS+YVL56HM1N1AqXkqrXli3R8lZqVS2/FYNB65Gin7CErkKL1gmsb2QrubxRg1H4lZahPPDDBIjOHFP5jSnScsckn5CsVILMWJPyFODljk5TzCpDlzSjJAmPPFSeFFWl8MZNKhbfisEUHrkaK/roGaC4otiuZrG9kwAaHjjxUR6gjBwhwwqUYagcHLtqOfVI2k5JycxjLVIcsaAycSnotHwR7lTIJ3EVzWg2aK0Rj9aC5rkKLZoLvmjXQslR+JSlRthqkXDUDg1Lg4NEk+vBI3RYGWPM1GuWqRstuk8KhahjXQ0m4rQbFcjRX9YVKLYrm1Y3aSRmrZ+sciFHIU4OZR0amYMg9FDZB4DLug2eXXX2C0flPA8D6fnqwVDuiHVmOTmNC7AXL9I60nGaxXMUGzRX9VAzQXFM9Absbo2wakXSaHKpP5oQ9B/AV9FbwmaVU2jMBiCrdA88a7UkOpIwSCDd/zWKS+hL+ALUY4MJcnNIuo1I2TisEbiKV6IzRGP1ILmuQFFs0BvRtJqRcc6XxpireTQ9Tx6H9Js+DRDrNjbljVzYvB4rL7qKtp/cDc3+q9HBHxHq4k1tim8C4qNc83bUd5FBsVyNEY/UFXNchWS1Abh1qRRjVUZyNDDScKcHLkE5p5WdVHokGp1G0ZTHGiVYPxoHjtBi7jG0/uBuf/V+jSVkVhSEKck5OVGo4kbA0VGo8x67iKyVrkaK4/TlXNE4rm2/R4dVRtjk6aTuZgyenBwQbmPtluj9mnziFexWzNFJolR76AzqkqWs7ti/ZYrdIPTKwVdyLqNSPnlWjw6t3NaBzTL+mKuaJxXXuI+k1ImOdIQy6e7GjSOE+HXVfDrqnUoxWKF5m0/Drqvh1186G4lhNfFJ8VLNJMc1DdzQ8m2nORTMzsW+f8Pua+HXVTQSQkDvOQq6ajTPN31Hdjd0oHNMv6Uq5onFdd6NpNOn9qjf+rppPf2eM3SVeXU6XDr226pmLEnZY/mczXlwJZB2269jUZYDaM8kXCHbbqpJZJTnvomo1I/8AWkT+zvqO/pQOaZf0hVzROBXmO9o+WaR9NSJjnRYnv7LH87VJYSzTSPLs2ZBmtlD6xGzZXJaawmiGr2K3GZ4heWslxKlNsuUCnRkYr3wSNyJnm76tyx8s7vKaByKIx+jAZrkBXmPcR9NOn9qV8DHyLe5e3JMlzNKc2V3IsqptKIJMGt7uSAMHnmc52fdOX4V7EIrhh7DG5jdXmvZ5aiuZomztBVkt0n+Sz55Uif2d9Xc8prqKIx+igYFE5NDcj6TTp/akfTUgXr8myt4Zw4kjaNytnE0k6VtRwZUW2tIp7diQVJGzomacPtBw1y3sVqkckwS7tuBJSqzsFvcRWaRfKjC9XfVuRP7O+rcaBwaPMfoirimb8AbjGdOaRytMgYavlxSvE4ft9tIKbaMaLpZixLQTvA+rt1nJzl2kNOn2LpUe0VKae3WkdTzvO+r5ioFGp3LbhGcZoilP4YZ/QkX8saA3o5WmQN4qVitE5P6GDg0zFtyoF8TuW3kUpph+gKMmjyFdTuXGaaP80rFabQwz+jLoUZZi25Y/y2M7jyNDmKIx7+owKJye4rlawsnMjH6SATWFj5s5buA4NEZHvyD8ufwBuR9NFA3OgcUz6gP0lX0g113BAvN31biKQ/hh74Bk10FDmd2k4zQJFZWSmUqf0tV1GsrHRJO7S2M0eRocxRGPe0HKmOTQ3K5WsJJRUj9PCk1hI6Zy240pwaYe9KMmmOBS0mnUKe15atwkB5NjP6auM0ZPxuS15an06jTUpyKYc/eVGBR5nekrpWuGepLd0/UY7d3rXDBTyu+8cjTDI94QZNMcCl3cLK5II3R3DpRWCYZ/TgsEQzJcO+4AmuFgZpqU5FMOfu6DAo8zvBIoSA8jFnn07ljBC0DycTZdTvYGJt0FpDHFxu07PY6byzEQEnvoBJxbbPUYN4ipcuqqXYLwbO0QUj2FwdF1bmCTG7rQiA5mUDkSTvHI0w5e7KMmmOBS7lQMKKMu4EiiSe5D4dmOd0Yy6DarcolqHx7Nf363m4Moezmea8DX/wB3LWzhm5FbQYm6egcc9pc7eJtwOKJJ3KjNRRVG5qU5FHr7qgp+vcEprEb0ylT3YZLYWSL8QthymtYZ4uLD9WOtq9Yd1r/r5fXIjOcEFTj1+zvuhV/93LWzPuKvvupd1/8AZxdxV1HGI0oyk9xOtOPdegoddyKhFNEw+Q8MqDNbKJ/mHIXVbV/8d1t/rZPVAZOCMHAGaIxVl52q4+s9AE7lUt63Z33Qq/8Au5a2b9zV991Ju2hytIh3hExplQDcetdR7og505obw7CtaNTqB3oXjvLfg/C580TFYwaaHDv7cKNlzZq8ljhgFv6Ygjc6aaTkwqYeKo/OKl85qy87VcfWeof7bovKxoJlSawfU7O+6FX/AN3LUEvClV7i2W8Cyw7NYOG2hciVwvcRVNa0Wi7HeaQ0/uaDlR5tuQKaMRogj5PabjGCSedAkHPaJyMenfxoGpvFEDUvNVK+YVN5qsvO1XH1nqPyOa6Q7n8MYFN4I8eoBIokncrulNNM/wAgAmhFT6dw5NTdPchR5Cl3gkUJaPCIz68AndFpOQRg4hP9WGCRF0K1qHCxTMWqy87VP9Z6DEDFSMCAEGWFSnLVEuWqRstSLqapMat2MewLwwMmY0STvahzHuSdaeh03cIGijD2JG0mpU/sDg1INShwcGpSDg91WKnJOe8rBYzu+nHuQaRqJyc+wiNjXCAo9aPSkp+vuKdKbm3cEritcbUcZ9eqal3RN/V10mlcgEd6OGSSnglj50trMwy8bocdwcqZixqNMnMj6jQBJp1C49eMZriIKMjnuLyan6e4jkKHXcqBhRicVg+vRdRplKmlYqcsocaqZ9QHyJbgaVSzZn1pbIGnFTzOZGoHjWr9/ieDT1rlEK60iFqIwfX4JoRNTIqjcetfj3AdabpS7w7CuMacofXqwcaXQrSsVNE5PyY+HqpdDRstn9epPqPWzIA8TmWwtnXEiFHZe6raTknJpI9XN5P6+uQqK4xosx3tS9KPX2+PrT0OlAZNcFqKMPXrjNPH+aWQEYPX5IxkVcwBMGzU8XVC69rJnQrK1WqcO3jXNTPrldu8mM08meVCMAZPrwjGuC1MMGj0pKfr7fHT9d+SKEr1xFNHr6tAGYCS0I5kEUjlaYIw1fLjuZIxh7qVxirWeV5Ejq8k4du5+T4I6Zi1KrMcC0wufViuKBRlesk7060/t6dK/tuWNmFcN6wfXRXDpX8NwKltnTn8/ZceZGetqSeRPlRWjHm0sUPKSZ5PXYNcN6aMqM1/am6e3/il67smhI4rjGmdSPWAZOCjCulRXZHKcQsmuhZyYqWB4qjjaRtPYpqlhaIj5Ozo9FuDV7JruH70cbSNp7FNUsLREbl4EK5luXfcI2PrVcAVxjRkc1nc3Wvx7eelLu4b1pPrxKwr+N6Iwd0UnDfVI5diw+yNWX1SSckn5CrqYKq6UVZX0RuxOST3bL6pJOSTvRdRrMaU0jH1+lq4b7modPbl6in6Uu7iPXGauKKcqfVrpzXCBoxsO7BCZWq4mDYS3mWLVXbWq4jTQsvf2fHruRu2lJpg0963mWLVXbWq4jTQsvcETGuGi0cZ9WpANcauM1cR9zUnSj19tTzU/Sl6bsH2ASsKZ1Yb40MjhZldU4RhlAzbxpIHXgS5xP8AxwRxd/ZUeEd62nJqmC963jSQOvAlzif+OCOLfxVAoyOfYNJ3N0pOlN19tTrUlDpQODnjNXGriJRxn1aaa4SmjC3cVmU57TPRnmIwCRz7VPiiSTnv2ycOBFNTPrldu8CRz7VPiiSTneATXBauHGKbGfVjrXFWuNXGeic0elR0/X22PrT/AC0R3OHRkOAMnHZLmuyXNMjIceiDMPm4O+3TXMi1eSaLdz80Eisk+l608UkeNwtp2APZLmnikjx8lKfr7bH+afcraTXFriLWuPvWEIhjDbR+6arYZuIqvbyWGUL8SuallaVy/wA8dazDWIa4afNikA5NEG5lSKs8RuXFxG1bSfyJ81Rk1w46/hFFovRqkFlitrf+O6aZ7a0hr4lc1PcyT6e5xFriiuNTNqO5Kf22P80/X5Vjb8aWuPxdoINo/dNViM3UdXdtPPcmnsLlBn2FXK0pDjMVuzjMtuyc5wTg+xhi0oO1v/HdfxSSLCh2dcgUyspx8hOtP+PbY/zT9dySwBRXGtq41tXGtqaW3wd4BJAkxZWgTZ/3cdbR+6arabgS65tozuat7+VXA2lAFZZPQBo8VripmQj58XkqEgxrUxAjapfJ8/XHWuKmZCPRp51ra3/jSnDAy7TkYYS+uVObtUuLUT7llt8CuNbVxrauNbU8sBU7k60/49tj/NP1+TZPGk4aV9nTNm3FhxVraAtvHVpbrcMyyxmKRkRC7qu1COHEvocGtLfPjfTSSMtPIzVqR+TxEfO0t6VPOtbW/wDGoUDyol3am3YbscHZpHyE60/49tj/ADT7l05r+Gv4azD3rSRYp0e7lWWcvHI0Th+02VwBQuLC3zU8zTPr+eOtcVK41cZ/QZNZO5JiKKK/NkK/LBwa4zVxqMiH0anDA39zHPw90d9DJHoDbMiOq7vDcHG/XHWYa/hptOdyU/tsfWnoewhGNcFvSKxWlkV+Tw/KUajgwvWlh7CaSn6+2p5qeh0oDJrRHWIazDTYz6tG00ZmrUT3EQuwUxWsfKWBQnEhhMrY0WflmhMTfNSUiiqSCmQrUcTSGriFYtFQxGVsaLPyzQmJu4HYVxmonJz6oYzWYq/hrTFTAA0elR0/X21PNT9KXp7CI2NcJRTGPGNyOyHJOTn6dni35W85qfnawn5oJFLKG5MGCFbryQVb8oJzU3O1hO4GIiuDRRh7C3Sk6U3X21eopulLu4NcNK/hp9Pq1bScmVjuAJ7lvEPqzSmVswfbT7pvtIfQJKVp01AUi6YJhUv2kO4AncCRQmajzPq1Kg1/DWiOuFual6Uevtx6UvsIGTjhqtGXFda0NjMKB5AJojJgNalVJtZFGpOxPmrmRfBH6C4bwQUkueRgBNXLjwRlGFAlTXEVqMXsTUOnt46UOu5UZq4NaYhTGPHrkjdzSW8cQ1T3IYafUJIVrwSUJBjElqDzZSpxk+tUpisRGuEKaNl3HrR6e3p0o+bdk+vAycR2n5e5SMaXkZzWk+qFCQjkMjnrjk8MtqRz9fk7hzan6e3x0/XeInrhAV/CKPX1asVIMk7vuWP8vJ+Plwwahruo1jkAgjiMTvqsqfTqPy1cNy8UdBkkotKg9YKzCa4aGuC1EEbk60/t6dafpQ6UDii7H2BTpOWctQBNeGIUefytTHSt99UVEjNaMDZygfKVtJyyBxqpZCKzzpJqaNW5lSPWhiKJzR6UlP19vHWm6Uu4KTQhatMQp2T1wBY14YhROaRM8zjPyR1FX31RXElCaY3ZGBvVAkB76BSadNJpWKmiBIM71crQdJOTwkepRlFYiajCaKsNzUvSj19wHMV/bcJGAwWJ9gDFdyJqqR/6gZOJFVQB3x1q7dXkBjkjeLhLDBGdU8vFfV3ggZNysHGllKmgSKJz3UmxRRX5spX1OTRkYjFfmj09xjp+u8IxrhYrMS0Tk+v1nTppRw11E5OVQaS3zx1qRNNI2k1Kv9qZy2PkKxWlkV+Tw+lHI1qjauEDRjYb060/uKdafpS7jKx9jjAzUj6jSrqOJW/qoyQJj0UKT3YojIcMuliN4GTgjFR+JCtJ4001G/8AVhg/LSUiiqSCmQr6YSMKPM01J0puvuXUUOu8RMa0xrRk5Y9hRwoO6IYBYnJqPwozUeUO510mrLztVx9Z6VMqTUvNFKnDAzDnlG0tUq4OVODlyGOfmhiKWUNyeH8+hWTAxiJqMTDeetdB7mh5U3I7lbTRdjvwe+ASQJ7J4I9dW9nLPz+FVNBJC2PTSEBQtSckVam6KE8wqbz1ZedquPrPUXlcUOcO4+KLdkNH6JJStYSQU8ZXuRxvK2ldlHFT7PliGqoLaSc18Kqe1lgPdAJ3h2FM5bcvM055e5oedOOVLuAJoRGsxrTOW7+z4R4ri/bXZqwGSBeydngjjDMDqf8AybDX6gkmk84qU+Oo/OKk85qy87VcfWeoepo9ah/sKycY9ICRSyg8nh/JGN1rcQQQNTyPI2dmSu2tJ1CTSLIey2K1qbObdu1Wbr3FYrWtGoxUQRuakHKm6+6DmK6HcshUYLE7gCaKle7DEZZFS/kEcaW13/r4qh+rHW1esO61/wBdL66y87VP9V9+cepSQrXgkFPGV32yC0t2lZizFtpfbxbtleSXuKpY0VI3AkUZCwxXU10HusZ/Dj8jcFJrhqtGWic920QW1u07uXdmu/8AXxVD9WOtq9Yd1r/rpffM4pJvw0QPOztgMzXVyZ33bS+3i3bK8kvdEtaEamRl3GkH5c+6jkaPMUN3EYDG5Y2amGD3BtRcAfFEqW4EdukrPmUyX0fHgjkCknDjs2z9PvtlA8uS48yNCwogipB2qyWsHOLZey2jvuAyaaIjfxGximochR92Q8qcc96ozV/GlNIx3KjN3ZLtpIFiq3vJIOXxUVPcSTtn32C9aFNHxNzXaATUicTxRTy2zV8UFXF1JPuZGXcrstfxvTRsu9Bzpz7upwaIyKXdxGxigCaW2CjU9zy0/pKuVoMknJ4SN6XPLS1urDUQRuDtjFNQGBROT7wh5U4waG6O2ZuZmii5M7Of01JsU0avzZSu5XZTkTRyjElsy86NKMmnPvIODR5ihyNK2lgZJnfcFLVhI6Y6jn9LVitLIrU6oxwyld0czx0zamJPOhyFE5PvSH8OPyDuRM8zJjlWM0ylf0tVLUQRuWX8Oi4zRNIPy5/HvfUV5T3FQtWpU5Ek/pgcNyaMr3PMa6D31DimGaU7k000meVKpanVV5fpCaDyZCu5ZCtPo60xpRimOffkbNMPyDvSPPNpMcqwf0fB3LJ+Gj/O4mlH5Y49/BxXUV5TuBwady25E1UzgDT+jI/LS8eOdI5WmOTu8xroKPP9AVsURmgcb0j/ALPJnlSJqo4z8xUd6aORN+lq0t7EATXAn36WrS1YI+UKePHOkk00yAjVuJzQGKY5/Qkb8MtA7tRO5I/y8meVYPyrWHjTBLi7W2/itr7jtwr2AQzYsBm6jq42gYZmT4q1SPrkZ/XgEkA8KwiFDakuavYo5YBcDmau7rs3Dr4q1XNwbhw3yME7kfTTp/agSNxNKtO34/Q1bNMv5B3JpzTvq3In9nfV8pHdDlmLHNhA7zK+0pA0+NmD/Iq4hmmuZTJBNH7CDjmzu9dauP4LARwjM0Y2kjySxq1rcKM/JR9Jp0B8VI5WpNPWiaVfyxx+jA5FMMUDvRP7O+rcqDGr5NrOIHLR3sM/8d1bmCTFlcRwOxk2nKTVrfcVuFewcGbHsNlbiNe0XNwZ5MwOqTI821Ki2nLqraMC4E3fKBlzSPpp0yNW4mlGaJx+jg4rkRRGmgdzOW3In9nfUdzIVA79nbLcFxKnDkdFzqWtq40RVb2jzqx6VbKWuIhtU+OIewWNpxDxL264zaaghM76JomhkKVdeDZ6L3VTVncrFTTqCNVK5XcTQGquQFE5/SAcVyIojSaB3IFzTvq3IoUamYscgE96CZoZA7dhu8FEsLY67q4M8mbW5NvJl47G5OtWsbQEzStNIX9eMZFNNZtHw+FsypItniN6jdo3VzJZ3iilhsIDrvLrjt3SCKBwcsA41Uj6TUmnO4mgNRrkBROf0pWxXIiiNNA740/s76ju+mvqraziWLjdp2eTpvbNYxxKS2t7aMOs+z5TpvLTgMD6j6i7lbSadc+LcTQGquQFE5/TAcVyIojFA7tRxio1wNbNqOQMmnwq6fTz3kk6BKk8OzcWgzcxVtRjxkWp/Hs1W9NHgjQRg4BwcuNQ10GIGKJoDNcgKJz+nA4oEGmXFA7hTvq3KNC6ic0i6jUmM7pohGF9IOtQjZoatpCfkbL7qKtp/cbm/wBV6OGISBt0eNVOuk7j/IuaR9Jo4zuJpVzRIFE5/UAcUrZpkoHfGBqp21Hd9NN1snWSRy7k+iUamAntpINO60PFsXWy+6iraf3A3Sctlj0cblHDXKDlJS+NcUjaTUmnOdxNKlFsVn9TV6K5rmKzviA8zNqOVUswFwwRBFQUBCfQ9K/iv4APhc+aneO1tuArFGVpEjv4lZNlyaq2hcJhYPQ4DR7rdgymJ1KMQDg5kAI17s1zNBcUz/qyviuRoqRQbuQKI4zKzFiSi6jiVueKfwoBWD88Eg57TcYxuVmU5a4nYY+cATujwylajbDVIulqBIIMwEsYl3lqCk1yFM/6wCRQYGilZIrO6abXgUvgTNRLk07amoDJxKei0yacevRdR3RHDU4wxpTg5lHPNeePdDNoyKzWSaCUWAonP62HrkaKkVq3lid3kj3RcssTk1GMtUhyxpRkgSABtxBHpwM10pMahTjDGlOGBlGG3SeJQ1L40K0GI36qCk1yFF/14Eig4NFQawRWreSTuk8KBaTwxk1D1JJycxDL05yxpBlgHwGNAZOCMHHejXW4WRNDle8Bk0w0nC9RUgw1KcEVMPFmpeYVqPii3R8wVoEjfqrBNBQKLgUST+whyKDA0UFYIrV3ZCMAV5Yt0fJWaoepJ61D56bzGo/OKfzmkGWFP5jSjLAOMMRb/WSrn6zUOopxhsL5hUgw1DqKm89DqKm6g1L/AFNPzjU0viiIqNgMjuaq5mggosBRYn9lDmgwNFBWCK1VnuM+rG5uUSil5RE1F0Y1D5jR61F56bzGo/OKk85q3+slXP1mpfMKm89DqKm826b+pqTmiGusO6PmjLSPp7ma1VgmggosBRc/tIcig4NYBrRXMVq7mdxfwBaHKI7ovK5qHqaPWovOKbzGrf6yVc/Wah1FTebdN/Xc/wBNd3WHcr4Vh3dVczWisAUXAouT+2gkUJKyDWgVoNeIVqrI7wYgEUj6c7oyA1Hqat/rJVz9Zt0jAncz6gu7UdOnu5Faq8RrQa0CsgUZKJJ/cgxoSVkGtIrRWlq8Vaq1Vkd8EqckljnvZFaq1V4q0tWitIrIFGStR/eMkVxDXEFahWBWgVorRWlqw1eKstWTWTWTWTWWrxVhq0tWitFaBWBWoVxBXENZP/ANRrWa4lcQVrFa1rUtZWsrWVrK1qWta1rFcQVxK1mtR/8A4DttA1xKE02dmgpbizufBf2XA8dWllJcHK2tui47ljZdoOppbK08KtZ3YIvbXs8lW0DXEoTTZ2aCluLO58F/ZcDx9yyt+PMBewwi1lNWFgrqJWu7KA6OHZ3iZuYGt5Sn7xsdfDK20nLXTgEqQbnElk5o7Q0W0UVic2kZ3WcUHZUqYIJpBBtEwRCNmLMW2bq7XHW2MaIq2OvhlbaTlrpwCVINziSyc7+tRKtjaFr37OWh1q6JitJN2zXK3SDbCjTE37xsj6MlX33c25v9ed9h9nFvDsARvsLXs8Ze9ue0TZ2R9GSr77ubc3+vPc2Xba34u1LjXJwrz7KTdC6XdtT7LuQ1WNgYW4m15cukf7xsj6UlX33c25/sDvsPs4t8dncyJr3bNsuk+0b3WeDWyPpSVffdzbn+wO+KNpZFST/FtccGersE2cgKspxDPLC2obXlritHb8SR2kdn/eNkSgNJHtK0k4vFgtJpnAv5BFasN1h9nFvttoW626CZ+JK77Ps+M3Ev5ZgnD7Lc00MyDOyJQGkj2laScXiwWk0zgX8gitWEcbSOqXGzpIY9drKIZ0k+Lw18XhqWURxGS7nE82utmW3Ek4m1bjLCH95VipDQ7XGKfa8OKuLiS4fVut9pJDAkfctNoLBDo+MJXxhKvL9biLQrFSGh2uMU+14cVcXElw+qGUwyrJdbS40RTfNtJZIGj3RbSjhhCMxZi3/++bJbyPS2YoW0IrhR1wo6NtCaazFPbyJ/w2KF5KjgjT5MkCPUkLx/8Kgt9XiAA+WRmp7fT4v+D20GvxfOuINPi/4LFHxHwAAMfOIBGJY+G2P16GxuJua7HFHZEVSbJmFPG8Zx7DbR6I8+guI9SZ9ijXUccBaMIAJ93AJOLaxit04s+1WPJ55nrW4qK/uY6juLa+Xh3dm1s3sESa5FHeSJEGJLVW5ujIcfJlXS7D2EQtXBow0yMtBGPu2zLYBe0Xt2bh+6CQc2sy3sDRTRNFIyeusl5s3dHUb2UMMS2pHP5F2vNT69QWOPBEKaVjXM0GYUsueT5VPdVUsyrtB+BarF3rSbgzo214vpy+utB/F3h1HdkhSSpIXj790P4/YEGhMkknNQdDR6ndE/9ZF0t7pZDN3DW1I5nkjogg47194tnq3rrb6K94dR37mMIwPduPpN69RlhU56DdEpUU6lTuBwam8oPudo2m5hM0ywxs8jmR2fvbR8Fkieutfor3h1Hed1QZml4jd64+kfXx+cVP1G5fMKdWOKm8o3yfSHut1ePc6O/s+Di3AO1ZtUqx+usz/GR3R1HdlugORYsc966PgA9cDg5mGVB3CRxRJO5RkgTnoPdVjd892GGSZ9JMWz7bDMWJb11m2HI7o6jfJOkdSTPJ8m6bxgevibI0umk91F0DLNqOfdbG9FvlHs7S6Gt9lXAr4Zd1FsinurWzTRLM8zl/Xo2lgQcgHupdripLpm5fJJwMu2pifYFkDcjDXCehC1aUjp5C3vCuyHK7Su1o7Uuqku7iX2O0kyNHoLl8DT7EGYVxnriv8AsCsVYGNw65+c7hFyzFiT/wAFhlMbUrBhn5jMFGZZC5/4RFK0ZpJFkHy3kVBUkpc/8KDFTmO7pWVu+WC091RYnn/wwEiluZRQu67WldrSjd01zIaJJ/8AtkxxSSU9rMgyATXZ56aKRaRGc4NnOBn2CO1mkobPr4elPYSCmRkOPYYIxI+OxJT2iKjH2KOGSShs+Svhxp7Kda6evhi4sgWWZLZQkPG0Za7t4uXxBqXaAqJ4XyWuJ4ZKu4VdON63rUNqkS65b89NN1LXZroc0up4zSSw3Q03Fu0J9gAJ5JaSGuyU1maeGRKSF3BPr7e0GNct8q+Frqdq481R30q1/j3a1NC0TY9bYsFmrgKJnmubkynFWlukoYsMEhWKnMUiXUZRgILRl9bZQjHFnma4k0wWiR86knijqeTiyFulQSC5iKSIY3K+tRC7YiiWMbsgb5cxxewWtyGHCubYxHUoywF5BFGqblZkYMNF3BRBUkesjXW6rfSaUCbtn+R6fztuikMcitfrlEf1gGSBdtwoFjsIuRkqbVwn3iGIJoH+PdVtBPI/rbaPQmd175kpfKu+ePhyewNcytFw0861tDyJvs5NEwF+mJA3rLIf5C1fH+ffs/yPUgIkYbm8Vh622GZ462h50q3GIY90txFHvt73SNNxIJJWa652gPrI11Oo33MqyMKhlV133i+AH1rIy77GJdJkSWK5DLIuh2WgcEHaA/jQ+sszi4Sr9f5Qd0MzRNmSOO6j1MpUkVL4LLHrLc4mjraA8SG1cPClXdxw107hYzFcrYzk0y6XK3nhtlX1kH1k3yAlGEDxJqqzB4jHdd/RPrUOGU7QHhjO60uRFlTc20YNMSxJpBqdRtA+FB6wEqQZ17Rbh98UzxHLMWJNtDxZBV/JzWP1so7RahgzLvtojJIu6aURIWtYzLNm/ky4T1inSwI5jO5oImOVVVGN163JV9av+TaY6d6xi1PrvJNc3rrGR9Wi5s85cgjluhgklNaezwmiSxJ9bZ3HDbTd2vMyVbW0LoG8KCpbyJKJmupKOi0hokkk+ttJcjR3WIUEyPxHLettp+E9XVtxP5e5DA8zVNIttEI/XRXMMUFR3kqsTx7SauzWhrRZR1Jfgcre8IOLgxmUn11veFPC1tBP4jYzCuxXFJs+mngt10ySNI2r1wJBzDdK3Le8iIKmnMnsEF00XLTa3XNtntXw+WksY15y3kcY0sxY5/RQzKci8nFdunp55n9jWWRK7XLRuZjRJPsYuJlrtdxTO7f8060QRSqWIDKVOPYQrNXDk7iRu+e4VYep4UvyUjeQ46eoCs1cKSijj5xVhjvtG6AH0tko1NJdfywxzWv3EdXX3D0LOcjLoyHHZ5cKWt5VdUFpOSQYJQ+h7SdBkAk47HcYyQVOPT2JxHMRfT1dqrRRzRwyS1JbTRjNh/60AWOOxXGKIIOLlpisdRwSy1JBLFUcUklSW00Yz6O3RUiM5vJs1NPxQtcCXC08TxkAWk+KZWU44EuFL20yDNRxXKI1MrKccCXC09vKgytrMwyylTiOCSSpIZI6s4WGWkhkj59nmyA0Tq+jsk+KIIOPlxTyRZqKeRreV3u5nUrHBLLUkEsVLDI6luxz6cx28slSRSRGhDIU19jnxmktZnGZIZIqWJ2Us1vKia7hpjHFXY7imtZkUtHBLJUlvLHzALHBs5wM3n0reo4ZJaktpoxmONpGwttMwJ9DwZBaBIIJBFJHbDFygm19sNNDcE5vQeHEXkMdnHVszNcR1eTPxSrTMLNXspHMpVBILk1wbjVnaA8aH09jjhzVHbWr1czh8I0UnARLeKdCRaLpkuFs8LHLL2ibVqvQGSKW7GRbCeKYhUihl0OlsymF4nS7iRvSSfZJveQpaR1Z+KQs08rNqn/kto5HkKWkdWbsXZbRBxXLTys2qf8Akto5HkZLSOrJ2ZmV55DITeDU0JmilIVIopNDpZM2pgWY1dSMiILXkksvHl1arwArFJ8y3+znpRkgTxTEKkUMuh0tG0W8zQTS8dKvZXEmhiXscxyGOx1RXEqyAzxKbyOryZ+KUgYzwSpZtpglZ5Herv6FvUPGlcLdT/8AlGly0IqKNxHKtnhY5Ze0TatV8dSQm4YwwxR2cz8TRbrovHW4mdpGHoIE1yqLqd+KajuJFkUuoW9jbiKl8xltCzs93o4ENT/aQVa/Xjq6+4en+wSrH69W8iLcy0bPSdV+QTH6izP8U9RSGNw10isBMNF1Eq9kRATY4/lq0lVdUfYeebuZXKpe+W3plS7VWa2SNGMMEUsdRr2aN/SW8qaTF2FqmWCNNExHZYatpRE9GzBObiRAiwzEdlhqy+rUMojmajZgnNxIgRYZiOyw1Y/Uaj1NXZ5Q0wW6Cs1ukaGrJwshqa3MXO8P0qtZVXUnY+ebqVXKr8yD7SfcypdqrNbJGjG3+1nqD60dXv1zX/6BqEIbPCWYRg8txm4EkkKXJ4h0WsLJb/az7rv6FvQh0Q6HtCilnQXMUdQRpEsi2kqLqj7EAc3pUpDXguolEcSW2ZLR9VyzS/Uf3+GJZCavJEYov6HrXsOn/wCG/wD/xAAC/9oADAMBAAIAAwAAABAAAAAAAAAAAAAAAAAAAAAAAAAAAAAAAAAAAAAAAAAAAAAAAAAAAAAAAAAAAAAAAAAAAAAAAAAAAAAAAAAAAAAAAAAAAAAAAAAAAAAAAAAAAAAAAAAAAAAAAAAAAAAAAAAAAAAAAAAAAAAAAAAAAAAAAAAAAAAAAAAAAAAAAAAAAAAAAAAAAAAAAAAAAAAAAAAAAAAAAAAAAAAAAAAAAAAAAAAAAAAAAAAAAAAQgQAAAgAAAAAAAAAAAAAAAAAAAAAAAAAAAAAAAAwwQQAjRhgAQQAAAAAAAAgAAwAAggAgAAAAAAAhiCwTwxDyADwgAAAAAAAAAAAAAAAAAAAAAAAADSwDTyjSBACCCCwwAARQhoECCDSQDDwAAAAADDDBhBARRCDBBBAAAAAAAAAAAAAAAAAAAAAAAAATghTCwgTBgBDgxTiAAxyBSMAyBBQBQQAAAAAAAAAAAAAAAAAAAAAAAAAAAAAAAAAAAAAAAAAAAAAAAAAAACBAAAAAAAAAAAAAAAAAAAAAAAAAAAAAAAAAAAAAAAAAAAAAAAAAAAAAAAAAAAAAAAAAAAAAAAAAAAAAAAAAAAAAAAAAAAAAAAAAAAAAAAAAAAAAAAAAAAAAAAAAAAAAAAAAAAAAAAAAAAAAAAAAAAAAAAAAAAAAAAAAAAAAAAAAAAAAAAAAAAAAAAAAAAAAAAAAAAAAAAAAAAAAAAAAAAAAAAAAAAAAAAAAAAAAAAAAAAAAAAAAAAAAAAAAAAAAAAAAAAAAAAAAAAAAAAAAAAAAAAAAAAAAAAAAAAAAAAAAAAAAAAAAAAAAAAAAAAAAAAAAAAAAAAAAAAAAAAAAAAAAAAAAAAAAAAAAAAAAAAAAAAAAAAAAAAAAAAAAAAAAAAAAAAAAAAAAAAAAAAAAAAABCAAAAAAAABgAAAAAACAAAAAAAAAAAAAAAAAAAAAAAAAAAAAAAAAAAAAAAAAAAAAAAAAAAAAAAAAwAQRBxSyjTgTSCQjzBzxBwgAAAAAAAAAAAAAAAAAAAAAAAAAAAAAAAAAAAAAAAAAAAAAAAAAAADgxSDhBggChAAAgDQCAgjhAAAAAAAAAAAAAAAAAAAAAAAAAAAAAAAAAAAAAAAAAAAAAAAAAAAAAACBABDCCCBCCACBADADCBDCAAAAAAAAAAAAAAAAAAAAAAAAAAAAAAAAAAAAAAAAAAAAAAAAAAAAAAAAAAAAAAAAAAAAAAAAAAAAAAAAAAAAAAAAAAAAAAAAAAAAAAAAAAAAAAAAAAAAAAAAAAAAAAAAAAAAAAAAAAAAAAAAAAAAAAAAAAAAAAAAAAAAAAAAAAAAAAAAAAAAAAAAAAAAAAAAAAAAAAAAAAAAAAAAAAAAAAAAAAAAAAAAAAAAAAAAAAAAAAAAAAAAAAAAAAAAAAAAAAAAAAAAAAAAAAAAAAAAAAAAAAAAAAAAAAAAAAAAAAAAAAAAAAAAAAAAAAAAAAAAAAAAAAAAAAAAAAAAAAAAAAAAAAAAAAAAAAAAAAAAAAAAAAAAAAAAAAAAAAAAAAAAAAAAAAAAAAAAAAAAAAAAAAAAAAAAAAAAAAAAAAAAAAAAAAAAAAAAAAAAAAAAAAAAAAAAAAAAAAAAAAAAAAAAAAAAAAAAAAAAAAAAAAAAAAAAAAAAAAAAAAAAAAAAAAAAAAAAAAAAAAAAAAAAAAQwzzzzzzzwwwwAAAAAAAAAAAAAAAAAAAAAAAAAAAAAAAAAAAAAAAAAAAAAAAAAAAAAAAAAAAxzDQwBDTzzziAAzjCwwAAAAAAAAAAAAAAAAAAAAAAAAAAAAAAAAAAAAAAAAAAAAAAAAAAAAARzCwDQzDCwgwwAAxzwDyBzCwgAAAAAAAAAAAAAAAAAAAAAAAAAAAAAAAAAAAAAAAAAAAAAAAARzAzAzwTjzhDgCQDSxQjTAShwTCwgAAAAAAAAAAAAAAAAAAAAAAAAAAAAAAAAAAAAAAAAAAAABzAzBCBBSjDgggRgAQRTBSgCwjBRQTCwAAAAAAAAAAAAAAAAAAAAAAAAAAAAAAAAAAAAAAAAAATiTgQQSAwCAiQDjiiTwhgQAAjAgghhxhjQgAAAAAAAAAAAAAAAAAAAAAAAAAAAAAAAAAAAAAAAzgSBiAAjAyDQQzDDCwACAgzhBzCQBCgSCiTQwAAAAAAAAAAAAAAAAAAAAAAAAAAAAAAAAAAAAByAyQQwAwgTTAAAAAAAAAAAAAABgwxQRRjBxAhiwAAAAAAAAAAAAAAAAAAAAAAAAAAAAAAAAAAByBgzQiTxRAAAAAAAABwQAAAAAAAACCCxQTiizRBiwAAAAAAAAAAAAAAAAAAAAAAAAAAAAAAAAByBTiATRxggAAAAAAAASiACgAAAAAAAAQSTghASyxBiwAAAAAAAAAAAAAAAAAAAAAAAAAAAAAABSgQSQABiAAQwQwAAAAACTjgAAAAAAAAwgACQCDgjyxhygAAAAAAAAAAAAAAAAAAAAAAAAAAAAATwCzggiAAAACzzAAAAAAAAAAAAAAAAARggAADgyTQyzQzQgAAAAAAAAAAAAAAAAAAAAAAAAAAADyRAASRiAAACwRwQAAAAAAAAAAAAAAABBCgAABATgwBSxCTQAAAAAAAAAAAAAAAAAAAAAAAAAABzhghRQAAAAAADCDAAAAAAAAAAAAAAAAACCAAAAABCgATDixiwAAAAAAAAAAAAAAAAAAAAAAAAATxygiRgAAAAAAAAAAAAAAAAAAAAAAAAAAAAAAAAAACBCRTAxjQgAAAAAAAAAAAAAAAAAAAAAAABzwgABQAAAAAAAAAAAAAAAAAAAAAAAAAAAAAAAAAAAACjgjSxiCwAAAAAAAAAAAAAAAAAAAAAAATyxRCQgAAAAAAAAAAAAAAAAAAAAAAAAAAAAAAAAAAAAATwCjRjBQgAAAAAAAAAAAAAAAAAAAAABzzyQiggAAAAAAAAAAAAAAAAAAAAAAAAAAAAAAAAAAAAARQBjyTyCwAAAAAAAAAAAAAAAAAAAAADyRAjQACARgAAAAAAAAAAAAAAAAAAAAAAAAAAAAAAARhyhDACRwRzQAAAAAAAAAAAAAAAAAAAABTyADSQACCwgAAAAAAAAAAAAAARAQwAAAAAAAAAAAABSiAABhgACghygAAAAAAAAAAAAAAAAAAAByggBgAADSgAAAAAAAAAAAAyDhwCBiwgAAAAAAAAAABChCABDAxTTCCwAAAAAAAAAAAAAAAAAAADxyBCAAAAAAAAAAAAAAAABCgSCCSDTRgSAAAAAAAAAAAAAAACShjhRzQAAAAAAAAAAAAAAAAAAATwABwAAAAAAAAAAAAAAABDyAABARQADDywQAAAAAAAAAAAAABBAhAiBQgAAAAAAAAAAAAAAAAABTgQAgAAAAAAAAAAAAAATwQAAABBBQQAACQggAAAAAAAAAAAAABQwggzygAAAAAAAAAAAAAAAAABShhAgAAAAAAAAAAAAADiQAAAAADBDwAAAABwAAAAAAAAAAAABCCCCDyigAAAAAAAAAAAAAAAAAACQDhAAAAAAAAAAAAABQwhxBgAABSBgACTCSCAAAAAAAAAAAAABTgByCCgAAAAAAAAAAAAAAAAAABySiAAAAAAAAAAAAADRAAyxwAQhTggAAygCggAAAAAAAAAAAAADBCyADwAAAAAAAAAAAAAAAAAAAgjAAAAgwwAAAAAAAABQABDBTbb66AADCACSAAAAAAAAAAAQwCAQhAATwAAAAAAAAAAAAAAAAAACQjCAADSyAAAAAAAAABAAAABQJ68WcAAAACAAAAAAAAAATxiwCCCRghTwAAAAAAAAAAAAAAAAAADDjCABzSjwAAAAAAACQAAAAAClAwUeMgAAAQAAAAAAAAABQjQBDBTihDwAAAAAAAAAAAAAAAAAABBiAAADCCAAAAAAAABhwAAAAACPib1hGUAARAAAAAAAAADDCADAASSgDgAAAAAAAAAAAAAAAAAADDgAAAAAAAAAAAAAADQAAzDAAABAdadFRMjCgAAAAAAAAAAAACAAQCwCgAAAAAAAAAAAAAAAAAAAAAiAAAAAAAAAAAAADAwhDhgAAAACBmiIF0VgAAAAAAAAAAAABBABzSigAAAAAAAAAAAAAAAAAABQhzAAAAAAAAAAAAAABgwACAAAAAAAAeYAjdsgAAAAAAAAAAABBQTwDSgAAAAAAAAAAAAAAAAAABQBAgAAAAAAAAAAAABBAiwAAABSzgAABCXHhNecAAAAAAAAABACxDAxQAAAAAAAAAAAAAAAAAAAABACCAAAAAAAAAAAAAABgAAAAATSgAAAQCuJJMJkgAAAAAAABBAiQjDwAAAAAAAAAAAAAAAAAAAACCDhQAAAAAAAAAAAAAAAAyAAwAQAwzQTABBtCsQecgAAAAACgxwRQigAAAAAAAAAAAAAAAAAAAACAzCAgAAAggAAAAAAAAABChzQgAhBjgAAAACeL0wNkgAAgARAQwijSAAAAAAAAAAAAAAAAAAAAAAShQCQABxSAgAAAAAAAAAABATgzgiAAAAAAABBNc4jJtAQBhQBQzBwAAAAAAAAAAAAAAAAAAAAAABQjhAgBBwCgAAAAAAAAAAAAAAAAAAAAAAAAAACOB3b7FQQCgShiygAAAAAAAAAAAAAAAAAAAAAABDQSRwACBCAAAAAAAAAAAAAAAAAAAAAAAAAAAABAcSdYqfCDgzRwAAAAAAAAAAAAAAAAAAAAAAAABSACggAAAAAAAAAAAAAAAAAAAAAAAAAAAAAAAAACAltL/xCiiygAAAAAAAAAAAAAAAAAAAAAAAAAChxCgAAAAAAAAAAAAAAAAAAAAAAAAAAAAAAAAAABAdGexRhBwAAAAAAAAAAAAAAAAAAAAAAAAAADSSBCwAAAAAAAAAAAAAAAAAAAAAAAAAAAAAAAAAABDBBzySSgAAAAAAAAAAAAAAAAAAAAAAAAAAACyCQAwAAAAAQAAQAAAAAAAAAAAAAAAAgAAgAAAAjRDBwSzgAAAAAAAAAAAAAAAAAAAAAAAAAAAABSwhiQAAAADAiTAAAAAAAAAAAAAAAAQDzQAAABRASRizhyAAAAAAAAAAAAAAAAAAAAAAAAAAAAAABTwDBywAAASSiQAAAAAAAAAAAAAAAAwBggAAiSQjyBhyAAAAAAAAAAAAAAAAAAAAAAAAAAAAAAAADCxgTQQgADBBAAAAAAAQAwAAAAABACBCATjAAByhhyAAAAAAAAAAAAAAAAAAAAAAAAAAAAAAAAAADAQggQwAAAAAAAAAAChigAAAAAAAAAAQACyQizByAAAAAAAAAAAAAAAAAAAAAAAAAAAAAAAAAAAADRSTCQgQAAAAAAAAASCAAAAAAAAABAiSBiwSByAAAAAAAAAAAAAAAAAAAAAAAAAAAAAAAAAAAAAABCCAjBzwAgAAAAAAADAAAAAAAiASQARBTiByAAAAAAAAAAAAAAAAAAAAAAAAAAAAAAAAAAAAAAAABDBCyAShCiQQwAAAAAAQgCxTQAgBzSCATgAAAAAAAAAAAAAAAAAAAAAAAAAAAAAAAAAAAAAAAAAAABBBiDiAjBiSBBiyiDgDBBRhRCRiARzAAAAAAAAAAAAAAAAAAAAAAAAAAAAAAAAAAAAAAAAAAAAAAAACCSwSiCgDCjyCABRAQhhgiRzzAAAAAAAAAAAAAAAAAAAAAAAAAAAAAAAAAAAAAAAAAAAAAAAAAAABCBRRRQQwgAQwiiiiTxzzzAAAAAAAAAAAAAAAAAAAAAAAAAAAAAAAAAAAAAAAAAAAAAAAAAAAAAAAAABBBRyzxyyyzzzzzCAAAAAAAAAAAAAAAAAAAAAAAAAAAAAAAAAAAAAAAAAAAAAAAAAAAAAAAAAAAAADDDDDDDDDCAAAAAAAAAAAAAAAAAAAAAAAAAAAAAAAAAAAAAAAAAAAAAAAAAAAAAAAAAAAAAAAAAAAAAAAAAAAAAAAAAAAAAAAAAAAAAAAAAAAAAAAAAAAAAAAAAAAAAAAAAAAAAAAAAAAAAAAAAAAAAAAAAAAAAAAAAAAAAAAAAAAAAAAAAAAAAAAAAAAAAAAAAAAAAAAAAAAAAAAAAAAAAAAAAAAAAAAAAAAAAAAAAAAAAAAAAAAAAAAAAAAAAAAAAAAAAAAAAAAAAAAAAAAAAAAAAAAAAAAAAAAAAAAAAAAAAAAAAAAAAAAAAAAAAAAAAAAAAAAAAAAAAAAAAAAAAAAAAAAAAAAAAAAAAAAAAAAAAAAAAAAAAAAAAAAAAAAAAAAAAAAAAAAAAAAAAAAAAAAAAAAAAAAAAAAAAAAAAAAAAAAAAAAAAAAAAAAABDhAARACjSABAzBgAAAAAAAAAAAAAAAAAAAAAAAAAAAAAAAAAAAAAAAAAAAAAAAAAAAAAAAAAAAAxAChQDyQiAQihhwAAAAAAAAAAAAAAAAAAAAAAAAAAAAAAAAAAAAAAAAAAAAAAAAAAAAAAAAAAADggChARzyQBgAgAAAAAAAAAAAAAAAAAAAAAAAAAAAAAAAAAAAAAAAAAAAAAAAAAAAAAAAAAAAAAAAAAAAAAAAAAAAAAAAAAAAAAAAAAAAAAAAAAAAAAAAAAAAAAAAAAAAAAAAAAAAAAAAAAAAAAAAAAAAAAAAAAAAAAAAAAAAAAAAAAAAAAAAAAAAAAAAAAAAAAAAAAAAAAAAAAAAAAAAAAAAAAAAAAAAAAAAAAAAAAAAAAAAAAAAAAAAAAAAAAAAAAAAAAAAAAAAAAAAAAAAAAAAAAAAAAAAAAAAAAAAAAAAAAAAAAAAAAAAAAAAAAAAAAAAAAAAAAAAAAAAAAAAAAAAAAAAAAAAAAAAAAAAAAAAAAAAAAAAAAAAAAAAAAAAAAAAAAAAAAAAAAAAAAAAAAAAAAAAAAAAAAAAAAAAAAAAAAAAAAAAAAAAAAAAAAAAAAAAAAAAAAAAAAAAAAAAAAAAAAAAAAAAAAAAAAAAAAAAAAAAAAAAAAAAAAAAAAAAAAAAAAAAAAAAAAAAAAAAAAAAAAAAAAAAAAAAAAAAAAAAAAAAAAAAAAAAAAAAAAAAAAAAAAAAAAAAAAAAAAAAAAAAAAAAAAAAAAAAAAAAAAAAAAAAAAAAAAAAAAAAAAAAAAAAAAAAAAAAAAAAAAAAAAAAAAAAAAAAAAAAAAAAAAAAAAAAAAAAAAAAAAAAAAAAAAAAAAAAAAAAAAAAAAAAAAAAAAAAAAAAAAAAAAAAAAAAAAAAAAAAAAAAAAAAAAAAAAAAAAAAAAAAAAAAAAAAAAAAAAAAAAAAAAAAAAAAAAAAAAAAAAAAAAAAAAAAAAAAAAAAAAAAAAAAAAAAAAAAAAAAAAAAAAAAAAAAAAAAAAAAAAAAAAAAAAAAAAAAAAAAAAAAAAAAAAAAAAAAAAAAAAAAAAAAAAAAAAAAAAAAAAAAAAAAAAAAAAAAAAAAAAAAAAAAAAAAAAAAAAAAAAAAAAAAAAAAAAAAAAAAAAAAAAAAAAAAAAAAAAAAAAAAAAAAAAAAAAAAAAAAAAAAAAAAAAAAAAAAAAAAAAAAAAAAAAAAAAAAAAAAAAAAAAAAAAAAAAAAAAAAAAAAAAAAAAAAAAAAAAAAAAAAAAAAAAAAAAAAAAAAAAAAAAAAAAAAAAAAAAAAAAAAAAAAAAAAAAAAAAAAAAAAAAAAAAAAAAAAAAAAAAAAAAAAAAAAAAAAAAAAAAAAAAAAAAAAAAAAAAAAAAAAAAAAAAAAAAAAAAAAAAAAAAAAAAAAAAAAAAAAAAAAAAAAAAAAAAAAAAAAAAAAAAAAAAAAAAAAAAAAAAAAAAAAAAAAAAAAAAAAAAAAAAAAAAAAAAAAAAAAAAAAAAAAAAAAAAAAAAAAAAAAAAAAAAAAAAAAAAAAAAAAAAAAAAAAAAAAAAAAAAAAAAAAAAAAAAAAAAAAAAAAAAAAAAAAAAAAAAAAAAAAAAAAAAAAAAAAAAAAAAAAAAAAAAAAAAAAAAAAAAAAAAAAAAAAAAAAAAAAAAAAAAAAAAAAAAAAAAAAAAAAAAAAAAAAAAAAAAAAAAAAAAAAAAAAAAAAAAAAAAAAAAAAAAAAAAAAAAAAAAAAAAAAAAAAAAAAAAAAAAAAAAAAAAAAAAAAAAAAAAAAAAAAAAAAAAAAAAAAAAAAAAAAAAAAAAAAAAAAAAAAAAAAAAAAAAAAAAAAAAAAAAAAAAAAAAAAAAAAAAAAAAAAAAAAAAAAAAAAAAAAAAAAAAAAAAAAAAAAAAAAAAAAAAAAAAAAAAAAAAAAAAAAAAAAAAAAAAAAAAAAAAAAAAAAAAAAAAAAAAAAAAAAAAAAAAAAAAAAAAAAAAAAAAAAAAAAAAAAAAAAAAAAAAAAAAAAAAAAAAAAAAAAAAAAAAAAAAAAAAAAAAAAAAAAAAAAAAAAAAAAAAAAAAAAAAAAAAAAAAAAAAAAAAAAAAAAAAAAAAAAAAAAAAAAAAAAAAAAAAAAAAAAAAAAAAAAAAAAAAAAAAAAAAAAAAAAAAAAAAAAAAAAAAAAAAAAAAAAAAAAAAAAAAAAAAAAAAAAAAAAAAAAAAAAAAAAAAAAAAAAAAAAAAAAAAAAAAAAAAAAAAAAAAAAAAAAAAAAAAAAAAAAAAAAAAAAAAAAAAAAAAAAAAAAAAAAAAAAAAAAAAAAAAAAAAAAAAAAAAAAAAAAAAAAAAAAAAAAAAAAAAAAAAAAAAAAAAAAAAAAAAAAAAAAAAAAAAAAAAAAAAAAAAAAAAAAAAAAAAAAAAAAAAAAAAAAAAAAAAAAAAAAAAAAAAAAAAAAAAAAAAAAAAAAAAAAAAAAAAAAAAAAAAAAAAAAAAAAAAAAAAAAAAAAAAAAAAAAAAAAAAAAAAAAAAAAAAAAAAAAAAAAAAAAAAAAAAAAAAAAAAAAAAAAAAAAAAAAAAAAAAAAAAAAAAAAAAAAAAAAAAAAAAAAAAAAAAAAAAAAAAAAAAAAAAAAAAAAAAAAAAAAAAAAAAAAAAAAAAAAAAAAAAAAAAAAAAAAAAAAAAAAAAAAAAAAAAAAAAAAAAAAAAAAAAAAAAAAAAAAAAAAAAAAAAAAAAAAAAAAAAAAAAAAAAAAAAAAAAAAAAAAAAAAAAAAAAAAAAAAAAAAAAAAAAAAAAAAAAAAAAAAAAAAAAAAAAAAAAAAAAAAAAAAAAAAAAAAAAAAAAAAAAAAAAAAAAAAAAAAAAAAAAAAAAAAAAAAAAAAAAAAAAAAAAAAAAAAAAAAAAAAAAAAAAAAAAAAAAAAAAAAAAAAAAAAAAAAAAAAAAAAAAAAAAAAAAAAAAAAAAAAAAAAAAAAAAAAAAAAAAAAAAAAAAAAAAAAAAAAAAAAAAAAAAAAAAAAAAAAAAAAAAAAAAAAAAAAAAAAAAAAAAAAAAAAAAAAAAAAAAAAAAAAAAAAAAAAAAAAAAAAAAAAAAAAAAAAAAAAAAAAAAAAAAAAAAAAAAAAAAAAAAAAAAAAAAAAAAAAAAAAAAAAAAAAAAAAAAAAAAAAAAAAAAAAAAAAAAAAAAAAAAAAAAAAAAAAAAAAAAAAAAAAAAAAAAAAAAAAAAAAAAAAAAAAAAAAAAAAAAAAAAAAAAAAAAAAAAAAAAAAAAAAAAAAAAAAAAAAAAAAAAAAAAAAAAAAAAAAAAAAAAAAAAAAAAAAAAAAAAAAAAAAAAAAAAAAAAAAAAAAAAAAAAAAAAAAAAAAAAAAAAAAAAAAAAAAAAAAAAAAAAAAAAAAAAAAAAAAAAAAAAAAAAAAAAAAAAAAAAAAAAAAAAAAAAAAAAAAAAAAAAAAAAAAAAAAAAAAAAAAAAAAAAAAAAAAAAAAAAAAAAAAAAAAAAAAAAAAAAAAAAAAAAAAAAAAAAAAAAAAAAAAAAAAAAAAAAAAAAAAAAAAAAAAAAAAAAAAAAAAAAAAAAAAAAAAAAAAAAAAAAAAAAAAAAAAAAAAAAAAAAAAAAAAAAAAAAAAAAAAAAAAAAAAAAAAAAAAAAAAAAAAAAAAAAAAAAAAAAAAAAAAAAAAAAAAAAAAAAAAAAAAAAAAAAAAAAAAAAAAAAAAAAAAAAAAAAAAAAAAAAAAAAAAAAAAAAAAAAAAAAAAAAAAAAAAAAAAAAAAAAAAAAAAAAAAAAAAAAAAAAAAAAAAAAAAAAAAAAAAAAAAAAAAAAAAAAAAAAAAAAAAAAAAAAAAAAAAAAAAAAAAAAAAAAAAAAAAAAAAAAAAAAAAAAAAAAAAAAAAAAAAAAAAAAAAAAAAAAAAAAAAAAAAAAAAAAAAAAAAAAAAAAAAAAAAAAAAAAAAAAAAAAAAAAAAAAAAAAAAAAAAAAAAAAAAAAAAAAAAAAAAAAAAAAAAAAAAAAAAAAAAAAAAAAAAAAAAAAAAAAAAAAAAAAAAAAAAAAAAAAAAAAAAAAAAAAAAAAAAAAAAAAAAAAAAAAAAAAAAAAAAAAAAAAAAAAAAAAAAAAAAAAAAAAAAAAAAAAAAAAAAAAAAAAAAAAAAQw00wgAAAAAAAAAAAAAAAAAAAAAAAAAAAAAAAAAAAAAAAAAAAAAAAAAAAAAAAAAAAAAAAAAAABmnwIWJewAAAAAAAAAAAAAAAAAAAAAAAAAAAAAAAAAAAAAAAAAAAAAAAAAAAAAAAAAAAAAAAAABs2AMMNAwucAAAAAAAAAAAAAAAAAAAAAAAAAAAAAAAAAAAAAAAAAAAAAAAAAAAAAAAAAAAAAAABTKMMMMMMMw2gAAAAAAAAAAAAAAAAAAAAAAAAAAAAAAAAAAAAAAAAAAAAjgiAAAAAAAAAAAAAAAB6MMc0oMMMBlcAAAAAAAAAAAAAABCwAAAAAAAAAAAAAAAAAAAAAAAAAACAADSgAAAAAAAAAAAAACoMMIKCsMMOmGgAAAAAAAAAAAAAjTCwAAAAAAAAAAAAAAAAAAAAAAAAAAgAACAAAAAAAAAAAAAADwMMIIJGoMOP6gAAAAAAAAAAABSgwiAAAAAAAAAAAAAAAAAAAAAAAAAAAAAAyAAAAAAAAAAAAAAD8MMIIYEMMMH6gAAAAAAAAAAAAABASgAAAAAAAAAAAAAAAAAAAAAAAAABAxQAAAAAAAAAAAAAAACoAMMCMMMNEImgAAAAAAAAAAAAABxgAAAAAAAAAAAAAAAAAAAAAAAAAAAAAAAAAAAAAAAAAAAAACZ8gMMMMMC4VcAAAAAAAAAAAAAAAAAAAAAAAAAAAAAAAAAAAAAAAAAAAAAAAAAAAAAAAAAAAAAABR3gcMMMjUDGgAAAAAAAAAAAAAAAAAAAAAAAAAAAAAAAAAAAAAAAAAAAAAAAAAAAAAAAAAAAAAAACWV3rquxGNsAAAAAAAAAAAAAAAAAAAAAAAAAAAAAAAAAAAAAAAAAAAAAAAAAAAAAAAAAAAAAAAAACWv8ACpfgAAAAAAAAAAAAAAAAAAAAAAAAAAAAAAAAAAAAAAAAAAAAAAAAAAAAAAAAAAAAAAAAAAABDDHHCAAAAAAAAAAAAAAAAAAAAAAAAAAAAAAAAAAAAAAAAAAAAAAAAAAAAAAAAAAAAAAAAAAAAAAAAAAAAAAAAAAAAAAAAAAAAAAAAAAAAAAAAAAAAAAAAAAAAAAAAAAAAAAAAAAAAAAAAAAAAAAAAAAAAAAAAAAAAAAAAAAAAAAAAAAAAAAAAAAAAAAAAAAAAAAAAAAAAAAAAAAAAAAAAAAAAAAAAAAAAAAAAAAAAAAAAAAAAAAAAAAAAAAAAAAAAAAAAAAAAAAAAAAAAQhigAAAAAAAAAAAAAARgywAAAAAAAAAAAAAAALCg4AAAAAAAAAAAAAABCyAAAAAAAAAAAAAAAAiABSgAAAAAAAAAAAAASTyxCgAAAAAAAAAAAAADJQpsAAAAAAAAAAAAAADCABgAAAAAAAAAAAAACwAgCgAAAAAAAAAAAABTCwByAAAAAAAAAAAAABEFEgcAAAAAAAAAAAAADgBgCQAAAAAAAAAAAAADAQAQgAAAAAAAAAAAAAAwRCCAAAAAAAAAAAAAAGhMAMAAAAAAAAAAAAAAAQASgAAAAAAAAAAAAAADDAAAAAAAAAAAAAAAABDRSAAAAAAAAAAAAAAAAEheMAAAAAAAAAAAAAAARiAAAAAAAAAAAAAAAwwAAAAAAAAAAAAAAAAAAAAAAAAAAAAAAAAAEAAAAkAAAAAAAAAAAAQAAAAAAAAAAgAAAAAAAAABRQxDihQAAAAAAAAAAAQCziRQygAAAAAAAABobQoMW85E7EEAAAAACiziSzQBzxCRgQgAAAAAAABAABCACAAAAAAAAAAAAACCCADAAAAAAAAAAAdLLDHODBMEKAAAAAAABBAAgABADBBACAAAAAAAAAAAAAAAAAAAAAAAAAAAAAAAAAAAAAAAAAAAAAAAAAAAAAAAAAAAAAAAAAAAAAAAAAAAAAAAAAAAAAAAAAAAAAAAAAAAAAAAAAAAAAAAAAAAAAAAAAAAAAAAAAAAAAAAAAAAAAAAAAAAAAAAAD//EADkRAAIBAwIEBAQCBwkAAAAAAAECAwAEEQUxEhNBYCEiUXEQFCAyFWEjQlKAgZGiJDBTcHJzsLHA/9oACAECAQE/AP3atduJoIYeVIVJc5Iq2Znt4WY5JjUn3I7K1CwW9RFLleFs5AzUaCONEGyqB/L/AJMhUZjhQTXDXDRHZFpcyW0okTGajgs9SOYxypt2HQ1+HaXxcjnHm1e2jW0zRt02NEdjg1pFykFyC5wrDGa/Cz8xzecvK4uLPWtWt3uSJ4CHQDBxuKZcGsdjq1Cd+Hh4zj0zUF5NbvxRuRWbLUR44hn/AKWq5s57Z+GRPY9DRHZGaBq21MqnJuV5sX57ip9NSRDNZvxp1XqKZSCQRg0R2QDUFxLA4eNypoTWeoALMBFP0cbGruxntm865Xow2NEdkg1aanJEvLlHMiO6mpdPhuUMtk+fWM7inRkYqwII6GsdkA1FNJE4eNipFLdWl8oS6UJL0kFXenzW3iRxIdnG1Edkg1aajNAOA+eI7o1PZW14pks2w/WI1JE8bFXUgjoaI7IBqOV42DIxBHUVHfW92oivVw3SUVd6bLAONfPEdmWiKx2QDVpqE9scA8SHdDtTW1pfgvbERy9YzU0EkLlJEKsKI7IzSOykFSQRUWoxXCCG9TiHSQbirrTHjXmwtzYj1FEdkg1a309s2Ubw6qdjRistRGYiIp+qnY1PbSwOUkQg0R2RmlYg5BqDUldBDeJzE6N1FXOmEJzrZubF+W4ojskGra7mtn4o3x6joa/sWojpDcf0tUsZjkdCRlTjw7JzWaJ/8xdFDLK3DGhY/kKj0S8cZYKnua/AJv8AFWpNEvE8VCt7GpYJYmxIhU/nWOxdP0hpgJZsqnQdTUUMUKhY0Cj6JYYplKyIGFX+kGEGSHJTqOoojsPR9PE786QeRdh6n+41awELc6MeRtx6GiOwY0MkiIu7EAVbwrBCka7KPgTik1mBpCrIVXo1I6uoZWBB6j6J4lmieNtmFSxmN2Q7g4o9gaPGHvk9FBPxf7W9vhbXc9s2Y28OqnY1aalBcYU+R/Q/Rq8YS8cj9YA0ewNBx84/+2fi/wBre3xVWZgFBJOwFWSzJbRLL94Hx1vHzK/6BTdgaRKI76LOzZX4v9re3wtNOnucHHCn7Rq2soLYeRfN1Y7/AEarIHu5PQeFN2AjFWVhuDmrS4W4gSQdR4+/xTS7RJC/Bn0B2H03Mwghdz0HhUrFmLHcmj2Dpd/8rJwuf0bb/lSsrKGU5B+pmCgknAFale/MPwqfItMaPYIqw1OW2wjeaP09Kt7y3uBmNxn0O/0T3cEAy7jPp1q91KS4yo8qelM1E9hg0rEHINRaleR+AmP8fGvxi7/aH8qk1K7k3lP8PCmkJ8SaLUT2Lms1ms1ms/u+AEkADJqys35X6TT+M+rNw1qFrKpDLZmJQPHB4hTRuqqzKQG2J69kaVpyQxLLIuZGGfar25NrA0oXiwQMUpDoCRuK122fEcqnyDy8PQdj26hp4lOxcChWsSMTFblgiPklj+VabO89ojOPHb3xWoqGspwf2Cex1YqwYbg5q0uEuYEkU7jxHoakiilGJEVh+YzSqqgKoAA2ArWrpY7YxA+d/wDrsizvprR8ocg7qdjUevWxHnR1NT6/GARDGSfVqmmkmkLyNlj2IqO32qT7fSVYKGIODsexriWS3WCOJio5YYkdSahVbkzSTsfKmciuVapGsrh+FyQqg9BQs4Q8pZ24BGHUjfBr5SKUwGIsFckEN0xTJDNG6xM+YhkBtiK+VtebHDl+N0Bz0BIpoIHikaItxRkA565r8OXPL4X4sff+rmpxB8nb4VsktintLfniFWbOOJmPQYzTQ28kUjw8YMeMhuoPYC3SGNEmh4+HwU5wcUbofpQIlUMgUAdKjuUEQjli41ByvjgimvGYy5UYdAoHoBSXTokQUeKMWz7010nA4ihCF/uOc182efHNwfaAMewpJyscyAffjx9MHNPdo+WeEGQjBbJx74r5hTAsTR5KklWztmjdt8zzwoB9P4Yp7lOW8cUQQOfN45/yt//EADYRAAIBAwIFAgQDBgcAAAAAAAECAwAEERIhEzFBUWAQIgUgMmEUcaEVM1JygIEjJDBwkbDA/9oACAEDAQE/AP6avhMMUsknEQNgdanULNKo5ByB4VZ3ZtWYhdWRUjl3ZzzYk/8AZkEgczis1nwmaJZU0tTST2mze9Ohr8Vd44mgaKgmEqBh4Qavomki9vMHNfi/8LRoOrGKspViHDkBUk53oHwgiuGuc6RmpII5Fwy1i4teWZI/1FQzxyjKnwoipbQE64joeo7pkbROulu/Q0CD4VJEki6WXIopPbbxnXH/AA9RUNxHKPad+oPhWKmtFc60Oh+4pLmSJglwMdm6GlYEZByPCnjVwVYAijDNbnVCdSdUNQXUcu3Juqnwua1ST3D2v0YUtxLAQs4yOjildWAIII8KZFYEEZFNbywEvAduqGobpJDpPtfqD4XPbRy89m6EUJZrY6ZhqTowpJFdQVOR4UVBGCKe1eNtdu2D1Xoahu1Y6HGh+xrPhU1vHKMMN+hrXPanD++Pv1FRypIuUbI8KIqS0KtrgbS3boaiu99Eo0P+hoHwqWCOUYda/wAxa95I/wBRSMHVWHUf+Z5Z0QZZgBT38C8smv2lH/A1LfwNzyPzpZEcZVgfBrm9EeUTdu/ankdzlmJPyI7ocqxBq2vQ+FfZvBL254Y0Ifcf0H+hZXOsaGPuHgTMFUseQFSyGSRnPU+rWMgTIIJ7UQVOCMH5I3KOrDoaRgygjqPAb5tNu3329V5j0lgjlHuG/eprWSLfmvf5LJtUC/bah4B8R/cD+Yeq8x6kgAknapyhlYp9PrYfuj/NQ8AvE1W7/bf1HMek11HFtzbtUs8kp9x27fJZrphX770PACAQQaniMUjIfVruZk06vlijMkiqKQYAAoeA3dtxlyPrFEEEgjB+YAk4FWtvw1yfqNAeB3Foku42bvUsEsR9y/3+SOGSQ+1agtVj3O7UB4KQDT2sDc0FfgYOxpbWFeSCgoFAeEYrFY/p+nnXX7brSOwGatpkIIM4c/8AFBlJIBBI5+EXl00jlFPsH61bxcaUJnFHY18OlU6kI9x3z38HkJEbkdFPpYIAHlwWZdgBV3GsczBeXOrUkXEWO/g5GQRU8RikZTSO6HKsQftRJJyTk18PhLS6zyXwie3jmXDDfoab4bKD7WUio/hrZzI4x2FIixqFUYA8EJA5n5cjOM7+DRIshkdwCdRAz0ApyYhGsajdsb1rlLFFK5Ubn864zlUwo1FyprjMgkDgEqAduuaDSI6lwvvONuhrjTaGfC4UkY70JJA6B8YYHl0xX4o415XGfp61HxOPLuMbUs0nD4hA7AUHkV1V9JDciPADEwYsj6c8xjNCL6MuSQc00R1lkfSSMHbNCEAJv9LZ/OmiDFyTswAoQtqUu+oLyGK4I4bJnmTRjyyNn6c0sTLsshC55YrhkSFw3PmKEI4XDJ/vSxNqDO+rHLbH+1v/xABEEAABAgIGBggFAgQEBwEBAAABAAIRMQMQEiFBUSAwQFBhcRMiMmBigZGxBEJSocFjcBQjctEzQ4LwkJKgorDh8YDQ/9oACAEBAAg/Av8AjyBWqO19Mb1Z68YQQcwu+kG9NLRD6rkHUfrvgCJTgQeNbGFx4J9G5vMVlhhnCujbEqm+Ko2FUNIylHBEX1ARKIvrc0jfDBem0gfSfSArA9VSu6N2EcU/yOdYxT6Q2gqGlNqCM2mCNUIwcLl00Lw6x8yeLMbr06QPajNNlbK+el6reVbGklU9KGL+L/7gqClD09sDVE22CME8nqy5qw6GcNVGpshMr+Mo1/GUa/jKNfxlGv4yjTfi6MlPF9bWk8q+gfDloOaRzqc0jnrqT/SnTJQdDiiYr4YgvxuVOAblkYL5Re5NlbFQmV8P/iu7buapZm+KY4goCFNR9viKh2mMuVL1KfB2aczrYcV8R1qX5WKkAi2kuqLgyjzKoKYUkME0RcU/4pofkn+Rz3kwfzHwDUJ4nElWe02MU8RCpL3sdc7NtVgdGZlUJ6t64rwFUv1myMyntgIdXjU+QKFI2wX2rcUyWaLz0lLc3g1ZlM7FGLIroBapXC+OCcbs3fhfxAjyTDdm38qnFmlaLoY1YO6qwNJF3KKh/KseSEomGrGL06MSFloBYvEIq1GIWZVAIwbFzs14yniNmMPJQbZyTB251ARe0XKngbIiCqTsUfusMOWtGJVNISaF8Jhgmkg8E4xKpjBmK+ALS7ijOK/zqVf01HNG+zSn0CZfRQnzUDDNHsmivq/T/BRNl8TZd5qkorVL8jl8S61TERhkv1P7VN7Fm/mm+abxsp3ajen9q19t5eE1OB6MNhH1TTEFeGqH8rHmqHs3rivAVSztmxzVIOr8mqpG2mg3hUAIbkPyosjzVOCW5H8KjbZaTcKmDs3q9zgF1oJrLk9sI6Nk2c1ZEmaH6i8I0/DV4F4yqUwD/wAo0/UTcL6mYzCoqNrLc4KgET80FSUZA1p5eqsktdJUtwN96p+wqDsL4e04GeKLSG2U/sWyqR7ifNPj0V1mofKYofM2KhaYflKZQYSugn/4lMINHCodosu+6eIOFInNDnjsuKeYksVKIEvu+1VIwUlHkVR/DEJnwpDs4o/CRcnXASG8hgVmE4RBTJBYC4Vf5OPNUPZvXFeAqlnbNjmqTs/JXSUTiXsjcVQWgIwLSsMeSoWmzG4TT2ObzENBjRF2OStUlnOKc0dWZWRq/TTTBB5iW3+i6Wxeb/NdN0l09Cx/LzXhYvCzQ/UVodkIS0XSCozGDavAvGaqSQHVTpk10kz2EL6aFy+IiaOz82uudzTzdkK2kFuRVzRwrMLLaqQwaHRPkh8Nbd4v9lHpKLh/uKoaN1I/AuTzfUxxaeFyfSvcOJjUx5byME+kc7mY74LbQBkmGy36V0bIqN304IMs1NeQHTRkJp1PeUyliYc19Top7i48a6aht/y7r4Kg6jaI3sWJ6jE51gubBr8kaZtLRR7Qv0bA7NmPCoY1PaSHCFyo6FwdgUAeoIFUrXGCoWkZx0LHWlFWDG6/krBiIX8lBQqpmxo3K3SLpKRdJSLpKRdJSKLzwUINFwFbIRIhejMmNRgGDAaD4QbIBUboFOddw70UtE8ljYXL4eisNdMmaYCAwX8SqWhttd6hfD0bhbmXf9VdRsijSNCa5rk9pB2Cke64X/sF8ompDABMY0DjeqSjHkndYYZx19JGAyzTI2cY6/xrj3yxdesBcNA4kKiBtxACpesfsqJvyqmP+kLo/uVQnyKM0+NxXZogfMqx9yqKQmKhcMSnAu80AW8ije3Ao4kKiBtxGKpOsfRMi0qVmZRBdzKouqcsEReEwRJVKbR+yDfQpptM9k+N0EyUYp0YnimSsxTQ61ZVNeclRMvd5qmP+kLo/uVQnyKM+9XgGj4gjICKcbsAj8kkwwcZlRvVIYmFxQ+a4rxKjMDiUHGOadORQweQvpbEpxuwCY7ywWD2o4PCOATz5InqkXITkOae4kpxjZkvqasXeyaeoLuaaYFPHhcoyK8aiZorggepgEfklzKYYOMyo3qkMTC4ofNce9Xhh6LI6HiC5e9XiXAVc/ZeNeJcvarxFfrflcK+fuv1vyuXvVz9l46vCvAvCj0f/Kv5X/KmvaOQTDEGHsvGuNX6R9qvEuAq5+y8fep0nS5pnbH3T2EJlGVSgO+opnZtiC5e9R+f3TB1hgrJjkqQQOAQ+Wa8S5e1XiK8ZX1CBRb1cCmtuzWDGo4vC5e9XP2Xiq8K8Cxb7JjYsN/JAElG52DavGoXOkiIL9I+1R+f3TB1hgrJjkqQQOAQ+WfeulFoZ4rpIeSDi7kF2WZLIhNtRMPeumEfEFbPoqFvmUU+N5TZGHtU+MYoSLiU2WITotQi7yRubgFkQm2omHvU6QimRuNT43hMjc1NMCFStgcwrR9FRCyM8aoRaZhWj6JkZQXWiWQlXTCPiCtn0VC3zKP/AIzaCh/w2DsnGvjp599jUNMVZavjqOGlnUdM95zUNE6GW05aGegNE95Rp5aGeuCOuy1Z70YirPcuVWJ70slp51HbxqXy7vHTdI1irHYqR9kV0rrIVHT38wU7yOwY1HCtsh3eGjhWO0KjsfqmSE6jmsIRQmjO47EKjM1iQ0T3bEqsRUZFYHZPmenfEdc8QgbTVxXgFXAe+x4CaEhVjUZd3WyqNYqOGx5lNutfip98LvIrivAKuA99jGNRrFTpd2zKvHaKOYXRO9E/tFZGKor7vsujPmhw9Bs+NYlUe6+CEqjpNmVZHqrI9UZhMmrI9VZHrrmOVlie6NTTdkUA0Jxidgsj1VkeqeNMVGSw7rNlUZajKKY+AC6UozK8KFIYWiulO4+KY6E10pT3R1IlU6XdNtWCEtT4ESGglNg6rknODYrtDhuPxhCAAE014KcIHVGSwqdLujgmyqMtS0C/NOeeSc4lrrkPmCaBfmnUhTzEGSEjfuIYKNkcEHnkhw9DqsKnSWHdBtWCGqdG0E4XhCQMSsh7q/pAiL1g1DC7cVJIodkyTRElY3D01ZWFTpd0G6xhvVNQ3+qoKKCJvKb5hUlDfyiqBlnclPR2lRUN/KCdrXdzsE3uOandyim1BY9x8UanSQ7kifcsz7ksrh3Mf3HCNx7miaPcYXFHueEbz3CdJUZiK3odzSm10hgE2XcAFPEHKY7oyCYIuRPcAGuYQNk9z3G0VIVBE9wHBNOjSsjAqx7qjb18KviPRdDAZ2VR9g7+AvVPMyamiAu9kJlUotOK6OyeUPZYGR0HFNG/wb0agjoZh1eZCwvqODXfbf0IwinnArl7LIFZQFXH3Ggayb9/G9C46VI8QheEKC7yVBNeILnVwftzQjuDgVy9l4TXxb7aJvKF2/Sb9S5hFWFyw6T8rnVwft3CobfwK5ey8JXKriPbURv364IHSeeuP9xVpsEDF5qjB4Rc2Co/PbuG4eBXL2WSoniKpXCATey3RJTQo77KBjqulf6o1ArpX+u38NDPbQUamuI5J1I4+epcYJu+gU4RQ3EdLGorhoDSG4jNAQR301yhuMSqGoB08asTUdxwTnb7LUNvBvqOpaE5t1VlOENMyWFUdvKa1R3zav3DFGpuqoogBOvbBYBWjAFOm3HTFWO5LV++IohAbe7WPkvhyAVwK8RT5EqxA5hHA6gyTdvIQCJ3zDbyhKp+qMkzslYALAkriuFWZ0yhKp+4Ib4jUWobWUy9GoayY4q4DhUYGry1UyigE922htUd7BQ2+YWKF42DIVeerfcmzRO3QUEd7RRCs37e+9NN9RICMs0F1U6Gp+q+rK7SC6qdCrFC4bfZUFHe0FDbzepGuzFFO8l4dVmVkFkNPw6MULzuCChvWNRagNrcmuUNH5RNM7DUQb1YbZyTJHUZX1fUdMg3qw2zkmSOk5yG1wVkVR3rDcNm+sKiYYYlFhR7WCsFY6jOr6RpntYKwVjoBqjuCG9blZVhDa3IO0Wm9Wyi9BW0TqOFWZ0wraJ0Aii5DbLKsjfzWklOECguicuicnCB2OOthXxq8tcFHZnsIjUKJ0F0Tk9hG+7AVhWNJ3beuAXiCZDsxXV9E6ewFQUUH60ptTsrlFeevtVQ2N3WpSv6qmzuH2XV9E+F2hYVgKyN+Hstmh2Wx9lwFTW3AC9WY8txwUgsNyuMTaX9VTGxUB6pwgd9GjXRLol0SFFWJodty5+y4BWYpvUCpHRah809hLVYQbsAR2CwrCDdj4r+pcUxtn7q3HgU0XgRrNEuiXRLokKO/fVIbgE98fVUR6+E1/nXIvhAI4ITK47HDX4Jrk51Q10Nl4r+pEwiVGIONTp2fffTleoFWdJ0hFNkmzCpmwKohE/7zTthsqzsUaigjrbKs7HxTMI1fEt80Lz5lC5g0LCsq9N7pw2UIpush3UtqKghtsdAJ7yXKjdFq9VbPNYYHWmseqBjFeqtnmsMNCO2lQqtId04JzkBW03oozdsITkw3LhpEJpUO6kUX1N24aFJ2AsMK+Owny0Rt5FVpB3dVxTRVC5E3IPaGjBW23J8nK0LOaZJuwg4JyBgmyaiEE4Jp7qhFytIDbmhPKaLtreEwojbiFFB29o7eFSJgRO2PTD5J4vTbx3Xc5T2wImpybLWPMGJuSeJLo3pstW5C8VTG2wgg7fEdx46uNwXhTZlyuOrboOTUdtjvcBG5FyA24LGoyQ1XhUSGoLMag1ieiUNpIUYIGKI3uFHcAqwQlVjqWmPVVIYQkU6mBgvTTE6nVDSKCPdKCc5QjuIzqOw4VCo6gIobMWprlDu4axVkhojVmWsKGzx32SgNxY6WdfDUZ1DXBOTdiIuQuU99x1QTnCoXNzXTfZPGzjT4aGVWVWI2hgiU6lA8kDaFTZZrpvsnSz0QK478JggI6h/ZbJZwKzVHdH8IExR7QEfTaTo8Nscm1x/mFPdEomIhchIOKb2j7lRMc0+Yu0QnBNO/AjUEdEYpnmuDPZeILnVwft3DcVJMozJiuP4q46ARFQR34E4po0nzIRmVwZ7LxBc6uD9+uTVSybJfKJVcfxVx0XXppR36NCOh0P3XQfdWIxhdzQHzRVHfD2KAvTu0RD139GDFfBC9FNmPwoXp9xnoT7hTNYGjZF0PtVNuSFDfzTz5b+DAb10TVZgo3oSyXQ380ZZVEVyPcIKlMFRiA7llCukEQqI+SIqj3AdcFRiJzRPc0oI1AqlHmm3juCTUEbz3NCKxRqB7hE3JlZ7nOvCae4zZ9zXLDuM5C4VBY9yTXgm9xzJN7lukmy7k4VYJvcd0kJdzHSQlVghrGtJ5JzHDmK7JVk7iC6J/pXZKslHViVWCb3NMkJazDFUTBcqVgvQkbwuaDIwXRD1WZjuAYqEXlFjYJgqDYx/C6IeqswgIavBNl3OcsKnSWGqY4g8ETEqHVbih8ogvCUxhPWT2EbhCc4nnUZkALxBMaT1UaI6ttbe57pLCp2qLLVy6zCVGIMinxvGCowAFSgXodk3jcVL5LDAJ0gVRN8yqQAtTMZ6htbe6bpaouhBZFCcVxTXC6ofUFw3C/sD7pvYH3qBATqjODRqW1DukVhU7UBF9l3oV0lo84rDALAzC6SyfRNdad6lO3AV0oDeC6T7pj+tC69NmFSGy70RpYw4odgS0TUJ1juqZV4naqeU4Lobs7Ko+zVT3lGis+UPZDsHacRW3uydrIAHCp87IXFZNqM4N2c1juuNASqM6xVG/ZWlseP/ALR/w+H5XFeEVcB77HG+o14irBCs91BoGvE1OkNkGJT8ancQuK8FXAe+yNkasaxoHuqdI4VBN86jscYPH2VpsEw9YhCYMUx0HBPcIcFRyE9iExU7yRqGkO7rvJGrKrHYQV0r/WtpI5I0rvXZQhPHvCNAXAVYmrKvLcededWIqN4Oge7p0jVidMbWa89IaQ715aI2M156GXfUVZ6GW05VH9h+Opy/Yrjqsu/Z2A6I2AfsGEf/AMRxqhoRUVEKIUVHQh/4B8eZRgOOJVx4EJnYP2qkzNCib5jRd2B91cOAC6rvdDsmSHmUYDjiVceBCZ2D9tE9kXlCjaDDKqllgFEcgEIHiJhHyPfniAvpuQmF+nH81UXas3nJHj71hrTFt6Z2bRghRC7ijMocYriuIC+m5CYX6cfzou7UzzXhqZg26r6ogrjDvz4lxq/Q/FfA+9YcYaD+0R6BDsi4LxLjV+h+NB0my5oSZ7rw1HEQcmgOCpO1hwWV58+/PiXGr9D8V8D71to7q6Qf0j8qjPVxOdXiXGr9D8VtmSqJpJAgOa6N/ogL7KcCEx0F0TYqmnCJH4Tpk9+TjeExsQZqyQMSs+qK+B963GBaIQUJmKf2B91Q0byTMgLoKT/lT6NwHEI43hMbEGaskDErPqhNmVaDs0RcF0b10b0RcAgIXVO7LPdDC89+mmBCpWX5hNY4n0T/ACGVfRkw0Swm9dEfVdEfVBhF8U0wIVKy/MJrHE+if5DJDBNZCM9DozeK2URuCMz/AP3zeHqnOVlWArAVlNcofsaJZqZ1MijLP9inSQ1ZTZfsQ6WvbL9hxrz3gDYDMp1N6BCkcmPDvsntIO4sTsOI3JEqO+AqeEfsFQiAzKdSOPmrRVu0MnXp7etl/ZTYZHc8E24pw3ZJWlaRQ3s//T/dDsCQ0QqXtY/3Rw3QQmX8N0iqVUU5N3qMTBNxu8hp4Rv5LyO38dXjmsM9PjuA6R3r4kyjcQG4BEX6f9J3YMd0nfHiTsE6ZOnyHputxWG6Qd8kQA99P5W3lD5Z8zt/HVs9UTp8dxxR3y1pMJ6LAhe8/cozO35jU45Iyy1OW4CsNE73c3qkzVG6BzamlpVkeqpaTyaqIAu4flPN+4MtN0024bscgdDDfDXEHgrceYXV9E+lO4zhvQGqPeAIa8o/sNhihrSsP2IwyQ1Z/YsFP9UDpkpnqj+xoKjFFigVAoNUkf8AqyWNii25ALo3IsKaIlWdwwgMyjSK2U1wP2ThDcROCtFWjcNxtai8BdJ9lCPLcNGOtkqWCYI8l0YTmeio4RxVKBYOSZ/92+lhH2VGPNdcqB9VHyKcL8v7L5cDuAImC6QoUiIQEtwUsslRD+ytnyXSO9U7rBY/cI+u3HEQTj/6Q7FTo1AwKfNE4Eeu3O8k2WATr3VOd5KEKnzxRw24ITz0WDcFJyCb2PZcUxsL6mm9Y+xRmNtzKGNfFcax/uO25oY3I8hU2cK7IgsAfsvLbsTXwXCvDDcBXFca8HXL6htvNcK+KOdfhG28VwXhqLr8q6T1QkuW28dAYIYV5HbnNI51lWfVZGvxbdmKx5hN7SM6uA23iuCyEE09c/au7kjALIwXIbbxrGSe2KwhXx23IrjW7slUc+ARxqzK47aME2c9BpRmsBNZXnbhOaaSK4XA31FHC8r6dtyOgWpor89ux/I08GrBt23Qi32VH5hGsC7NMbFGe3O7JTBdiKiYnJXAIG0eC/8AgXze5R24zEtI7f8AKZqj/wDuiJYlMnt4HXR6wKfDzQP/AHKLfWKoh5qkMQcclRi7b33tTD6IQKh909/oqMRKcdvCfcdBxXy7gm3JfN901481aaqR0fsqEf2RN/cYGCtRVyc87jDlcrSO4xSFdInOJ/bUiCE0RfuINJVh3poNEYaBBG02HempaI7SGkqw70RYfTXEG/TcJy2YyYEORrspwgVZ7UlC8qzJWL0WoKyiL9puQECU1qLblwQF6sozVI0DJNbcnNTQi27ZHjkoosEc1Z7Uk4TVlOECrPaki2prB1vVOECrPaki25WURemtTgnNuIuTgrM1C9WUdY3FGYRhAprbk5qaLgrKa1OCDblZqDbk5qAuCcIBPaAMFZ+6Lbk1qc25AXqyuCa1FtyaL1ZuGxMF7pqkFxkuKZ2o3J1OA7KKd2kJkQRJKDiAF80oouJEFRTiV/EC1lFcNoKa8ugmiDWqiIGapHAtPFZLEK2YrMVURDWgKlcCCrdl6tRbsgrEzcnX2QrRRmmzKJiIL6VaKM02ZTjEQVozWYVGQGgKkIIKjgi4lNxCN5AVsxWY1vOqiIa0BUrgQVki83lNMAMk6YKE1aJvvX1TQMAE++CyTnFcEHu9Uw3CZzVuwxPeHNhcsQrZis0y6KcYgocVEgC6GwmWKY8gC64ovcRHNCTkZLpW2TfFNN2hxXBEzJT6UWUMtpCZjNF0HtVLSjyXBP7Ll0osJnZauCa4B4mFSUotYALpIUipKQHIbJSdkprxBN6z86jIplI2ymGIFXBGRTKRtlMMQKvDUDgg4B+IT6QWsAEcQrQN64J/ZcukFlM7Ldbzqa4B4mFSUotYAVeILgFx/KeYAlPpG2QmybJUbxxQdF7q+Co3i0ZlW23JjxdgrYLoXp/ZcjSiwmyVqD2qkeI4BHEFeI7/ADSBqaY2R3EtCMZef/Bw/8QAMBABAAIBAwIEBgIDAQADAQAAAQARIRAxQVFhQHGBoSAwUJGx8GDB0eHxcJCgsND/2gAIAQEAAT8h/wDnkBC1aCFIJMu86IfuMPQYzLWAnNoWy/KUpT6ucUmwFs7CIFOvakgue6wGocF7JU6j29M/uA32MF3+alA568xEAGkcJoKUmwZYiQDccOu7ALLKs+sWN39g6sect3WEHt6VZX62036XaU332NhoWKFotjtVffoGWI+fLX+ic7m3/wAzcNK9IhQR76IS2qm7niVvpsuniJ37k4uxAVp6wbyWiZnj0vq1MMfBA0N0M+849801N0ce8coe46bTeOCQl8wrzH5WlfKPPL0Kqm87E/U/3P2/9z9v/c/b/wBz9v8A3NpwA/WUZj7nU1TpnoLiIolJuQFaJ/frqCoBayhz+1Km+CVmf2onzhz4QRZ98w6DFVdCFtqCJ0ZYh99t+WDpwZrhmbrtt5MVs5jt/uItNpXk6BbaAHVY/Fene+BC9SeJu4NO+SE37Cfc0VQN7fV/qVEGYtpuEs7M+iVfbp8StI2PG3+dHhhLuMw3jC0UEw3eacFOxsPqVjk38HW5unWX9Uy6tWz7b/4hhV/bm7RPZML30KO4Kbr0g65XyjWxPYvwTe/baFKyWW1kuuOAjh56dZSvSyrmFEnhLuNSNQpynMuKHQt96II1vPQ5ZxQZO2+pnuF5O/8AiJj77PR6J/QJTW13ez0QzDJeTt/jSnOzb1lnJ4yBeV0QENr0l/IQQzie40VmmlftCMRFb6wCmxY+BAVSSw2ir7Jtn3y1WqC/OeuQRXU/V9Zepe0W1DP5XGNonuWWOhdd+8YglBhNUzHdmz0f4j87T0HzegJ+nMtiRMr7tRznfefG++zChvZVMViu6trCNctzyj8KZU3AhO0nNzCONzt/yfr9nQf22fULJ/fMRUx0244eqYGVawxc6s6vqGursVb3LYnD/jeu/wAwhBrLbj2n86WA3PbERK1I+mDYrD3o2l8mW9yxO2vzfUgreKdFzOEdX/aBwFYnMFvm/wCdKVLzvHZDQ7r5briexfgm9+20t8UoOzaPJQbw2T5eLR6AXwqd09lG+dVL5UO7XFo21NbpxD/jSf8AZbGFJVefLEQLcXwoh2GimH1giA3XXUn489xp7P8Akn7LpPcn4+H8P+p7hp+z3J+r6wRK1S7YUkokMumWC6Tb8GjSpMH2ZVSqurLYqDqMA9btz2+biBFbdxUNh4sF8VULFxh2Eux8Hfa+8p7JttfaFT9mHZxAmdlpVrDYFXa8mz95g0lGDibk816Y0F7I061OhaZ32gbRvpX9CoGU3Nv3WU0PnowdcCcJjLvleJWunbecXbvr5yhD6LHno0VftyQdLXeqhCCHnF7UAg2XsfUvIWupzCKugSynMO+KkYUz3m949cmDd6NEig9X8IAHt8t1xPYvwTe/badmwO2UbSlRw2rUff29khtex7LT3N+VvG4LQsmpS5Trfl8GOxKceob/AF9IUq5DzLpVtqrrERpMz9bzlqaqrId4O3XCJ/29S5aCx5vgTF+Vfjoz970n489xp7P+SPpgBz0Indp3+FPqEXyxEKklvrp+z3J+r66GPlSo26dQIx0P3rM/vb1XFp5nq+cYVZslv2h4EPbNfWSGEyw29c++u3vqxnGjIkREvGXHWJGthduOhGe5OjaEqK7OL7fA4DoacKstq9pyaCnHvogRJSt+ECBw4H/L6wdeytzMeZg3Fd4br7yZ0acSkQw5QO73dCvZRGrhFLsodEqKcN3Nfkjvb5VwmxKeW2AhgoVeNbibndpghGN51+9zINv7282abi7w6xO4afD7nfybRspxeZsDKsm8qBagyH7jtD7m8ecBMn5XHmsfpWfgFm7A6FDcpEEDwg3gZeGMHdRvDxytOfR+zP03/E/Zf8T9l/xP2X/E/Zf8SuNfkOY2zDyWu92ClzeYS9dMZM0NbajSNXKRm0KIWR+fzlBQ9w1f8oA3u6qJHRmWpbLJbl5lOwKv8EEJIWdOn/2rq0nU8HrEH2q2B37EzzW188FAFrtF57bVN+2Pngux/M7mxnf9QXYHjfMR7mEIBh1xfeLXF2n7HzzJWcBfZCjJzsW/P97/AAfzOQR3frtFG89fl8A7KE+rLMtEX1YMU8+aEU+WFLXKy8rF/RZxxX77+95MBBA0jBbtSU1KrbREACrr1lftci7h20YGLu7EyAurT8TPO6o/m4R3ez/cHZQn1YxvoC+6G7vn0i3tbanvEkVdcZCA51Q/FRGt6ptSjklJpiUOV6JiEqU+bD/MPPmhicNKa3iq+243C8v5iyvDk3zN3izPMKHV4tBMJTPLs85eVi/os44r99/e8mAggaR/lW0cUfaLbb8H6/rNy9L0j4c+yEDJQHqYdXG+gTn/AHXmP0pZt66QUf7JP3+0TtEsuDoSiBe8szdaD5hKq7AesBrBc9XmKxz7JBLK55p51h2f9TdSE+jNvdmIW1xwPKXmqqPCStBd9REnUJY5bAp3pgImyvntFIZ0PJFej4HRywOsuSFYC5DrDqi88ziMarn+CHII74haXzlM/TAtQtBz3YGxxAdXG+gTn/deY/Slm3rpBR/sn8qK64L2R0Ddry4+D9f1iJOg+4NK/v4l8nb+2lsH6tK+l/DP3+0f7ejUlc20L4P3et8v7tKYOuVX79mn6/fP2u2nsU/Q7srggIC95/ZO3+vlDkL6Uf1Nh4j6J73+DWUI3E0V/fxL5O39tLYP1aV9L+H+VKDSW/wlcoC+yPE3chBHvVH3j7JynFdPKcv53ern7/bopuBjyQy6OnqJ+LxuJ2CU3B1YovV52fv9p+/26kaKfuw2slL35IFI8EwkQh1MwS29Id3/AHN1JD6s/f7dP1++ft9tPYp+h3YyXMp5ohBuzNmdpMBbO8ovJERRMkDtn+CMp2Cq3xGqdVeStT1NwMeSGXR09RPxeNxOwSm4OrFF6vO/ysE8tjA/5FAmw6J/cLodhz5wVdlPozjvSzoHQURHMc1/cepMP9mEtw/vRECKraszF7SiXX7S+wNN1KODrNj1HrH2R7uzN5LuX+Jl1uhT8wbtNmCrsp9Gcd6WdA6XT7yu4kzF7WzTFKEKJjNUNnePf2TAA3nBAljeTiFX3WhK/TrILarteDnQKvG0OOVPclaCiI5jmv7j1Jh/swluH96IgRVbV/8AzNKek7DO8neTsMp6f+E2eIdOD6wPXR7c9M7pO7O/O/O/O/O7O6TPpO3p16y/WPTlPT+eicQ5sQ5mV8SvmMl9JdLfWWS3WeeeeV6yvWV6yvWeeeeW6yiWesql+kJX8y/iMHgzFHH82G2IdbAeI86J4IttLd559CnT5Gct2ZCuvkU6aHnlO0CgeSHOisehiW5/MAWI3xBx5Uek0DrYFx8ODx0KxyaC2ONKfZPfT3k9zNjzlPt0FocaFZ5dMnifC9KPS6A+SHKikQ2iV/KxOxovRg8aE6oA+DKOdHDM3nTF9HTLQbbtNzzm36z3qe8nuZ7FNzyJuPObbtph2GmJ6tLxPLTCOPgQx6NCPOj0Io3P5OLYQYUYsciBNUTfTZETTvRaeTtMjrEd4sjqQUvOKDXm6L3Se8nuZ7rRG/Nn4JsecWLpox7LTzxp3MtBdqGgLtqlnAiwAgcRRv8AyMF20yjEYG3gDVChoan10wXOj0NovOEFI7x0O8NB3gudoxQ2uUkdzJT9Euuqe8nvZV9Et+qdhJaRQu2uG6bQ2HeO6dCGg7xeUaegtHD10m59NEK1IYltEIEZ0IlfyBnfaAOk3DAGtRfOndu74CZK2E7GM8+YhCrrK2MObwUbIt7/AB7jRN5p+Maiq2ynptLeCJvWeXMTuYzBGw+AHfLtpc1xqhjkGkQY5t/HU2Q928PzTPAmq31j8BOZdou4v0t+jmVXRAUFeLoaXGRcyv6GZbpVxmDbRsdHP1BqLM0PdvBYm7+NPk7TDHwJ1NDcjiapk0Qh6RKUlF0d5ddHJEBOJibs0pbX4/dVaZE7GIlFlV0N5ZdCBaBFS+uhgbBgju6dCPgzDHNv4uFyjO6F5pkgDQdOxob5LjpimILwnS0tvgmC50xwRq2ttDN3LDmvXaFlb+ziUx8jZPAUjv0E4UK6hthnnnRMvZ0QzLiF5pfkiV/FFWIRnBFuXQTsaY93bzyV2iUJuQHeDoX2DwZM23XQIJjCY+xptKJvyJTLye8dNA2JKiMT72HwQUHnoHaXESu7PLTfXgdwaU5JwQMJu/iTeWBE2JtKdc/xzDXM0Wb2IlNMxnRMvq6x4RH4WL6cSzNS3BnyhHnHk857x+J+o76Zjwdrb60eWmQFaIsfdvpe4kz/ABxrbGxdphj/AMQbp2ijFEA0QBSUm80FNl2iqopCV840oj8H7Jp94/8AuXXTho2GuSHaxntP3HV0wPg/RHprJeMR2UURADh30EO0iFIaAwRBGek/h2+doBmSAGi6hvrpe5k8odoNQ8u3w7GbjZ6TAdzB+SC7/wCaC9Nyu/BE32lTbm7Dnsh4j1QgRb8p4cP63xbnlhvLnE0M6V00QZkgGUZNv4ZvnaGZl2wKgLsabxu3ncbRU+eGJSnwiJe1P+An/ATdvafSVWul71P+An/ARKU+bYqr3OGdxesvu6Dg0LpvniUzu1LHApuvgBwfYT/gIDYUspv4gtCCn83TsNNo2baKNyJcy7IZlGTb+Fb52gGZdsCtFu45hVyNAOqjdp2+O8dC9qimaVHpP0iJ3aWs8t1+7AtgQY2GfpE3+hdygfeWZ3y9J+kQA5hRfyG7RvAei0KuBPKjbSrjbshGUeX8Is9oEswCtAC1mlyndO6+gQLt8djdF+SPJjXLUSsJwYdPact1xa3cx6KHd4en0P8ASnMvjk67svC/TaJjHcfkCIO+nbeXqNmgLatCXM4IEr3b+DO9ErAKlLxoi9xDrc0XxWvkoboqHvkBoIihtzdL0gQ0XPmbxW+17orZfOiBWkbu4kAesU8/oRsCuy9pTj2mMAuHKbGDrn5RcgKGhVAi/DSk4iXBYYky/ggK1Ck1RBRpxWHeCnD00d925BU+Hj5T+8SnhlG5JWzCbpUBO+eCi5Bvi+I9YDSMrTv57pVToIn2/Qn0aGqazGrDzX8RwCKAlzOX+a/LVa4OI77NjQQ2eiXdqDbQWRqoCSU/wOpbvLsJUaBByaI9uk+8M+ZQgHv5yqyDsGPfUAD7ETkpay+O+5skaH2d7oDGurRXkEVVVz9CFQjSbM9XYA35jKq/ZIsn5BsHzfsJIj26aIbwaXSvKUsb/wAC5ErKN5zOqnXogH3TRyyWD1/gdAnEWtaBfZIp26a8xLynec/8BZEgbnRA0xCS+zpohcWZaG5/B6ttviIXox31CbrRoG4iJXPr4SaQUatWfaJNnoiKk/hKFBAm70xrP20piWRvr9HOlOEqL0uNljvDrvSIjTEVjM8yOf4S5ALeYqrWArRD7vSXTFBtpcTlTn+uVBFJDI6D1GNHbUDV52Vh/hbUETVn1x21pVjxoMhESsV9bptyzEEFGm37dI5nlYzQ0Vd3+Fimzo3Qm88pN/26aCyYhlxf1zAHMCBVfMSBojSUwU2hlFnWAu9n8Nw+MMKaOsW4CtBbEgYAK74g50Cj60hzMaM36UCV3KZg80/iOYfNYkruUZv0tHMf1nD0TSBzoUBL0iFJWmL9BjHrkf4eT6RCYv0DRChcbYx4NBzpFH1d6hHMxohY1BcrvAGURFUmfgDxbz2C5+ggJq7DoZ6Fi4/3C8HsH9Rq74t6v+vrwpCtgmDTzEo3OB6Id9pRLKXXF35Ew7fbD3xl283a1BVBmAYXaAYXeIWt6udn1ZQ6COdBvoptDRW1UVtZ+D9kLxqLuwvuxA+5X20VLP8AyB9eLaZQ7pLKLiODyn7PZDW8ogI8Q+1xEBpGyU5+v5NUVjmKWr02Ajn0ZoOdANfVVRcV0gUabQuME5iFAfhRByW53vYhlQ8sNzCl0YHtXWfr+s9tp/cdPHZcGOApN/oNv2eybsvdH40/WdXwJQnIQxWDVLIqpMF/VAtqe3M7aUKmNgydtVXd+EELdlNKvcfWcDZItr97aYL1/F4pyHMZlxEdG8RI6B7iO0NHKIlNeNt+z2RxFP3bafsvd8W8zDg7zEr6DVoQSmvqd1ukxBDRrtrOjXrKVFH4jlIPXHCOCd9mO/yU9fKW3d5iQb29n/DG1P1lscK2q7D/AH4fcCtEZbvFb7yq/UjqIrQD3E3roR3ZjoUsdtBBaweKt+z2RC+WTtzMFIrPPn3l6LXRzE3vk6vw2DXU/ubN91GyYkgzf1OiXoIU6m6ITdD5Ao2NM6BeeIKKvLoKQJyYjeKvP4gUm5vp3galVebD7dA9xMfgE7jdMTm+JQtB7RC0r1dHLf7qhlEdFV8jZiLuAgKWvWG/qQWhFEZvXhyLsAlylPT6BaUXoKdl2YzLiZVc6eO1ckcNS61w0QvQHvItOzo9m0qfeXvaZJ2Jd9CVhxzHtcEBWiKVJn6BS2PRNgQm6L1HMVMSl+om7R4CGCrL2nCGb/8AQnlrvAOoiAkD1hKB6SnnNZ+LDkxEq5fiohy+Aj+3x2X0La44QSlq2hh4SD6iO7r8AFNpzF+c6S8pmcPHirgcRKgo7btFc+04EPx5bD12IZ6gZ0qyh3alya+FWHpL0zpQmINkNBK0WefH4HCf5rOmPKKu/wAAG76jg+Uzvpt0dE4S/KIbnjxqwlAEoCczOSbStJk5+QxwbPDLQvWwIc2P2lXAgAa2j7jlPjWoFdYCqJ6nFVbvFe3WEoN+PNoMXvjznKXRpjeOfR9QNmOnDi9drcOCYJtvjhqcuOsRzt1l6JYPX5LBqvbFXRZEywIh3JfoOsG66lRGDViG42x8T1COyxuBBBsnjx3Ox4wm6mpxHZhpfTxujwE2pUF1HiRm5Px+PxinLo95Upatvk+cGYiZS33zG4My2dAlPWFqbpO4zrxk+sai9J3vfjw74nTcby8VdpS2tvH7M4cyEsi7m9HuQfTwwsV11NsoLm5xuUtw8W51C7wSynSIUKZ5P0itaeT5lU10Yc5rQLlrumcRZlbKU9fkhaEwxWtS1JYK0Go7vi0CWTiZFc1HfLVVWDB9PGM3fnpYKRDnENx8dhXyGDU298tfQPAXP0j1jMR+b5WV6socDpzB6x7IlwdDxw2yg02wNNvX9QzHp1ANnRBwDODvGHIczfSCqxpnBDrFgDsgKgGWODf8MoqlthtMSbq8zvfdAhZHHyeoi0XbjB6fFiTdXmd77oELI4hGW4o9ZaGhOuq8bXqLHhBOQxTu6jn0/TjcmLnPUo7rx+MwStqVwXehA8OxdRed37RL3/5w+SX5idQb+Sx24H3hEbAQGeRiIbrb8R8kvzE6g38AUNJxkOVo8eJzhpeMzMd36ct2bdAIOWmXbMVMXi/KImuG9/C6B3EZwNjvGmylYgLQUGD1unyLjWDDMQc0fG02UrEBaCgwet0+ClnFV5ypcMjh4u9Np2BHsxTTsmzN76bsTa0Kud9KenjhTZm/ZJx1q3Y2D+0reLgw3amHCsvL/liVvOt+RYvKj0jKF2/J8eHCsvL/AJYlbzrfgAt6dNeUu/HU9J3URGmbk3pv/TfxzhNiIQ3nXI7hLt4aSKPFhrbGiw7UxKa1xudWhOkIlMQEROSbb8CPlK8vyOv271ioXoTuS/GgIick234EfKV5fgdoZhzA0Jl8fFsApZOgZbiHkRHbvNycvpzueU3kNj5XK8qJZ/0GIAWrQT/hz/hxq8OHweyOOfmDFirX1+PpLrEyVlKevzkLVMd8vCgoAtdgnbgrOmjViLEJ/wAOb8Haz5Dszeza8vpu+N5DYmYoZWHXOmatr4cIuz5b1P0HSU39hmJbRWd9Kq5tW3bwDAIxLumX9Evg7/MFqxCoI0kqj0Q5WHnMZPd84BFqU7zXNcoteChaHWF3bc7X/U/V6aIdcc2ihxyao66m87fXlmKCOzN7N59O9qG3yaFPN3doXftzu2tn6DpPWa+0cccWwTEk99/QnsOOkAQyJAHK4uFuivoY03G2ILWfq9JvFrIVehRUtl/YhG0Nx+Qze+nX9c2oQIvevwSRRZKxqSFpoI0Pv93dn6PdP0HSCDwiVdbzIvZMv3l/jab3IXdGHm8CYFroa5W/PrSdok6xCb3zykvQdoT4P2v8z9XpLKLoNT12t2gO0+YM/C4jk1EWSs/BJBivg6b30+tqG3yA6CKXrDF8FG2DbnfY7zNrsqZikHYYu5z2vudYWdpRDcnP7HgrNhg3P596ndM5imckXFMpmR+YCtBEucp6eE9r/M/V6SjHquAdjYpz00FhKWPP8h2m99Ot8byGxPKNK5O8jVtbfDbTvK7lS7Wwb9o9tQcevz/JC15ON/eF/oHQ6eAYBSyUbTfgRTpN/nhbLFt1LmAzIXbmJYfLS43hz1O8QR8HJLYDMlvPZW9QayT21Fj/ALm1M2/2QIHEOr31NzRd5M+I65Udmb2bz6bu+U4zYfQdicORCJSng1rUEpzEM5HSJXyd0VAbUx3i+g7Gc5teX038U2k2oQC1Kt4q5Mo5MSVKPF21oYnbEd0vgCHLEOuFcQ1Y/aVc0G6Zd3BIW180wuRLEbx/JjrK+cc8CCJ8vtKaaDdMu7ggXa3fBsDhyAy+pXi2AiyXzS6ku2cQCsm9Nj9Odj6JHjNlz6664fKVEZLVtlW7rg85iG9P40ybfB7fOdtQqiU0G2nWe6/1ME3p/GmZb4PbUMUMbZtm/wD0MW/9OW/NrodRlMKHKxNKV4vaFznqiruzYFxEadabg2e7LbwNnQn53409k/vwGCckDr5fql0u4p9tPeH96IULiI0k2RqB3pisfF7wiZdSW7TXg02k25vfTTcmT8pz+gsQ3YZ3pwRVZFUrvEb33SvdufScV3ReOpdEXdR1c/ZlRoqz37+BqXIf4w+Mwp5iVdibwMVBl4gwvXgpd02+g8ZgfKO79OzPlMdIliYbROZaWQ19fGCmSKu7K16koiU67RH558Nu3hO7HSCPeAGNtfE9j3EtiGAbPjT0z9Zxqy7bYBbtpnOD8vp7nD16BlCDx6AGWEZvSVRL7SzXQUUMHikiVvMYesXGvslPB7pZ/QEsKtrT3MX0+tybTDaArQRXFThJL4WEKQo8XuNEwdB0NDq+iWlVfMbMLnr5QI6KvvGHo+Gfsf7iblL4H5V1BvflNbiBTvF4Pnbkd/F0EsnJUcXiO1MQpMx2hyY9j6e6k4Okis3m5P6BW0uN5+0RoIFly4rL1+UEbIwebPZ/yw0v+KWwe0MRFEpPk1NJyR6TaYncnIYlGPugtmY3Q8bsSiK1zpHCxX9PqgwW49zTchiNxHWkQVX38dWIWgZlFa5nTgmZw+T7yez/AJYDhDtXvFbd894RO78iouJVxxLwTbzCI06tYYRRmZDM8TYl840OBRupo9iCjFa+oOmGNFyJuS+gMWoqtsdZ2bwXoogCAD5DY84VkUMebpbGZN5AcyxpRt5PjsuzpzC4ZUGO2oiV3+C4mGZD7cxah4kDZllONHNY6f1FYSCrwzps8B2BONZLhqvHh0baEu42jMor0nSk4+bTV1iUpe0sFbot/HMF6bvp2I+QtagVOYhnM6RK8IqGp01OG+TrRgu8eA+oqvPDuixBpGclUVd36E26wTyI2jDAY2jTwLDhGaE2+BOlURmdx+B6m8RI7ynPG0SmohHubREUYR1UJQcfLwuRLQsx/J6+Dp020YlF5ixDujv6jN57pMaabzi6O867ekOxw+hYl7IttwH5YPWfgGgCgLQlcXxoHuJk/bQEHzolB6iVD95iW0KYldPnM2oXRP8ACRE38DSEY5q0zhh2iJuaZ0nsx3+pXU6Q5dHVgM3/AFIFo18YIWrQS2DkKO+mwvU/1F1gXPpKJs+HUbGqAtCKoRfnxezQPcTPQZRow3nQ5l8EYJyRtjebnt1+AzdJuSdrf4ikR71hPTRuHDdbEvW25JVF7Hb4baxrXaYqbDQ5ZRT6nR55ZbpFjTYCbohOvE3/AG+MuxBy92UmVf7xHP3QfeM64rN6ivt1jmPG5Vu/iatq4b82XLtpHegHuI8PUm55xWdmJSkDQcPhVLGobAH8ERUmjvymqfQjBidZacFrcTjMCU3EAv1Fln36zEzO634fhWynRr1lubCKZNFiUW6x39UKZs6UAPObmvTZFxih8O5mt+h1mPEA9PTRj9f1nttOX6WPFCjZFv4E99qLY+J7sT107sa7Cndfgm8oF6z2XR7L8FAjizRTKpVQ89HZi/VTcjMQrNG8IAv05QVVEVrfwnPwDtwesbPLbox+v6z22nD9LH1wSsYD+SGwxQMge3LMUxtf709l0ey/AKNjH2FJuaHpNgaKiZmOL6qqGCbprQwMRV3dOyHWCwW+ADbUBP6f9I8ajv7UmFi2T1uMS5sQLsVwbyw3lTv9epWA92WZsvcGoxgjtEKCPRjrzIa74JK8js5iZQXX8GpALXeZMw7abSxts0VtQQVq/VrqdJRaDZpshjrK3YdlOmlle18LjIOXk0x+uv8A6jRcTgE2Gx9er4LNrEFNHnM/9tgqmTmNOTdbMwXGmbTsdKK8vTZHEvdh3g66LRLLSgr6vQOlKmtMO+NHaCsxQukq82/4U1h9IZRmZHI1sh+dEh+kHQS2HRW1pGY+sX06TIRWaHfe4DML5d/DLiYZnWB25i1DS5IZjlYMv8vRUTMSgr6zUMBJ4GMSDXWdHOho1QhmQqv8MLWpjcGJQhC2GnQjoxmQL6R2ogJZj61ztBcaCcaDFVHWLcEqCKB/CyFERpKdMFEOAnTSonK+uIabgks6Nunl3WJ9zqiFr/CxRsg9frMwZ6vgzFSS239ctVwyt3nBobqtuI+hFqEKA3y/hJs3XZjeduumIc9Eurk3NOCVu8vVx9eoU7kraSw1TgwA2zroIKH8HoBrGmLeio3tVBL20rVz9fRWQSSMN4QKWTsvRouTjqnGPl/g48iOpNC+NukBUKm0Bg1JKv8AgFztK8sU64NiOgdC5OOqEIVnzPbvLPftDQFaCf8AMn/MiJh+goAFXgiRbV59f+ZP+ZHYE8/lUsvaUN/QmDnom+E6a2KJXl7t/AuZLsm84nREC4NLOOOk9KQKY+VbXd5CPl6M9CeSjrZ8xiPbv9E8tW9oUXBm+penGaKup5/QCayqPWbP/fr/AIm//pLGVBHC9x/xAgHLUQAc/NaOOIcQ38kIobaPg56INaC0p304iVZZwP4JUp3lWEu0NytouBjo0NNgS5Rs2+UqoKrVRK5N1lso1v8AQgdryvOWN6N+IAmwusYxMiN1rH0FEIiNiSsx+1rgKALXYmbf9xZ3iP3iTUTg6sx5fv8Aj5SdrkgHHyaK9ukFxN+NKpdlK3f+CijZDkrs2lmp1wI6owNDPZ4PlZ5SlTtoz/TL83PqecJZ4Ckc+ay2L0njW/ZILbL/AKPoS/GBZfzHzwcdIgKOU1vODz/8JAHrCikgxynt77PyAu8bmiPtyQOC5NaIrt2hmKrb/BmVkGJ1jaWaDA7HTQg4kTtcGiAu/HxpXQEqO5znpL+lK855heC13qmIpEpN5uSXfZuB1A37/QcF9O+RM55/u66XllLntN8Y5Ob0H+U0fE2JyREaZeCfdUfASiOosSK/4Q7gxJAHRlngjKjZtp9hxECiFBmIjT8PA7hOp0jHDfX8m8tQjtgj0JhWjjtTFN4pUYV3yL7MxIfh/BtN8Z2Oh0+gdqWXNixqlWJ+xxotD3t4oGWyYbfq2PXmVtPIEPsRTCmy69/hVoVHIT1GjRO1zBQvDpRE0E6/hSPRIpZqHZRu1xoVfJbbfE9Bai2DvC+E7CoH3+5vV8kBUDeU1vw5L6BKJbYFPui6K7N8PTxJVbJEaY9xDHE760RFonf8MdwYndm0t0XN8GgcCbRlUQAlWd+fEGJzei58Bp88Qyvf9sxnAt+7ot8hvevDtXJtHZRyEP77okDh0oju3aLE6/hzvEFi5RbvpSy9pjGA0Lmm0RKxBJtzggKgTl9MnhKUva4LXcbsPwkuO6PfPxNn9t9Nrwd4fTBERRiIphxPLXaDTcBS0vOm8aTs0p2i5QDHWf4gisgHvOSKcOqcuCeWm2joR32DHX6eXg13MAeswSb6pvbRMlDf6VcVfq2hbeo/Lpgv3p4M0evlHeadEO9m0SmmKb94crvrbgnJBHvFLb/ErqWYgvNMtMA65W1DKpvJLOgpoJvLt4IVCORsl8gjzf4hgp9Vsz4sPvus2ykPSGU6vi+GNFfnuYhg6LtseCqUaG2oxwlRyEIcm+qCWtELzSjEXf8AFUwdpQzIks30tqrxpvLQhWViDFgO2gHOsuiAKYfngkCcmIpZV54qtu+lqJ1VSwKdLfPtKNtLi33IlKTFOzvLDo7R2MjNs1otqr0o2mRZQxHBt/GNs0kmNiwDDclE9LbTLfY0yLtFwxjEzBsNGzO549ah4iUpMY7YSmRzjGO2h3tGialtHdiCbAlWdEru/jfHCDMoQ6tQwW2jhNEAfiIi8yv6GZbvSd3GVQQLaiFJnw6IDeIpHeFEMSvcTz4mcNsoNNzE/XTvQ20u7b6vRMowBnH/AB5sk3jDpjGDnXdG9FR+uncbtoMnYS46pWdsy5aMELZGIbsdl8eUqtmarp+OgDmKilHiXBcNpYu8o7CDTcwDk0wnnQ7/ANI4YhY1qjiGjzaMs3T+Q+UaGjbEYwc63elp8Bo+ro9PaDyqK0wXboR2neG4O/NhCYQM2hIcsIzae80JEnlhuNpRs6wlAxMfOg+4jpO8HnDTM65p5Nx8AHEBI7sutUcQJg3zoHln8lNvmclEdoznVAPPwYiqA088Z083aY9loMnQmS84cI783S+5nvND7FN3yJ76bHlDeey+Aji7tPdWmTi7PgQR6ITg76EjbH8p7hOxRmXwy96A5ljqp3dCRcb6etumGk33abnnpvfp7zQ++n4dOTtpmum53aArzoKbOthES9qD5Yfy/EGyM6CHKisQ2Ze5DrIfBW7aCXZ0LMbml66IrTvPeaE3ITejQhVk0WHA0t+BKPbL2IJuwHvGLoJuj/Mh8wOSHOivEellUsS/SUnelnX4jCUkcta/FZ1nelJfpLUuh1sB4jzoHBF+f5wbRhyQ5CC8y3gjGvWX6yqebPV8Z/nrnmy6X6yvWEaeCI8x4CPBFt3+f29YDBpnY0+5O0naaxHaTtJ3NPsaDNXmW9f/AMBzGEb9Al0HfFyfzd8194aL7qrq0tHv9flDrIG4L934bm0fPd0lJn9w+sFhTuJQlWK87/qYwjfoEug74uT+bvmvvDRfdVdXw14/dqCrmKEdBBtev3ZjDryX2ikPpEsofPUP5yHXsC8cUH5jl0lj3JdRv7Jo44yf1oyxVLL5tWVpvS7ebjIYB5Lj2mWeVx9bS185+lKqKnzf8QOvYF44oPzHLpLHuS6jf2T4AKALXacNDzXsRW3ZBYOrFDBrpxxoVHAB6XOowvu/nP7fbUctX/cdWoZC3Bw674IOB51yuP03M/b7ajl8D2JZ/XFOvW7z7Hp5Nd0Y2OIth+Zfga0CAPdv85H7/afs9tMNd/cdWtrz5wvyiIolJp7gUXGA2uXTT9/tP2e2mGu8AynHgELy5YoqsvfFwNGDeXAnRKmRJycPnKNKdlwUrDQcQ7m6f5yhW09CMTDmOaSEe9ylATmuadf3HVqsc/At10ghUHp5zCGfbrlGo5dA7T/oJnV1WgRCtp6EYmHMc0kI97lKAnNc0wu7eiO6w4FVFxNuDuVP2iftEV42KI3cEFPbTB2bHebZ4+96fzpOCLElCP8Ap2YH1eoS0G2xsNWCwub738I5pZses/46f8dB7WtlicEWJKEf9OzA+r1CWg22NhClte3WCr89fx8B7Jpu9etNC7vVia2lr3f/AO+b5IqdcJy18p1D5sD/AMcX/wAc6B8mctPOZJudTP8A4arhXUmVruPycvXcI5hfQ/8ACsfyZ1gACg4+WAQWMycvM6f+EWKsdjr8+zRnx0/8GcOPL2gIKDb56ILGMvHh7fx84s/bJUzQ4b86Ybfa3Kdq1J9CqEcr5eBux1Y/QhvNY0C6jB9YAAqtASwdec/rcefvy+0XvzxQRYb5x8zgKqjq/lTrUf8Afv8AQOkN58j4jLUMgry9Z/qmmGD5XR28eX0EFaCM3Yr1RePumwMdYSo2+rNu7lwG8JRI/wDufhAIiNiTLYCu/sm4+/v38f5GK+/xe41oySW+B90RGn5HnUr7R+gIPU+7NiadpfMs2Zw8D1iwH+vqu8wQ9YWH/wC8+NLfg87eFZG/+Y8fUnq/i9x8JmSuhN8L6Hx3F6CPjwbeS46WnuZ7zT+olpWzk+qVzzfbMvcxuOViJANxwnx51vX3vH/n/n4vcfElw5aL48vi/G/MfHUHqzB62qnqmc7O2lA9GC+4/P1S/Ok++JtdDbq9Jy0J+IFaN56o+28evSX8/F7j4sOEcmqGx8T++Rj433M9lowV2sm1qMo5vX8D6oKNm8rlF2Hfq+Nmj9YITLB8eL+i/P4vcfAoFriWmV+yXRL8dXVfhGPjaDoZQPH96g0YRW1bq5g9f6sUxDdC6PhFX3l4DvMSNh+2xEptLXu+P/RSvi9xriFvpRjLyPk2dC/MfHh+tUb2j8Jrvxl+rM4V6m4x0dPI9SL4PzqCu36Y1iH6csedOv7JdDX2Ox9AQ/lcAjZLPiq8zs5lx5pz8oEWwXET5Y+PFGyHY79mG5+9O0feL3QgK1zGenR9Y70yVTiPlIvavlBVJOhg9vodqmdnl4GtO7v5Rj9B30nkRToirlf4+6WSD/W7fPYSYrLH/wAFt262QO9j81AlBLXsNiMf/Bsayt4vj8zk+XYn6dZm2Dgix/8ACCihnAfRBLJPjKsicQ9UZUVl/wDhiloPabqPNP8ASMOX248M/wDYs2NPJFLSveXLl/8Ah1y5cuXLl/8A2MlUTqeI2xnI3F6Re2YN/imWOdUlv8MeHsOZth+gZg9IQ/8AER4/ZmU95S6Fd/oTpgZaKQcg/Q9z068RntWY8JjIgPdEUiU9PHsS0br2hFejo7saVJ6dDvLD07RHj+5L233U31XRT6yooTCJh7dW1w8cCgC1l26M52/2jVpHVvDLwPVoj+Kooi2t8sw39b+06pX6P0BEBV4JlC97Axo7nnOk/U2lms+gHniWf5TBlrmNyL7PxAX+9Ftv2GUitpD7H+rx1N5Y84Xwcl9BvFr0OOvnovuDRU7DKQO4NkhmFTP+SXpWh5+OEf8Aq94EFzrrd4IAe2eWmzN9GWCPQ7ekFQjSTZnn/U3Zl448efxKcO7q0dwhoglJiNnH04Os38eFr2seTozfAoBLZBGSwocr+dKwA2YlDQYGVSU+NUbgJd7v8jX2ue56Enhz5S3WB/68a5+6A9YX+khACsv2NEF23U3y6GbVem8bVexfNMo+f+vHCKOd+BPbNbwN2foAUmOXlJ7HPe9chcj+pT/+w8bZ2Be0Zp0OvtcNSm+uJf8Ay8bUvP8AaNr8/vKf2P3zoC1dneO7oA30YD/c3u1V6TK98/G9xx8HAUVcJ8gCa3fvHxoK0byjyPRWtF7Ro7VzLvqPy5J3WD7adrEZ5Up9zxvmyz2jH7014P8A3ICehs/0wO6Dk0w3un9/G27tPviee0faUk5uekFv6gm+gixepzKAR6rf4j72phPVH2PG11G4YupunO2LiAGp7B43saP2l/So++uSdl30YvgVxRN05K+unbNIffp+3jd8pWekPYop/Z8CfdbjsxO7TljCTmi8j40CiJOhHTzNyPKp2aiq2udKewivLT0KjqzcMK7vKOcDPm+NcPgYgBsl676HbEpQDXze28dXoZUEUiUm/wATKzoebL4H9F+OM7kzDMOXP+GIIInDrsq5PaVvzC/N6scq02vjgssv2YhkTIcd9OvOrYIFUBehA/Qf8oIN+3BFXMqDoWra+OG2/IPiUqgjpc7eXjmz9D/KUt1S0PcRKw/BUBX2k34Zjt3fH+s4dXr5RcbGR/qUSge3+5vhrtBnqPf8EK+9bfaJ1qhTo/N7ePJL+B5IXXHrt9SP5+U1LHJ9RG39L/eVadE/tia0/jy8eCSkgA3d4fgsVMfrYbH+foGbf0vKIKNdmI5a8lQ5fus2ej0SgxTnhErlbr/Brg11Gpx/zEW6fSYVR02Pb6HvkHTiB9XpOmvIiFpXv9D/ADRb/MU5fYiP3Bv/AM0BQBb0IvTLuVA7tbEf1hufQr70guIb/cfB5uz4KHObWVfiRiyrzREaSn5GY9VxFI8eI9uguf8AWQawnVXzgUI2Kb/HXJPveG6r56ygaHvP6hszqfibWfNqJ3wFFc4GKIcZcJW9SriBUr7EyGBvTdQECrsEGwfKy48cDcfEINuZ9oJzf0mKSb9S4wl1bvE9RYZm/wAuHHK2CbinlZcdAg3GV6FXTmGX5xwTOYupkjqX1u8E9UYZ8JZorbF3CHSphwO45gilj7kzyNgZiLfapFbA4YIK5DYMN6bqArRvDkCN1hWwOGCKXIev8G5RePFtRO4HEyeDrsSnxnXciQHbmDFMWtxnW8WZNpZHkmZvvtsiIETh+YKGdVkdoz1jtEb5GIZfnHBM5i6mSXHdyf0u8y7cBy4hgrvZ4YOsNorrEfa2XERpm982VqMGK9niX/8Afn3yTMw9G0c4ggIaeyVQhvkmduOrghfqBkhxytgnsVHM/c7EvswbuxPVGGZk2pfSCWlmVrbwRzA2dbyqburvMRjcYzyk+ydL/WlTGzgp5RdxIHpEPOO7cw+Ds1LI5ne3jwg3LcJRgR0q4jzvlgFTLn4i6xRi/tH3qwl3/VdoPD3O6WCBbJlAO2wPRYadYtehc7nuuPtAEU5vUud6ivxOq5JTCBmxm0hstOHrDRTmUb8JlxrL99UzEC3SC7KwXneMaWcA7RVrFpfaWaoAvpH5pfOZZxyqMaWcA7RVrFpfaXKoAuIcS+cw4lWAOCByEusDZVwYcsZuoxzQxLmP84bjnU5k3oi4chfYndB1lDac32v5v6HadzkJ1XJKYQM2M2kagy1+xFMisRcZlqJr4ZYba9x61OsEh6sYxnAt3BCsZeiWx18GI5FjhfaYOuy/Yi6qt2vE9j/BCRxy2wQkGPOXaAtR2VpYxFZBuCnWLXoXAOfdcfadty/cI6ODKbxl6d3zB2YFIdmSA0Y8CfPl+Qij6FiFPGQpxFiNz1qWjLYvpZEKDZHaOhcGjyqMqvp+Iqu6/wBRjT1PxEU3n/NiDJ5wlIqD6yxyu75Yxrn4gi5Nv6nDnudSP2VtxF3b3zKohWDdGHPhLa0O8r95c1NqB36xI5uL+oSFqSY+B5yIAyNmYDCYXwnluHpFG19cApkz0xgWXiXnbUxncfacxosYFl4iB21nFfdI/feM7j7TmNFjAsvEQXNZfknvofRJOmikjDjORAp1gIEITQqElUZ4LO/SV+55sBFX81lV/ogoibkJC1JMfA85EV31/E/TdYhrYCVXmWbxC+jcuhq/OdPgdwQwMpgxlnfVxEV31/GiGh/YTFju7Hs1LolTxOXLlTsbEvLQ7xrv6uaj+tjXlRC/nro6ipQTY3Yn6zr9fJiQ55lbpVfn/BMrzkz/APDg/8QAMBABAAIABQIFBAMBAQEAAwEAAQARECExQVFhcSBAgZGhMFBg8LHB8XDR4ZCgsND/2gAIAQEAAT8Q/wDzyOFOAWq5ARFQzlBH7+akzEZWcXSDGKjK8RZjUU+769eGSuAiwqBWe048tQWz2lKnLQgPZcarX0C7MpcUaYvgOU5BK8uQoXzlXAOyXrKGUGSI6ODfJoajwBHnLQkE2Rx0Uff2Ny9T7x7bqg1TYJS2Rec5ZfYvO2P8pj9vBRRDQvP4TiOAXQbsvi0ut0FIFMYFUnqRRRfwZTdkPorqIyqrBTnngGcSV06OqIC3aCxGXPZfKTCyCuofM072rN89YdWPq7mPR9qdsObx1e5zmuvJj3aOr2GLiuh04BEKWTLTIoLsDibOUiFwVvaeb+kXElThX8tyju/HP7BP7BP7BP7BI249Hf2j49tTTEblpalhzRH7IRCkTZgAFVoDVYlf1E0RRKTB+yKALVY+EBYW/a4CgFVoCJFXQva4v62islrmiv6g6EtOJRdQYWEKrhliveNaluKRKpS4gFQVyKombJ6bt3h40xfAwEZnvqighv2W8dKS8Ukk2eWacxV+HkgNxDR4UnkF7D+eWkqxKmUZqEo4vOXY4uBHKge66Df9cOu/3f7ERLRuuTX3AYVfyB7wXn/uUPssZa23ioKnX0avGcLgyUJ7M5XZ2Dskv6tdq9cIGvD77DKOd1re1wnfteYE2s6ORYV+0c93AwAM4rAh1PmBwKQtmFph/cR3lQdqieqworB6ReIAIVPnuf8AmDrMxj0WbU+9RmIeqxQRU2f6c8At6d/DlCqTqTEetpk0167Cr6BLy4XmyfA/xgxI0nCmDmWjKTcS1Qp4S/AjVFiNJPfRN2KLtRYNOF+AquZoJa2kR+h5wSlJ0l9AglqmQsOh18PMPsAXUtK/decuyhi2XS/0Ta0fVeONSSeNS9CP63P0hRGNVRXodYrPBkI2oHqRuW28jqsZ53M7M1aDvLaNJLXBkjlpHrcqrNR35+2fKwQ9CD93KwNXDlNYDq4R5xU0Ew2XGoPMq+vhVrCfAQ6rW3sDmguc5cRdUksDjEu/ANNJlNpPHLDU362lf2m65ncdvZotTX7lQ9aMK6Tdv/8AJJ+QLWBhN5J7GFj526GmSv7NmW7MM79rzGaKqOzbn3eNtqry8eflzmIp/nzZP+aFIPTTvsjn5c4jCysLZJmMGr9WDf8AsNpMmtS6j/8AwDlKjAwrfevCHnaLG4ILvTjdP5X8Z8D/ABjp/Q8J+y4eH9Prjn8/L9Dzi6CT6UKJWW2pQXRVfG3gu5QDZkylquqWu/xNyeCWr16j9Ur4JrZIgiCtclFRalQKmpANDlzjkgUf/ZSHerz3BEiFUg1FhF0G+iKSUEBjA1AINTIrDPd8N7Yvai26iTV4/wA2HG6oN/RPLFS82WGLcs/BTM+uzQKWLOW1R2oLKKb328LU7N8d3CtGaa0i4dd3YSTXQlcbYWSSLWjfuQc23vJyHqQLSZMALLHRiXnRhLbEsSq2CHL90MPXNQ7WSHZPWN9mGd+15gNqltTMgDCB3+KbdRGdjD1Io2qV2fTmbBSxdoMtmq3EwxoLDt4C9CrWIn9WRU7rhhZzeWAAM4fKBqM/T6Shf7FpqP6yBzcxajXXM1YkLYOo8CEFUWOdkJh2/wAr+M+B/jD28HKGAIEaEggSQG9AeG7wr4DNI/nUcHz8v0PPCiMCJd+d0uA6GJQW/eGa/ld5sKANys9PrKHdpJ70R0XWE4+eS7BewhdS6TDO6ceJ59ctDBPjqSpkoK5KgP3HwpzoVu4w232lwz7yxll6yDLbDhkUlyUO1xmMkzWG9LC8HwAnCxfR4BDyC+8A50tOH2oTBuUhqvkJIKv68SP3CGqmHc0IYHhiRXDULlKknpH8YV54bk9gCNwyi7oIH2bBAxFlbcyOZX4vCrz2O9daxCnWEriwtXMj8PIPsWd5RUk3CZsubHaKpVtW1h9OMgAAFFUFU/Q0jKRdsn60kpvx1bt4C6drcmzTc2mVxwa+RRVAeii3YhcSVuDZX3yk/wDwp/4Ef8CP+BH/AAIhirsrIoyt8bHmuzlClGVp5G5Fu3DsLbnoHEkBRGnRiG3EOMCCuQcB1Il/KD24ar4ToDvBCWZ9ZBbJm5hsJKDVe8nraetbAf8A7VzmptaPeUv7PAi86Mtkr4DNX25PrvWQANVYWe5Vem0NW0IbfWGtXsREaSn8yva0j/A6scTOgzeCM+mrQ3wfvD0i7rpkh07o+vZ/0gkdSRjy5QXkPf8Ar9D8yoiZjyvtX9J4NlWVXADFb9xeToqWRyUaGSyoAuAVRY8srPueWf532dEHrqApE1GP/nlqOMF1yJffPLoZfzm/IWFVej1wLm83f1x+bQ/mmFhCaF8cGWVZVcAMRjq7DOHrelMYDHZXrZII7lZ9jlZvl7/NMGfpkqRLTr9RIgBFAfy8BN1vnSjN3ytPdY/XuaJXJBPXkIYvectAir9itCDkWrOWqLmAndtkBdFszYUuNXigFJgFUWPLKz7nln+d9nRB66gKRNR/KiH0n9BiIlq2vg/QcYs9OHALYORdWzD/AE6dG9D9Zr2Le7rNzcfpr3IaqVJc/Un8VLYdzpNIByXIovzcFYesK1ByACuBhK3FN8Bbhl6VLlw9gtstPCSlpZuRix7qE5RFwiM1xOnNbRXpNm5fAghzqtPcKtGF3g4Et5qOPb2uInR3OFm7mk8Rfru9V8jBbd2PTLtLxambjhGkNUdmzyZjQLgliJyrZmVKHz6ER75agED+s1doI3ofrNexb3dZubj9Ne5DVSpLn6n5ViOyd6z5RUrdTzXg/QcZvqekwjuVZ6O9jg9X37S75P8AipZ6Bjg+8merae1Lx9d07S6fgZBx8sL5kHyH88U/Ey6biqnovun/ABUt37asr6QbVyPegcN/6/Qw0x2dzD3Ks9Hexwer79pd8/KvNHa7bdAvKdwSADuWvR0Zcwd6HuoEydv6nYhqmcsd4tWlSafr1r00bSvVviR8+502sLXpeX8V4KoUApGHtNai/HRUr+2bZkMPbnwc28IbqRQd1GUtq5RXFX5kHyONPxMg9g3zFXc1VWsGC+aN7BKkNfWQdMIiOokRvFe8quuOktAR0AGSO+eKlKk0/XrXpo2lerfEj59zptYWvS/5XYuKpBWWZb4PH7b/APLVi7rut78tryq4BnTmNmEIgAiI0iSgTgGqkZr0osshXF1g6lyFquasyznzucY1tOEZTHrsqL0c+SmlFZKs6GefFPvKZ2uqeSB9qsOryy2vKrgGdOY2YRwnU2xM8r8rw30qFOAbabsx+wWE33tG+I0fEIQBpVswZKIAdNIGE/nEA1qJZSzWLnZLuBEAERGkSUCcA1UjNelFlkK4usHUuQtVzV//AJA1fVr/AItX/C+on+FP8Rn+Iz/KnUf8JNEoqNyCblQDaBbZQ2iqHQ+F7PoZdCtiFtsW2jsqOyGAhPVfnuipjdRANRhsUdaYHQWbIx0k5kbhfec4lppHUTqJ1E6iUi208YmwX3nMg1kN4xOokNOY7F6RWikLsjUkfm2skeX96ZqgwxkOTtNWmHKAIDoJR4QXByKNVxGbHV4InhoiuoikeEatPpMhc++GNMHZm0+pHhrJ+YIUCzNFSbDbyzKKdiO5esxddcQAAaHgTq52hwsuv02wCDUy4BAQc0NDw8E+Ghs+RAAAGXAbIXPhdhfpgOUzqXwIOpEYAHTWGy9YmUU7M2+nkmpLiKkr8rfpGFqvSUW0AyNx3DU3VNGPAMq0bMDlAosOv7zD0ZcYu6kUPCnxYyYYnw0Nh+lxX04Cz5EXZHD3ow64tcBmlWsAyrRt8GpE3VDcNRGRqUWzN1+kbr8nHqshKVfSZsQOIjIVB9p9ZrxbihQRhA/rNd8OZUnDqVXgoqKRwzvNlT4UoByMqXXHUTWEJ8NDZdMdxoHTFaOBBY8gna5AtDlj6DhfJu8LaBSMCguZq2tIhQVx26mL7ftAZC5kZHpEZuo3Q/I0ACs3PZNiBMsFRW3NPMAtCDKClkGkYAjUrAtwW8GOb3IlKTPujkd7ZSscEnf5EKrcxrbWRgpFhDEKFccsu0dYpS4L8dHCLVdRGylQHCxXBCKGNt0AsS+9Azr8JebAIo+4Jl3QSBaEYRtZwVXRMCAaFQqqu7KLW1cRFHUcNfIrbmXC5kxGb3tiJEp/IKtyRkyibI9YNtmnmKNwgsTDlGVgYrxZERRgGtAiobhLguWZ6w3QkLT3UISlrqAERNyIlVr43rp7Itdvb40QjSRAirCz5a6jvlWxUAIuA5ZHpF4AILtQgWhEA6pbhRvjwMXAC1cdfIrbNn3TZjLFzH46tQuZtmgajOFtOk6+4kkh9sKtq0MD2sjpbM44WmZL4XrHG1QypofNg7lE1XEsz3yvScIDRHC3YZpJhktOpgjNTj0Ng2Byg1ZIu0yYtQ/GqzIjpwJkzRNyQDSIESy4OVQFs4O71l3NRqXZdiMnRNYZXLA24dsHktCjz7SqkprB11eU7xQrVuZu5IuxwEfXCwW+aXhO6oNuxCgUXEGbkp5qS9qkzHMfi6IAtgbzhD6M+E1iwnLAzL1MNW4PYzYXcnkmooM2gOffApWbXc8kMwFC9703BmyvWsGYUgofJckUCM2+NDMjZfkAjrU16YbQDLvNxRm4+5vBA8mR3uAtU2WBOc1ymXuXCFsWIkT8UqwnUm7P/SiwgBRLuxotrAelsItcyi10ljBSKKJgM1bPJ7Zxvukyv9SOjDNq67zmJDPw1dkqEDipCkSIge6a+Snuj+bgQJVRYldpaxyHmUEMjIMKi4ssuIJTFh/9KF3vzFKH4k1xuZwIIlAedzcXHcy7IJzc8rAGfKzRECkcGlfrh+UfYFh7J3dNpcqGvLSV2U/Wc5+45wfseg8moeRdCdvBgILVogG+XmwFcnPbjrsZDE85kxKBOWMU6c/iDPQjjZsTpGA9cLhAOZFAZGYbYdfAQ4NJs8MvaBF98LSgKHd8mbLR72qNGNC2YRql+fVRGVbfb0QV1cA9b+YeTpSApdzC2Ci9UbnNZvwTSw1cCKyMh3lagXIwB6zpGc7NyNmM/wAOIjIj+Pk1LDaMOykcYC2blsbLzzlEQjSTIleu/l1jo/cVwHVn3s6IzdZkS2K7860cfNrnCXnDRHS6rZjF3/a7uyy5iR23Xy6Hnyu0RKtrHz8s5QCycswftk5wNpmpJ/PyI/wwMv8AZOpdiBtyAAJb2NFtYPVmyhDZmfHhQmBnTOwaUs8I4koFrQvH74BQaY3TCAYuqMhj98iGo0/VSsOrz7xFqBc6kakOh2AwdagUxULeKI+J7Va+QPFaYX1BR8GS68WcAW1bBRKmVgLcjn3j1ZMoYUdhZZcAIxL5OpdyWfwoI9j8z+OkB6QBRhllayEaM7MQ2wAc3n2lB1zl4/2x3CzcIBxWf5sIfcVusu/wbhknUZIP82FUrqtv2J//AKMKloQXXilT/Ni8ySpkfQoOmcoAZOX3w26zAd4ltVlDBApgOk/lpEdn4QbM0az+DEziwAAYOFrz5MHTP1iBXM+DBDaaPGu2+9YKVKvbCFhS22KIolJHvoQSIa7KKlOvUjl+xl5T+DMjIqd9ACIeRYygRa+glhhqwK2VybxtD0jBg1WXLgApmsj+TEbqPwYiGm7OyCdCwABCxSawr7moI15qG2D0RNOI6v0CGLVVoOyQqsdFdsEKuGjLKDBtEi61QDPNIT8JGoR0GHYJeTkNgXUOgA4R9i136l1MEoTW8sMZHNx8IykQRXz9GNSU+JoYD040HeV8yGmBAKgdIARnQsvnDKQ+n4IaGrKd6rNlEGowRFDlCannm8MKLrApDfZfSEGcckSYI4PXqdGWC8ew7jm2p74BfavLvS4BQFIksBCTtWCDZWPPX7EMpEdyWD5D8pMAaTcFjtSXdBf0xAc91KLpgFtKMzlFEBkhgNUtTSfwhjoP4HlRml23LeD1sEWHLa2wtJm9Y1gGv1D4CDDqDiA9xTOhjpPrF7TFaqylRBUCBSSb+3hPlagoUiBTauar9iesgQaRNyEqjRI9cQxQzaNCLj0yPrU20uR0wP2GWXvhT6y/bltM80I/gNzRkaTnp4OoWprD2KiKMt73HRjIgWuj8DapWrnoMEBUAtgvuxoWh08DuOkqa6b4v31ANt5a+DIjDCSWb5k6p3uMD7dzZlWxu5+DoaEy4R+3Y2MAMstt2MCbI4AJWvnUjqbbffgVAnVOrKGabQyCAt0YWNy32McubsJHCfhJtysPIbXCWN5bbDBAFEuGwyhujrA62pERR++2tHaVLM3WZw1cKIOSEVdxKIESB3CSoAaw3/CdiGFtHild2GgVYF7CVAHRMM4NSXFmZpKsp3++LI6RCI2Ema4R6BgYjY5T2Fp+F5PzlYkI3uEUsXBuDOeCFIS8kZfvbOhBw0iCRgxmt6qCLG5DZJguKPdv8LQtDtgaSwMMbMPUq2jAWJeaTMnGZ96q70M2Hl6uRLVcS0maahG1bFgaxUgGkSkiApGE+KQQcK/hoVhN9T+d+REqqwUpGgC1mVMi0dYloM11SUoZr+pkyy4fvInermx6DQyIAAYE1hvsYVJx5blxfiNTlzSaE58u7TbYYACMel0cmB1DM+8UN6ZmZaasy14NUati1NdcKRvPMJ5l5IiUp+GhaEHa4OaJaF48O1FQKSV4GWGVo6kvq0c/u9KuuaPSaGRAADAUtSmMcJVFxR4oGz4CkOZXkdYLtrgXr3w0k0aUHSzdQppsMz3dxoyC7dEjuvvzflAFqsPqOxGpyN2tJVrc+rEhE0t9zA+iN2L0he7N1nB6mJxytAlCYihMcoqUsEERj0umjM6NT7tUNtWE3LkTXWCpTvUYza52wuhUY3F4P2QtjBm0vYCZUCM61DB9LOe/79IFMVtWgIs6p0B4GCRcWxzvZdg0hLQiGokKkz+2mI/WEsxXXBTPrl0mdjswNMwh5MmXxgx+5Xr3lOdpUGAqsUYfScLNf05mWvueEs0oytcuFb0ZKB3ap5HVbI/fccdZvPdeU4tLD+ZfedD7HVLX6fjhn8HR9QeWa/oRDsjhIqtrbhcEt3vLDw+6MQ1WNZGghueCJF+XEzMdaERpMELR7+Fn50kC4MuNXsK5VKpk+xPG9HAFrT+UPNazEapiqHTtQCqSfDYG+sNXERR1IjpyLiItmvPVSI74XuaqPU4FT1Pi8EKaKYAqgtmVhzRX2vwqjEd8jItvudzsigO8reXF8vThzIGrpSH+J0Cied2mArnffALiqcvuNhFE1mu97gk63IO9byE7lMkArT5tdvr5cqDrrAtDlgSCCxJ0QgAMPUWA/jsDFSrtuVgHtioqq8srqDAJW6j5uqQf364shCia1sHHASjBzdcvKwq9+zo/hq7OzdierWDedXBje8ksTtKTy+51XLnLI2uoRKsVkkpMQTpz6AJANiNIwCiQRi1qWvdcNKEyKOyS+NxgqqvlhREgCMvEtFETZhBpcOmUX5E+OwM+yYOWb/2wffVgKgQA3X8z1dEkYjatUtcG7hqrf2nXd6fQO07BhCBxOS4Kri6lryYv29DN2EybGUuSxctIWQgqozV9gzN0LawEEohqmKDspyiObMFvlYQWcGo6uAogoiQYhYVPhsLQQ38LDwM4LmmZ9IAhyNSt5NlkHYI1RkzhDAMjKAgVdCNFA2fsC5xUUIgnarrjUkXR3M4wuH7je8CV82VDrCiVWLYhvpDNUa5MyUn2FzXihEGLJUjBIzCjGD1Vws5dBBRsa8N0VVWROylq+AUbGLcrYXSpmsaq0jrH551lmsYv2EF0JqSHLlAt9EICLsLTLlL+BKbc4Mft1b5I8j0gVghaRnA/EAKvcwBfc+V+ftya0IkSkmZ2VWiR03ckHwI6PjFVpaWkLiOqBgBvhZUmC0jTceyeFRQVXTOgegJtxm95svkkAO1j2SPn2klvnXEQUF8xqtHGSIWlcGPI9JeOD9wIAHEZrBaCw1TSAeYdpzuefYsKrOsfdo8wyvc5nALAVcI/Rd5WkruvaLMize6tqpUuzu7ILohgAqhWryrXIvxodQHMMlas6VOPGVasyZkdYJYBq/PtU7sTPwHmGDXgYZKBf1hwY/bK71ncWUzGLRIcakcUPAyl+fHnkQjSQWIbYpovZG3HcdGM2Ba6PosFdbNdxWZs0F3YaaAJhRdB88wJlPsJSM1do+niqIWqziR2sc0HfmaBHJTz6xm+XEqUXNeXS8scgztrKUDr9vtfAwkKgbptuwuZM0mHNWefvCYt9/G0FGJdLaARd2afo7lycvG8BaXXkiuEcBZ7QR0Ejuyiu6d7IuXSUD3YN/QLOH3Hbbxh5VNHRfmAoAtZlINo7tZef+bCVG5yhFNNyC4ZUqg8mD9tq5jKngBAoMNMnZmqgdYb3ckbUUnI83kmeeE0r7VrFbQ1GKUN71CBGX9QFrtiuplJCkKKQURGkgeIbywijIlR09e/R5wVbBClKTOc4NiGFriVbG1GhAADYPm0KwHMjkO9T+hprk7uCWJLHkJM4wY/bKutHCEWUGquaz6Wc0Bdzzy4jMXqqOxlEE99RLT69dMvUocqe1X6WBgFMg1ZaBnPyvb+zHKxt0jz2pjsTS165T0OI54DU9EFrF+2Go4jM3DXc7TRm988GzoDyHnKCL5TW+uSHFBokrT+WTb/AFN0RApQGarGD+hbY2mJSbUEqWrKiif7eMsLJdfo3OU5x1lXNueKCVLVlRRP9vGWFkusAoLRcOWtGqi6+kaszXliLJcsSlHZ84HVjrNHK1QO2U1McBQYLuv24bLqRehg1YJA2mhv088KNjTKijgZq1ABwBqzAvCLZkLvoxPipRdg2CPaUK24BUvVp84TOBme76OhKn1VAxoAdiJTlMTm1dx8V6tPnCZwMz3eCi41dscr16WY9AeeBdBZonsxJdsBqj9HDQdcGP2o33oqkM71wNAcFo7hDV/tEKnWfmyiJOmUgMz5E5IieCsO44ziBkZImiN5U/UFYD4UjpMpLQ9l+hbdnOOUdQfoPHU/UFYD4UjpMpLQ9l8AigWZu18x8YCbwz5X5t0M1oxRMTojsTXVgcr1iuRrv4MftRuDoOWCjBIAtYhr7EQ1Xnn7YekpxHExwdxjWJbq6AasQWrY6rCEEqZAIuKN3dEC716yXy0l6lvWbar9Cg2Z9qdUuJ/Z8dcUbu6IF3r1kvlpL1Les21XwG2i1ZqlHGSKVqr52mD6KC6e1FQIkEnYcMFYDH7Ub7VFkYa7E04UNxekLa+bSl7E0PNlSFMo5sOzM2o9IiIpGnEUghAdZ/hEV/YEMxiMSsSkYB8vOiJGtS18dKwaOgXugX9EYrbdg7aHjRiViUjAPl50RI1qWvgA3FGZjzkcAFLt83T7HMlUztiLaV7EevahvsRZGD4YMftRz8F+MYUn0MpYNG2iLS8FOkGJoGBqrkGJS1NOs6S/JCk0K+sSlW1+otYGqEqVFrrE9jNEAGgUSnKevPrRbOQjlu7vlXrqAFquwTedtNeAwCkKI4FPRdzJXXip4iJPjPgoMftXwSfHnxJkPpGX6pLobNZaYULkeGmjQnUInBd3n/SyZvbnFmrCMlLhrRkryFlgOZDX+xDQruYiUIAQN06/UE98lsgXjRl14wtfKhCtjeNS/mkk+qKUO7LOvL2r1LABe1x5JjNUBHMEgfwcYnzj59bKzuEZcNLLYkAUsHSBhUeCFNpKTymhPgT48+C4MftWr0T4U0Po5stfGtpz7R4+CF1N49k5qLi5pXHrB1zJERp+wE1tblHrod+Zap2FLuUeN5Npe5Q7SJH7CgBpGyLNNVat4OCgC1aJst0gCzLHJXxLjrPodJ9DQz4U1+rBj9rHwpoJSlTPVc/SE/SE/SEpcNCxUuEDVXIIdOpES/g4K5xNUldg5WneFBlL70YXtKJx8jXxNXDJeo/qkGJU7LLdGRE4ZfYzQIwJ3SMfqlC1rDFjPtfKtONCGNFg3UCDe7ElrvAkFQQXVmp8b3hAuWfpCfpCfpCWPQrQqOjPhT+/Bj9q1emfCmh2+g0pkC1KhBc4AluitV81xQ5WEnLYYKLph5NuClcEJmDKWttr01eRphqF2INZ7P1SDDf/AMyCZRcNkzSIc5E9mVy9u4dyBGn6hpCuxNS9mJ6o8s09OFMu6XSAu51pk1wDFR7c5R9DUnwpr9WD9r+EYf4kDqk6ZQ5SvclOnusaY1bI8KpALBbmw+KLEU2JcNXom49GZJi3PhNgimrYk9BSj0LQeQo9DmQl0tLLyqRVK6r9UYM0ndma/O7BDYyp7zuSvg5Eq3YdnCvonHoQehwvr4EOdPJ6jiOwzO5lkiERGxIQuc39ahmQApzRr2yWmotdeTEgRLLzIKFxbqPZZewQjMVN58CfHnw8GP2p5Ea5+F9gBWgvBA8suZ+DSln1hly5cuAUkquFzoy8kESJThXjcQbbszED0ZpC+w/CZrlYRj9qddyhzesVwA6FzZvh7TcYRhK4k82olwrOZGg9Jr28Fn56Jwqzphnyqb1jIG18JE7s3XG/aodU98h9O4Mq/wC7JfMOZr6yuXbBMqQ60K7UatVo0qZayvhIldm6437VF7T3ymIppNDkPlJykW2PN0GBzJvmTlQ24lBW0YqgM3rFfowftaqIsvDFY+wAsokocsCoHQhFbxNYKWocnvHmLJysVlWy/CP6InL9a+2FOYA2er6l4DUDKdBfZlpYza2Aq+Jp+CfaU5aqX2mo3NAbPVjlALWGKI4ZqPXJ9hVOCm8sV/bRUnWG5rI64MgnmzJv57SQGd+bQQehmRAHSL2i9YrSrpEQImpirfgHajvZETN2sHJ+pl9ZeDAnTYZ2C26Aily9UGDSftWC1BcEVIHhidvBNEesyxC26PNsHKpe3Ph/eLiriUxZHWGpK364P2tUnDD3ELMYKuq+fGG4AUHolE3NHqtMpt8hLmlacmyHjmF0bplsNtQFGamg6RzJnrzNwfGoeYK+veFUdm6ek50CFW6MdgK6iwi7pNfJqpplYUl8qYOGvhGxRwxFI7fYVmIewhWnXB+2K/zGYO+GmhyweaF/R0vWbfOEBESK2iy9VN9hPSFgJSdeSvDkZmuPJXgmF9VBugfchhWoK36uIYizzz2uzGwFszUc7M184Nc20TdkvzSlbx5DhkCPtPt6wnDBd+s8GXDgpFXVXzz4FKCGgQJSCHGiXT8DYjNXUfNJTTZUqK9xVltmptQqlx/0Zbro7kSvPtwbguAo/WUoXXF+2ZUhXMIrDBSFdAmrkdWa/oRDSIl0ocjzesV2Qf2CEBWiGyr2ZZbD7wFaBX6YU9Xd0w+l2lrmolPLOYM/1JQG+UD6IK0CwSEySCROkuaQgca47naZP9oc0EqXVZXmklYDmTeJyTkbhn8cGK3A2ipMs4hMj7fVpyS7gMdiF3oYIFXz4oGmzLC8toMuVmTEUVXVX9JRT02Ni4UhPPZFDDxkavv5CP2RSJSJ9HLA8kygcoRSJSQ9XZYu2cWyo9M4ivQXGjHaRwrzejb1idyo6Uq5jLA4wftvSplEOLxD4ECEWR1ZuZ8EB5c6vPGCtmXdzNj+8pn33TzADS3yv6PwuFLR60FDecG9IKGg4YH4JPeNX9AGwEy7y6s1qg5ctzmLXB1IiCk1JeFuytzaUFHB/qXPa9yInmBASuu5N1rhlOzppCMQ9C3LB1+4EvpUzx1wosDtELZ3fsDygpURIqy55NRANHKy3h42rM/zWv0GDugIQIseUCdurgkkMrtHZYpyECdQeM9k6vWNjwmGQKz7PMHsGL3a8AhEZXd83JXYciXsHDhXl37c7MQX1hl+qoDOlYv26/jtxCG8VBw1xrlymYG8Gs3vyMA8hdDz6VAT64HHkZIsNqxjEAwphUDp9XeHVCxaWLhuujkw4dWQgxnZ8CiI0kJFGvivACg6Sl4WzL/+cERIlOFeSyTNI0zTWeSOaZDV0nJnEqKhYjLaU8h+41ptklvSZZXiMZqIzKirpF7RcKePsDo4N07xMnLKEA3rCaXXimbs28wb3GriKR1GU1dZYk0zCs2/04ompAg2oFdBga8kIi1GKrl3BoUjTLlOG9of5Dl9IUld/fkq0OZ/cqmVsMK8jkDTWAqsUZpaThmqErlFeZS+TLw4j9wVB4ZlIaywBVArM4eqirfSkezZX2JAuvVERNq2ziJQjJ6pYRHVKhVVhHuhnWBCCCm7T4bAxtYvTABGxOiQuGLpJtncuxhDzU21GXkFmf1LwLoGUSC86M1s0h1AiYV9dxNTULxsCyeSEaQcGkJR2kVp+5XO6Mhb5wbBjNIm810DgyMRAS0U8blxgaqtBDpdbfY4LohtP8Ma3uLA+vZeePo+WC0LhgkAqQLQjDNUtnWRCVBsSgdMuRwJ8dga7JeHPnByLBVhHkC8KzsctQHPci2S9gwrBZHsg5XYiw8Zc+6wX27ZRcuAY5w+X8EyQKNZ1+EVAaqIiYJF3aIIiG0WhZ2FnKjc/c6o2yTrKLq8YKUyytMNL1llQVBoHjFoWTyIkoA84LppMF7qo0dFOQJCwpsYW7w1N241vc8wNNkKJQVK5FcNDUI38ywz47AwGMRQ8KGhvadJFI6E1Dyd4E1IlcwXK9mDqnMJFCYZkGfdYyuj7M1WnQNiNDuu3wSFaAQ4Li1vtXYm5ta7LNzcXLXPVQvw7p1NSBKLgShX4t5RnHCqvM6yi9OMvuYoiQAeTOXZc1g3zBvlGLXAnSrpDlJS/DsWh2bimZiroGmAgX+llx1kPmiaREiJVtYKNjFWIA5hC4yKaNYNWwxVbfLXguF9Fl/qpH1rqmFXMugkdDb7oK2aX97Y7SlOHGgRcQpMF2VQwxn3YXIc1Cd4Iqq/dNc7koBK9wrysGG7ILFPMSKXL4aKl/eP5k25mtgQq/ay46zH74SiBNyCA9Iv2C7bMv1dclqlnsrT+1KmZf3tgahravOJpA8koBYJ3qzEKWudsL9liJoHu/dX4BgIclkZXgdQDcM4raLy4ZxXVQChNzwM5GeR+oxaQQUGqno4dbqInWlrmUImPqCVMF8CTl987wc9hF+Emu0VWuRHMuW0KWxGUahSQyu/comxjasrm4qDLqzqKVjFdK5wV6rgFQijEwENzPBBMEzgtj/dsvHrFEdGETgzpcmk3uvaZTfTYWIEW0eE+7IVtysCkUNuy8qBdB8yHBVjKH9+1moRvGCi5Uz8Su8hE18i03dFEOaq7+Rmkh0x96UeXlwFQIssw3w4MA5L5aKdFgTMs3oSpOr93XbNGAodyKjwUJUlZZYB3jYhQerVguMCsmb+EXhbsrdSlo4P9S6/vyJWBiSirrOLB61mKzLZwDqSqnPBQMIx7sZPZ94zLrCgdGCTgCXfvVUenDJcYPX4YIRGV384JQYLci9PRjAw1BhHyDFJtcdVYCzHR6EyXq/eXkdwlkRJOMHYaImlXbGF4DABTg4jgAvY/Crwy+OkOBB5gizxoynZHO2CmtvziOcHaaIgypPBbET70vHvE0x6zuZg1AMbB9wxEqqsKKV2IGAKX+F3PLrePVBLbsc4h/bBAMrvwdzZdfoSoB6/e3Iakv8AskRA6QRBJkVbWDthR1UZGbkq3K/hZpESFxXtO9BoMLaq4oCsAAaTpEIzLV++Z6hmZom5wXVwWcoXRTsYeuw7ES2Orb8JzynoEywvYMN8rVS4xH0GGxmZuqZa0ff5BtonesRbq93eVX5eUVW2IAQ1fwdZWLRwroX/ABM8L+Nse9RtoJlrV9/A6xObiZyg7QQCQr4OkWrQ0GD2g6qNQDTyfg5qFuQ8RhffubYZgW9VDzl2igVlB2i44EUp/AMrXNC6uzGTGBuU5945qr25wv2p1iowuT9RRFzUrfaCiTz/ACOAJCugFs/38/38QQRNR+wo1agLWVOebNEacOL3c/38cBTgV9IO6ls5Vrfvxg1VbrCh7c3hiwSLq7syUcn4Fov2lXaS/CYq6BhVtp+ZRoo2N8Eqi0fpW0Sq5tKlW7edRalGHtQBrRz4FphOJf8ARwRvr2WhH+rgqW4G6tf2C1QUuVURNBer0Fr2MOXeEQdql4U8/rGqMA7sfsA0qhSf6uKnMkm5fovDTVgprusP1KzQ2wHDhqwr5pV3nSaid/wMUbIW2Iz2d5Tp1wdQQWHMf0HTA4Tqt4pBWg+k/UWIScRN52q1ZmXBpQppAmQPu1Wft2Igz2q6W5mCHLW3uPsIWSIUiaIxJICkte1x6yADNV2JQcyh1Wf+nYYjDyM0SRknVD6RdAtw1yPMNsOYvWE8ovDATRrLOztBqNUW38ENJSTrbcwTCPXFGg+aAuBGGx07katrS/o0+FewU2MeuiXiHoMv8Iv15HUSkaNYwi2+3cBrVR5IQYp2nz9iVc8XpJdN/wDUZsdRKRvJEapcH+EhqmaUkP0QGlrf0EMaCsLnrhrxeYbYkeuCZ1DsR0mb+DC4XrUdSWWAHCg4DTIYaFcwHeXTQwBUAzhor9Y8Z8tojctusFd9j6kIGufrZR03ixlzavuPWQgdRIQKjtwkx5dZdl9hLJSWNH9Qj5PwkCtZW9MLwNaaAF2YNkfJOPEVAQLDmIgpITbLc5JUvJwG2xTqOZFtWAZZXScCDQjtfhF5NNyciGXw0gNmDMYF1zNFmgwoFnvRCexxBTlbEQBSNJ4Tztts31g3ggbPadEaoj37Ejd7P0kIAzHIOTqTVmsjXeYP0pYt0vJFPgtBoWg+wBCqfpLzmnHb7K2w5ddWLrJlKGBYUgH2ewWQhzQ8teSd6xLNVuvACoEugUSGklbshhc0eiHDo2nGAG2WR0i8IJYnTY/CrAabkHlDL6aQT1xQOX87LDochAVAhuaSy6RES1bWU1deYCqWORbF5LCumwzh31cL6bScQEFSAGqsPvY6hSD5+fEZkR6uZ5emrrKDUWyLJ5iAKSFdLc5hXO0nDiB6y+ukvhBLw6bH4ZfDTcnMhwcC78EB0WD4a0jvPRwISVqxEYul+YImel86KMCfIi8iUQu7K+qWyzHu2C6gIeQ+XjaXmcLnMY3OZAo57cKROoYGeuDhwIJanTY/DrIu5Mp+pENqHk1YIMbtnCQqWRg1HIyxCrVgp03Yqyg0puw0LVolptveUuyy+0tHUv8ACIH0lu1bx+05z99zgzfp5PJidy9zQ2qRplLSWra47BzKIAaRhM8jM5wdLLyBCMpORgeTVENqfwslm9B+IBEplMctxLL1OIqiIlmApEK8947JxCAqBKGGn7YPAortuxmslocDydeWeWRaoiYDTBh6UZPARA7ie6htl8HAKlv87eTRXRyc7iU1srpzgjeXaiIFI0wA6aDklAFDaG2CgWxVHQ1uJVNdhGSfiQkI0w65DzD7MoGsQmxx0V2u89ACG9oo4dAHAU1Gi+SrvAQ2SX6K6N/7XHcnCkZWKeSU0NdwFc25Ybmqdd3btVjMTC9JWvINNXgDAavXBm7Bgxs3G4zGUq1kHXEm1jTEPtzgLZjzFK1t/Fd8YdnSMWWQMmRwqVltsAEzFGXMLTANpq9oWmaoCoErmW2YKVNB+vpwmRR2SWIoECKm1c1cAnNYfuRFumqn64TdBbgAYtmRGNRqVnBiKA5IdICRht5FEw3BXGAWMzGLKIbOE2F/GCtr0hlaO4y4cjxBFDCcmIESwZbyJXXgOylFVV1ZwdWxNjuia4iwz/2xAVAjQBbPPoCCJjMajA2YtF2m8oLtnOCaPYZMf+xhfWsPXEKBQsJzYpphUzHiAVvsR+16fjQo2Ryvdmz05jNqk2pESxwuEhowe05jhpkmiawyuZ55EXbBp2IkQR1gC4gAtWiO6w28uFdrQhlUGkl0pNQSSrWRjts3ZnAxSIA1GyAGbVgdtz4MwpSnBQ1ZtSzbRNnhzGbyDmKrb+Ou2vSUhABejzHb25jsskEcKG+hRAtCA0zS8GaeHAJGCPapZZXQqnduA5oucOag1NU0lBFkBYiNPh4+K5oPVX4kRpKY2olU1aSEvUFw06oJG40QxGgMQBqNwhLKpw5nluBrdS4Chwy1JYKENlmj97czMNXmWBA7a/IaEW4Moc+GZzmRPpHZCoI6OClarCPvmEyRouFVugi2zPWkXa3VlJyGdWlK/wANw2kG5ZeZA5oM01AGaMpwUV3yabwj6s09VQgixFyvlQajt8GUJ2BnQwYURpGGt4XDq7Ow6jVmDDamAANltQSsUcFDVhshbF+kqXMhdL6EyQa/JApMjyILkL4ZnZmj1mZyRzITQsRGOlKsOqXbDrJ1gelytqzvFjt8qXJwMuXXDfeivBr8omX9DOD1YKk4EOfyYqD1gs5MPpGsM63warcUwRaSpItq46kxXIx63I5ZnLmgOb6Ey3Iir+UZctOsyxbdYbmHchc7pfoPrFaKhpExDBENMA5RV4EOvOvD0RUYO0l2vKhvsMdrgL8omTs4feYNIw31MPbeWAhlzHAu124W9heLrEgtC5foPpG51Q3Q7sygbZlQ0flurMHT1CC0B6M0kp6TNrI6E+sCCN4I45GZrjCmjd5waaLQYC2otCM0U4L8sjpuEjcWAMCigacFpV19cMhLaxUJuEDaDQn0mbUTWRXWC0odCBp6jNWPzEUnLu84V2mjDBRxdDn2jrRhuQb4kEgbQeK+8rGXyla+JLURCE9BY7EGlGGpy7w8FWrCA3u841FXV/N9eSF0DF6hNHMdWkXoJHacdsx0nwyvaLO0dB9p0PidKdKdD4nQfaWtvZLdoNZ8sN8w3nB6iw0YTUzA6jG6Amvr+fhaImjKD1pg94N5w68GmyH+zP8AQJ/oE/2ZRBKXrx2lF7QrQCas4tqv/wCA4pvtbhsbhakYjR1d7IDdW2twx1hOZr0Trv1B9/CI2plNeFLxy+q79JU6EOq7HXanKim+1uGxuFqRiNHV3sgN1ba3w7sGW/Tb1wEsEaZ4K9z+2JoCnK2z2ZtWOu5Flp2z6P5yOKiMqj+go90k2oljAHqq96GHpwOriE4totVxKRgLCzpi+c86lIJb2LQpRO77t2NyVXvcG3W52IHFRGVR/QUe6SbUSxgD1Ve9DwPWQAC1WE4PwkijG7TNuqC+8sUIbUMsK9usAFCv6th+c/A4/wA65XilNanuncDEFAKrQEq/vHo4Zc9op5N4+Bx/nXK8HNlqcI5ubduJmsK7R610y9psn3pKO/OblpqGvufnL4eTXafwwFfheKUZbJqjtMdMhESkTCjvf8pEzr62lg+Hk12n8MBX4WMQbMOnK9CLIrHbdQiPnhVVVYwfGEqbI6ou7S9mXtplrHwJW8rIRn3JNDdBLSjvzmHoPec1B5hUeoqUC7hD1AfipRt5fROrRKHl3AU6U/wZkRB4SaMESKEM3XFpB6D3nNQeYVHqKlAu4Q9QHKLjMRo7sHNTqilTmX1W3ElIaNPURm/vrt4LeyB4S2u7q7fzofki1IkCujXf7wTcQDBRbQrIcQxEFCkg2vCJLq9MTjgC5ULoMPyRakSBXRrv94JuIBgotoVkOIQRFvbQJSSutQGaOPALlos435bUGt2DA33bpa//AO9R1KlSpUqV/wANqVVj6SHpY4NSp1OUZoXqlmpeiSXGpyhG2scG5dUPpokqV/wruAdCGg/b5G30Slft8ydpBoRIn/CHq016LINRUAoPph0BSJYx6J1dRlIn/BhDMXckACj6qCIwmzlnysSJ/wAEL1mviEMYMAbB9cxAqRi2z1cyiR/HdnUoxQseJqM05EkXTFNeb7o9Tk+xDoB9LYeRIhrHqbkESP2BKoDcp+kQvXql1t94BS4C1XQCXZjyu/8A2kzHF2+0ILPtQ9oYENxjOrh2Q7puyLKNr3/hx+wLvM1vcMACjwhAbtSihM0FUuaOE1yxl7cPZ+iglMrwyW7mZEj58EhXQJXpfJhuTWa3QT4ZMyXPT7sAYKBsyT8SHJ4YFLkKRNEYHAPyHaW0/b2GoO55+1hpnxPjMVr3sywburREAIjSP0KBmo4EY+dEhm/BKAubIKp0DV7y0tr1YqJel2TLEXlwe8QJ0cbOSKrb90NO+9jojf5Ye342Q9R1smAZit5+T3tnsB4vjPCkeN1IsvF6Hrx4w3B2Bj50qtQ/ojs2uHwk+UwZzry/zKsPukEnsPWWCTNYPIHnKgFBsj47aN+rHnzXWf5/F8Z4gCII6jDxCsNB8QX03+LAx85dOgjFC7qvTHIRbGuI8aKqjBg9QYZ+3w+6CXUW+02P2m5tBE2F1WRb4gQKmgN1jHXN8/iwOD8nxfGeKkEbG72ICUNG8VQ8j84j5xhfAz8OgyZjTrDnnUA9t3PQxyA6190gkQNibJAB83uG949slxepK81f8+A3O70Hi+M8CoAC1cglMjfWjtG7Hu+Md0v9BiPnGG1B9oOez+GIzl2gg1GrcBjN3PtBCc2+7WHt7dU+Fjj/ANiUNt6g5XiCO33aqWvn73csrv4vxmJTwL+ziaO9mh9GqHL58Bj519SoNXvHLF4AFQC1jLgzPocRD76HB92Pzsc9rZvoUs1nZTcMD1jHJnbwubFOy+Ztw0hoOwbH2DXmGHrsydHxJIlKUWQYF3t2Kqq2v0U1pCehNQB3Ax86CREbGUcC5hpi6Qm63YRDK/dmctzdfQlA0HL+z94ChmjX7kLBEbMgtLqxQMOrHt1+xlvpdfkQo93phxRj5/JxHGpAjV9yZf7QEQUK7v4/VmeyaC7kN1ufX2NNDl4loBbYosf+BEoC8lExIsn6of4r0vIccUUWP/AyWnmLRhHP7v0zWl2GsX906OhgKLH/AIIQYQB6Iwmv2u5Ow+nx12vVhF/tNiNTWqxhYsX/AIMQYMLkWiqZUAPB/smn70U6LsKbgdwJ/wCvGwBODFTRqq2MMMLF/wCEXBgwfEBhhYsX/hdy5cuXLly5cuX/AMOuXLly5cv/APUGr4HQHdZcx1jUhF+2CoXZ6lIG8rGoFYNiJclLRsIpBEaR+wCl90yUri68TaZd6ih70KkEPH4r7EOJLLq0hP1yWzYt1TR9jW620j1YbfSgzvP3ZDHutPsx6wNKKTz99gvhGMcUN4t7ixy2ZgKYTQ1uB78tZU6tigKN7PwyywpaD0UB6VDZdI0ZAPo5e5556yAALVZYoLJm/wDaBwcfa7EymaIp6NoQsHp6nsxPf1BYcmq/+kCba9/8PsByLUBayjkSnmj2ild0GXq3HOhqwPd4OWIij5+sawe0VzOQ/wAoyh2CMqLxFej1mgAHXB75LMK7T/2JTuxzLQ+eFqFi6kYBa4DoyDCzmUaHrwBwpgwgGNhj2aiywuDTZpPiZdme588157ltAay3wKvdynP+SX0xhahz/gky0oBvQq2PWQIjSJA8Gh1Gxm0eL5NR89d8WrsOWDbSM7XBWZ5pbWCICikSxld5SvlAiqVbVt8/eovY0pwajurhmsYDss/+jQhDg4BthDJ925Toy+UAcJ51+kbw2N2KvD6/g+fuecEB4nK1Jdy1nitHnXzclKplw1D285eYd6I1cF6RNkVSiq2rAtC6hIyS2F6ljC71FMgDW/5fPMtwDcGxin1E/RcYIIiWMIPR+k7fYDDunZ2gz9zz4OO5/JmDMUZnncmv+YhJaHPBRpZ2j1cbM1nzTzpJbfAuK2o/dAm8rubYWPCZJbYrSgtusDWRglocCCY5S2qCpfTo9dPOk5oZ7XnioCszirupC6w48Q3un0HnQAKmgM1WJB4WC398Xj3bywAWEU+qA00QzBuveRYOPr7Y3Adx8g86NjT58bDD91ibe1QmhgfwUmozQvVJs4HTvrVC+dJ9okHNv6mpVQkPcTUGnR/9IqlVVbVweq5dwjmZJfYQ90vTcjUrv77P51i3Fpez3JABQCyO4zjDgsfVKMUFm9PnRe0X9VxwdPa4/wBY0tyAC5ZnW713qoRS7auqtwU0t9zYTfeijzrGUVuquHtdL8GQQpWYghe6TdmcQx+ht6w/7mLoedQCkbGCQsAvTkyHFKyfaIkKbVzXCyjgOCuu7gnpYV7WQvf1fWsId7WPO/Ve9gYstgDyOK099VNoTK9jEADmnYMjz2sSv26D6x7yEDqJ4sktJ1SC3gr3PPCeRX18wSmdyHmUYtSFI4iBLeAma8y5kPDSRuvnkVfWOk78FmqLcYOWbgLwhD2goKKLA9p7PWD4W2OURhzS88nYiNlkbr54HSzPEBxjtZl0CocDQ89artY8cQGQmaOIIkERpHwGHA5plGVRV58pKrb54ocd9ecxm0w2X9YEuN1J2MPl2iZNt1sNejBodov7Atmp/qKqT0NxGx5+nRZas2qXrUw3g3ZsQ92MF8FW/wD7Q55E7L5kthfYcDz7iVWJqMBB6WQiCYsCcDd7Eo8WXy9fsBsJZz3dU1h0ZuT7m8KtX1P43GuWOi/1AbecSdNmUAqaaltFr+DEhXRShQIOmwqh7UmKBqP4vsYqvXj2MIpe9JyUPSIratVWv2IURGkh1U+IRdPojL0/1v8Amh66NAWsy3ZdMvmPXfQbxP2vNvsQiKNb6e0FURyh4HS9A1Qoe/gNYhttRyX5mx1yILkBqJT9BAgUiwoO8rKtI0iWdTzAihGq9PbA5eT6gB9Yy7WwA6Lr43OmtKZPLGyNNuohM41SbT5P+UYYqmB2w+BxDUEoNmJ+2MV3lePqR2lTDIAWlaTWGYnIxCUV0lDw2oFqzJI6yhzC0Ck8xpIoO4oFUPDJYkgm90LCPQD1Y5tHVwGAXMLQLWcnzE/rQKRho/aMdJbHlwNXECCg2hiCt+0dxYtsnVwHlCwOwntG225KQhdR9CBdhRYMoFaBcbQdUcBM1kIQSFsKNxTl60HqVAAKmgJUBCiAdM8prAQg+bYEbnc2Ap3qE6SLoJiSkpUCXJaWkDEqtBSFC8VLZcHzWHWejMgJysh1LtDd91T7u02l7qOBakKR+od6IcxpLcVvOBYwuFUrHlwNXECCg2hiFhj0xLvoRHobypERuRelkUP3jsJHlXchW1aTL87paEAIjSOowlRCwrQYY9QvUlv4U7L9oWFYFI1dIdLAiLJnoBIl/HaugdndY9xgvusQcwtAtZbId0rAQHZyQDMpUD1YtsnVwEpkuUUyHeDIzAVt1eSuuOXChmglBWRood9GnCDNJqVByGWMTMQxnOHjFbMc/ktCWxAQVLbGZGTgaylq1BvoTWNC/EdSoGzECfXmwoz6QQlNrexUGYHHofMANlAuC0U64Nof0QxtaAUqKlngKqYmyRPnRUx9SawK9qBfkV2wA8kVb0bKhwRjsATPWr/cTQDkl2fQlXx+ez1gV222mK5Mm6nrmeUu3Q+YMVXpTeEtqPd6b1DF5vmQAcEAk7yFqj51CYpWo+byG5hJn+Bp4Vl5vmQAcEAk7wFqiglU9QpWoullXyCWdEuAByKlJArLB9IEu1Kob89qZyq4kM5SghsGhXO2ajpM6Dyu9yAc2aq9oCiP7wPq/P8A45mrWed2pQDkl2fQlXx+ez1hCCHOsRRasKHWkAkChZ81WpW28HrlJNpXeGm4A0QsAsXYrC5b3AF5ArZS4l+5zyWL7EhKjJvLbM20il7DDEeG55ROouQyQR93hqo9tovbdjXJuV/iu2DMozKV6NlQaej3kRuN1yyoL91g8k9Nohc05P7FEjlztUZPItgGtdxgvQAMFNXKGiJXCsmWEe3EoCGU/u1oYri6zQY4sdyoqMeAqP8APAUgB/yjChH+DFjNNEhyATF0uelkmNzZdrg8E8wBAl3vXNTxdBNRifxHKPMIx1cOUW5WbTL2INVyviktoKU3ALMxciOjUBoo6VJnth5gZ6uAm4LAXT1HyjdR9h58pfmtX0TGLPo7uoRjMEwBmDYHoxzuL44ZYxVitohSECeiwDMGwPRj+Q3+5H5z/wCNRFjFWK2iFIQJ6KQDMGwPRi8Y3mHyMQgKmjppgcjz3Vo5gbS6PIyhuIWdcsyOx3T2iqaoOxaQK7P3nzqPddJsX6p2EV/jjtUgjwmHMDPVwE3B2EUmgdaCJEBP6Jl/4PRBI0DmZWIwCNNZJTBW2EBpLHPIYC06gqHYRTDGRUEmU2GqekG7qkbYyVbbQNBGpbZeSDRKiNQaClIxmKt7VBkloeFREProN0PF3FVcLtVpELm/877+VaTdfQWkHOojmLTzNvP2s5w+Vl6P/wAOH//Z)"
      ],
      "metadata": {
        "id": "z2-mi9ftTH53"
      }
    }
  ]
}